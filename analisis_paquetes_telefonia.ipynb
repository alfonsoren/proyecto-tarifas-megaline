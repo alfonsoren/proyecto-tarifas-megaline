{
 "cells": [
  {
   "cell_type": "markdown",
   "metadata": {
    "id": "3rYiDeEH0q0f"
   },
   "source": [
    "# ¿Cuál es la mejor tarifa?\n",
    "\n",
    "Trabajas como analista para el operador de telecomunicaciones Megaline. La empresa ofrece a sus clientes dos tarifas de prepago, Surf y Ultimate. El departamento comercial quiere saber cuál de las tarifas genera más ingresos para poder ajustar el presupuesto de publicidad.\n",
    "\n",
    "Vas a realizar un análisis preliminar de las tarifas basado en una selección de clientes relativamente pequeña. Tendrás los datos de 500 clientes de Megaline: quiénes son los clientes, de dónde son, qué tarifa usan, así como la cantidad de llamadas que hicieron y los mensajes de texto que enviaron en 2018. Tu trabajo es analizar el comportamiento de los clientes y determinar qué tarifa de prepago genera más ingresos."
   ]
  },
  {
   "cell_type": "markdown",
   "metadata": {
    "id": "VNddPNRQ0q0w"
   },
   "source": [
    "[Te proporcionamos algunos comentarios para orientarte mientras completas este proyecto. Pero debes asegurarte de eliminar todos los comentarios entre corchetes antes de entregar tu proyecto.]\n",
    "\n",
    "[Antes de sumergirte en el análisis de datos, explica por tu propia cuenta el propósito del proyecto y las acciones que planeas realizar.]\n",
    "\n",
    "[Ten en cuenta que estudiar, modificar y analizar datos es un proceso iterativo. Es normal volver a los pasos anteriores y corregirlos/ampliarlos para permitir nuevos pasos.]"
   ]
  },
  {
   "cell_type": "markdown",
   "metadata": {
    "id": "MQi4IPy70q0y"
   },
   "source": [
    "## Inicialización"
   ]
  },
  {
   "cell_type": "code",
   "execution_count": 1,
   "metadata": {
    "id": "MtYIuBxu0q0z"
   },
   "outputs": [],
   "source": [
    "import pandas as pd \n",
    "import numpy as np\n",
    "import matplotlib.pyplot as plt\n",
    "import seaborn as sns\n",
    "from scipy import stats as st\n",
    "# Cargar todas las librerías\n",
    "\n"
   ]
  },
  {
   "cell_type": "markdown",
   "metadata": {
    "id": "4ysWWC5i0q00"
   },
   "source": [
    "## Cargar datos"
   ]
  },
  {
   "cell_type": "code",
   "execution_count": 2,
   "metadata": {
    "id": "CCqPW7rS0q01"
   },
   "outputs": [],
   "source": [
    "users = pd.read_csv('/datasets/megaline_users.csv')\n",
    "calls = pd.read_csv('/datasets/megaline_calls.csv')\n",
    "messages = pd.read_csv('/datasets/megaline_messages.csv')\n",
    "internet = pd.read_csv('/datasets/megaline_internet.csv')\n",
    "plans = pd.read_csv('/datasets/megaline_plans.csv')\n",
    "\n",
    "# Carga los archivos de datos en diferentes DataFrames\n",
    "\n"
   ]
  },
  {
   "cell_type": "markdown",
   "metadata": {
    "id": "69qqoJ3r0q01"
   },
   "source": [
    "## Preparar los datos"
   ]
  },
  {
   "cell_type": "markdown",
   "metadata": {
    "id": "vUuZw80S0q01"
   },
   "source": [
    "[Los datos para este proyecto se dividen en varias tablas. Explora cada una para tener una comprensión inicial de los datos. Si es necesario, haz las correcciones requeridas en cada tabla.]"
   ]
  },
  {
   "cell_type": "markdown",
   "metadata": {
    "id": "ohBhimvH0q01"
   },
   "source": [
    "## Tarifas"
   ]
  },
  {
   "cell_type": "code",
   "execution_count": 3,
   "metadata": {
    "id": "GptqP3Q40q02"
   },
   "outputs": [
    {
     "name": "stdout",
     "output_type": "stream",
     "text": [
      "<class 'pandas.core.frame.DataFrame'>\n",
      "RangeIndex: 2 entries, 0 to 1\n",
      "Data columns (total 8 columns):\n",
      " #   Column                 Non-Null Count  Dtype  \n",
      "---  ------                 --------------  -----  \n",
      " 0   messages_included      2 non-null      int64  \n",
      " 1   mb_per_month_included  2 non-null      int64  \n",
      " 2   minutes_included       2 non-null      int64  \n",
      " 3   usd_monthly_pay        2 non-null      int64  \n",
      " 4   usd_per_gb             2 non-null      int64  \n",
      " 5   usd_per_message        2 non-null      float64\n",
      " 6   usd_per_minute         2 non-null      float64\n",
      " 7   plan_name              2 non-null      object \n",
      "dtypes: float64(2), int64(5), object(1)\n",
      "memory usage: 256.0+ bytes\n"
     ]
    },
    {
     "data": {
      "text/html": [
       "<div>\n",
       "<style scoped>\n",
       "    .dataframe tbody tr th:only-of-type {\n",
       "        vertical-align: middle;\n",
       "    }\n",
       "\n",
       "    .dataframe tbody tr th {\n",
       "        vertical-align: top;\n",
       "    }\n",
       "\n",
       "    .dataframe thead th {\n",
       "        text-align: right;\n",
       "    }\n",
       "</style>\n",
       "<table border=\"1\" class=\"dataframe\">\n",
       "  <thead>\n",
       "    <tr style=\"text-align: right;\">\n",
       "      <th></th>\n",
       "      <th>messages_included</th>\n",
       "      <th>mb_per_month_included</th>\n",
       "      <th>minutes_included</th>\n",
       "      <th>usd_monthly_pay</th>\n",
       "      <th>usd_per_gb</th>\n",
       "      <th>usd_per_message</th>\n",
       "      <th>usd_per_minute</th>\n",
       "    </tr>\n",
       "  </thead>\n",
       "  <tbody>\n",
       "    <tr>\n",
       "      <th>count</th>\n",
       "      <td>2.000000</td>\n",
       "      <td>2.000000</td>\n",
       "      <td>2.000000</td>\n",
       "      <td>2.000000</td>\n",
       "      <td>2.00000</td>\n",
       "      <td>2.000000</td>\n",
       "      <td>2.000000</td>\n",
       "    </tr>\n",
       "    <tr>\n",
       "      <th>mean</th>\n",
       "      <td>525.000000</td>\n",
       "      <td>23040.000000</td>\n",
       "      <td>1750.000000</td>\n",
       "      <td>45.000000</td>\n",
       "      <td>8.50000</td>\n",
       "      <td>0.020000</td>\n",
       "      <td>0.020000</td>\n",
       "    </tr>\n",
       "    <tr>\n",
       "      <th>std</th>\n",
       "      <td>671.751442</td>\n",
       "      <td>10861.160159</td>\n",
       "      <td>1767.766953</td>\n",
       "      <td>35.355339</td>\n",
       "      <td>2.12132</td>\n",
       "      <td>0.014142</td>\n",
       "      <td>0.014142</td>\n",
       "    </tr>\n",
       "    <tr>\n",
       "      <th>min</th>\n",
       "      <td>50.000000</td>\n",
       "      <td>15360.000000</td>\n",
       "      <td>500.000000</td>\n",
       "      <td>20.000000</td>\n",
       "      <td>7.00000</td>\n",
       "      <td>0.010000</td>\n",
       "      <td>0.010000</td>\n",
       "    </tr>\n",
       "    <tr>\n",
       "      <th>25%</th>\n",
       "      <td>287.500000</td>\n",
       "      <td>19200.000000</td>\n",
       "      <td>1125.000000</td>\n",
       "      <td>32.500000</td>\n",
       "      <td>7.75000</td>\n",
       "      <td>0.015000</td>\n",
       "      <td>0.015000</td>\n",
       "    </tr>\n",
       "    <tr>\n",
       "      <th>50%</th>\n",
       "      <td>525.000000</td>\n",
       "      <td>23040.000000</td>\n",
       "      <td>1750.000000</td>\n",
       "      <td>45.000000</td>\n",
       "      <td>8.50000</td>\n",
       "      <td>0.020000</td>\n",
       "      <td>0.020000</td>\n",
       "    </tr>\n",
       "    <tr>\n",
       "      <th>75%</th>\n",
       "      <td>762.500000</td>\n",
       "      <td>26880.000000</td>\n",
       "      <td>2375.000000</td>\n",
       "      <td>57.500000</td>\n",
       "      <td>9.25000</td>\n",
       "      <td>0.025000</td>\n",
       "      <td>0.025000</td>\n",
       "    </tr>\n",
       "    <tr>\n",
       "      <th>max</th>\n",
       "      <td>1000.000000</td>\n",
       "      <td>30720.000000</td>\n",
       "      <td>3000.000000</td>\n",
       "      <td>70.000000</td>\n",
       "      <td>10.00000</td>\n",
       "      <td>0.030000</td>\n",
       "      <td>0.030000</td>\n",
       "    </tr>\n",
       "  </tbody>\n",
       "</table>\n",
       "</div>"
      ],
      "text/plain": [
       "       messages_included  mb_per_month_included  minutes_included  \\\n",
       "count           2.000000               2.000000          2.000000   \n",
       "mean          525.000000           23040.000000       1750.000000   \n",
       "std           671.751442           10861.160159       1767.766953   \n",
       "min            50.000000           15360.000000        500.000000   \n",
       "25%           287.500000           19200.000000       1125.000000   \n",
       "50%           525.000000           23040.000000       1750.000000   \n",
       "75%           762.500000           26880.000000       2375.000000   \n",
       "max          1000.000000           30720.000000       3000.000000   \n",
       "\n",
       "       usd_monthly_pay  usd_per_gb  usd_per_message  usd_per_minute  \n",
       "count         2.000000     2.00000         2.000000        2.000000  \n",
       "mean         45.000000     8.50000         0.020000        0.020000  \n",
       "std          35.355339     2.12132         0.014142        0.014142  \n",
       "min          20.000000     7.00000         0.010000        0.010000  \n",
       "25%          32.500000     7.75000         0.015000        0.015000  \n",
       "50%          45.000000     8.50000         0.020000        0.020000  \n",
       "75%          57.500000     9.25000         0.025000        0.025000  \n",
       "max          70.000000    10.00000         0.030000        0.030000  "
      ]
     },
     "execution_count": 3,
     "metadata": {},
     "output_type": "execute_result"
    }
   ],
   "source": [
    "plans.info()\n",
    "plans.describe()\n",
    "\n",
    "# Imprime la información general/resumida sobre el DataFrame de las tarifas\n",
    "\n"
   ]
  },
  {
   "cell_type": "code",
   "execution_count": 4,
   "metadata": {
    "id": "64xzjwL70q02"
   },
   "outputs": [
    {
     "data": {
      "text/html": [
       "<div>\n",
       "<style scoped>\n",
       "    .dataframe tbody tr th:only-of-type {\n",
       "        vertical-align: middle;\n",
       "    }\n",
       "\n",
       "    .dataframe tbody tr th {\n",
       "        vertical-align: top;\n",
       "    }\n",
       "\n",
       "    .dataframe thead th {\n",
       "        text-align: right;\n",
       "    }\n",
       "</style>\n",
       "<table border=\"1\" class=\"dataframe\">\n",
       "  <thead>\n",
       "    <tr style=\"text-align: right;\">\n",
       "      <th></th>\n",
       "      <th>messages_included</th>\n",
       "      <th>mb_per_month_included</th>\n",
       "      <th>minutes_included</th>\n",
       "      <th>usd_monthly_pay</th>\n",
       "      <th>usd_per_gb</th>\n",
       "      <th>usd_per_message</th>\n",
       "      <th>usd_per_minute</th>\n",
       "      <th>plan_name</th>\n",
       "    </tr>\n",
       "  </thead>\n",
       "  <tbody>\n",
       "    <tr>\n",
       "      <th>0</th>\n",
       "      <td>50</td>\n",
       "      <td>15360</td>\n",
       "      <td>500</td>\n",
       "      <td>20</td>\n",
       "      <td>10</td>\n",
       "      <td>0.03</td>\n",
       "      <td>0.03</td>\n",
       "      <td>surf</td>\n",
       "    </tr>\n",
       "    <tr>\n",
       "      <th>1</th>\n",
       "      <td>1000</td>\n",
       "      <td>30720</td>\n",
       "      <td>3000</td>\n",
       "      <td>70</td>\n",
       "      <td>7</td>\n",
       "      <td>0.01</td>\n",
       "      <td>0.01</td>\n",
       "      <td>ultimate</td>\n",
       "    </tr>\n",
       "  </tbody>\n",
       "</table>\n",
       "</div>"
      ],
      "text/plain": [
       "   messages_included  mb_per_month_included  minutes_included  \\\n",
       "0                 50                  15360               500   \n",
       "1               1000                  30720              3000   \n",
       "\n",
       "   usd_monthly_pay  usd_per_gb  usd_per_message  usd_per_minute plan_name  \n",
       "0               20          10             0.03            0.03      surf  \n",
       "1               70           7             0.01            0.01  ultimate  "
      ]
     },
     "execution_count": 4,
     "metadata": {},
     "output_type": "execute_result"
    }
   ],
   "source": [
    "# Imprime una muestra de los datos para las tarifas\n",
    "plans.head()\n"
   ]
  },
  {
   "cell_type": "markdown",
   "metadata": {
    "id": "mEc_3_hs0q02"
   },
   "source": [
    "[Describe lo que ves y observas en la información general y en la muestra de datos impresa para el precio de datos anterior. ¿Hay algún problema (tipos de datos no adecuados, datos ausentes, etc.) que pudieran necesitar investigación y cambios adicionales? ¿Cómo se puede arreglar?]\n",
    "\n",
    "* Podemos obversarvar que la cantidad de internet inlcuida por mes se encuentra expresada en mb pero la tarifa extra se encuentra expresado en gb, necesitamos crear una columna que convierta los mb a gb para que sea mas intuitiva la lectura de los datos."
   ]
  },
  {
   "cell_type": "markdown",
   "metadata": {
    "id": "R3C05i1l0q03"
   },
   "source": [
    "## Corregir datos"
   ]
  },
  {
   "cell_type": "markdown",
   "metadata": {
    "id": "bIi8StZI0q03"
   },
   "source": [
    "[Corrige los problemas obvios con los datos basándote en las observaciones iniciales.]"
   ]
  },
  {
   "cell_type": "code",
   "execution_count": 5,
   "metadata": {
    "id": "Y7SVmjGn0q03"
   },
   "outputs": [],
   "source": [
    "# No se encuentraron problemas obvios en el DataFrame"
   ]
  },
  {
   "cell_type": "markdown",
   "metadata": {
    "id": "LJir7bml0q03"
   },
   "source": [
    "## Enriquecer los datos"
   ]
  },
  {
   "cell_type": "markdown",
   "metadata": {
    "id": "eqADpCfg0q04"
   },
   "source": [
    "[Agrega factores adicionales a los datos si crees que pudieran ser útiles.]"
   ]
  },
  {
   "cell_type": "code",
   "execution_count": 6,
   "metadata": {
    "id": "gfcIEuXV0q04"
   },
   "outputs": [
    {
     "data": {
      "text/html": [
       "<div>\n",
       "<style scoped>\n",
       "    .dataframe tbody tr th:only-of-type {\n",
       "        vertical-align: middle;\n",
       "    }\n",
       "\n",
       "    .dataframe tbody tr th {\n",
       "        vertical-align: top;\n",
       "    }\n",
       "\n",
       "    .dataframe thead th {\n",
       "        text-align: right;\n",
       "    }\n",
       "</style>\n",
       "<table border=\"1\" class=\"dataframe\">\n",
       "  <thead>\n",
       "    <tr style=\"text-align: right;\">\n",
       "      <th></th>\n",
       "      <th>messages_included</th>\n",
       "      <th>mb_per_month_included</th>\n",
       "      <th>minutes_included</th>\n",
       "      <th>usd_monthly_pay</th>\n",
       "      <th>usd_per_gb</th>\n",
       "      <th>usd_per_message</th>\n",
       "      <th>usd_per_minute</th>\n",
       "      <th>plan_name</th>\n",
       "      <th>gb_per_month_included</th>\n",
       "    </tr>\n",
       "  </thead>\n",
       "  <tbody>\n",
       "    <tr>\n",
       "      <th>0</th>\n",
       "      <td>50</td>\n",
       "      <td>15360</td>\n",
       "      <td>500</td>\n",
       "      <td>20</td>\n",
       "      <td>10</td>\n",
       "      <td>0.03</td>\n",
       "      <td>0.03</td>\n",
       "      <td>surf</td>\n",
       "      <td>15</td>\n",
       "    </tr>\n",
       "    <tr>\n",
       "      <th>1</th>\n",
       "      <td>1000</td>\n",
       "      <td>30720</td>\n",
       "      <td>3000</td>\n",
       "      <td>70</td>\n",
       "      <td>7</td>\n",
       "      <td>0.01</td>\n",
       "      <td>0.01</td>\n",
       "      <td>ultimate</td>\n",
       "      <td>30</td>\n",
       "    </tr>\n",
       "  </tbody>\n",
       "</table>\n",
       "</div>"
      ],
      "text/plain": [
       "   messages_included  mb_per_month_included  minutes_included  \\\n",
       "0                 50                  15360               500   \n",
       "1               1000                  30720              3000   \n",
       "\n",
       "   usd_monthly_pay  usd_per_gb  usd_per_message  usd_per_minute plan_name  \\\n",
       "0               20          10             0.03            0.03      surf   \n",
       "1               70           7             0.01            0.01  ultimate   \n",
       "\n",
       "   gb_per_month_included  \n",
       "0                     15  \n",
       "1                     30  "
      ]
     },
     "execution_count": 6,
     "metadata": {},
     "output_type": "execute_result"
    }
   ],
   "source": [
    "#Crear nueva columna con los datos de GB incluidos por mes\n",
    "plans['gb_per_month_included'] = (plans['mb_per_month_included']/1024).astype(int)\n",
    "\n",
    "plans.head()"
   ]
  },
  {
   "cell_type": "markdown",
   "metadata": {
    "id": "1n2X6WXf0q04"
   },
   "source": [
    "## Usuarios/as"
   ]
  },
  {
   "cell_type": "code",
   "execution_count": 7,
   "metadata": {
    "id": "2NgjWFqx0q05"
   },
   "outputs": [
    {
     "name": "stdout",
     "output_type": "stream",
     "text": [
      "<class 'pandas.core.frame.DataFrame'>\n",
      "RangeIndex: 500 entries, 0 to 499\n",
      "Data columns (total 8 columns):\n",
      " #   Column      Non-Null Count  Dtype \n",
      "---  ------      --------------  ----- \n",
      " 0   user_id     500 non-null    int64 \n",
      " 1   first_name  500 non-null    object\n",
      " 2   last_name   500 non-null    object\n",
      " 3   age         500 non-null    int64 \n",
      " 4   city        500 non-null    object\n",
      " 5   reg_date    500 non-null    object\n",
      " 6   plan        500 non-null    object\n",
      " 7   churn_date  34 non-null     object\n",
      "dtypes: int64(2), object(6)\n",
      "memory usage: 31.4+ KB\n"
     ]
    },
    {
     "data": {
      "text/html": [
       "<div>\n",
       "<style scoped>\n",
       "    .dataframe tbody tr th:only-of-type {\n",
       "        vertical-align: middle;\n",
       "    }\n",
       "\n",
       "    .dataframe tbody tr th {\n",
       "        vertical-align: top;\n",
       "    }\n",
       "\n",
       "    .dataframe thead th {\n",
       "        text-align: right;\n",
       "    }\n",
       "</style>\n",
       "<table border=\"1\" class=\"dataframe\">\n",
       "  <thead>\n",
       "    <tr style=\"text-align: right;\">\n",
       "      <th></th>\n",
       "      <th>user_id</th>\n",
       "      <th>age</th>\n",
       "    </tr>\n",
       "  </thead>\n",
       "  <tbody>\n",
       "    <tr>\n",
       "      <th>count</th>\n",
       "      <td>500.000000</td>\n",
       "      <td>500.000000</td>\n",
       "    </tr>\n",
       "    <tr>\n",
       "      <th>mean</th>\n",
       "      <td>1249.500000</td>\n",
       "      <td>45.486000</td>\n",
       "    </tr>\n",
       "    <tr>\n",
       "      <th>std</th>\n",
       "      <td>144.481833</td>\n",
       "      <td>16.972269</td>\n",
       "    </tr>\n",
       "    <tr>\n",
       "      <th>min</th>\n",
       "      <td>1000.000000</td>\n",
       "      <td>18.000000</td>\n",
       "    </tr>\n",
       "    <tr>\n",
       "      <th>25%</th>\n",
       "      <td>1124.750000</td>\n",
       "      <td>30.000000</td>\n",
       "    </tr>\n",
       "    <tr>\n",
       "      <th>50%</th>\n",
       "      <td>1249.500000</td>\n",
       "      <td>46.000000</td>\n",
       "    </tr>\n",
       "    <tr>\n",
       "      <th>75%</th>\n",
       "      <td>1374.250000</td>\n",
       "      <td>61.000000</td>\n",
       "    </tr>\n",
       "    <tr>\n",
       "      <th>max</th>\n",
       "      <td>1499.000000</td>\n",
       "      <td>75.000000</td>\n",
       "    </tr>\n",
       "  </tbody>\n",
       "</table>\n",
       "</div>"
      ],
      "text/plain": [
       "           user_id         age\n",
       "count   500.000000  500.000000\n",
       "mean   1249.500000   45.486000\n",
       "std     144.481833   16.972269\n",
       "min    1000.000000   18.000000\n",
       "25%    1124.750000   30.000000\n",
       "50%    1249.500000   46.000000\n",
       "75%    1374.250000   61.000000\n",
       "max    1499.000000   75.000000"
      ]
     },
     "execution_count": 7,
     "metadata": {},
     "output_type": "execute_result"
    }
   ],
   "source": [
    "# Imprime la información general/resumida sobre el DataFrame de usuarios\n",
    "users.info()\n",
    "users.describe()"
   ]
  },
  {
   "cell_type": "code",
   "execution_count": 8,
   "metadata": {
    "id": "1IN1L9uh0q05"
   },
   "outputs": [
    {
     "data": {
      "text/html": [
       "<div>\n",
       "<style scoped>\n",
       "    .dataframe tbody tr th:only-of-type {\n",
       "        vertical-align: middle;\n",
       "    }\n",
       "\n",
       "    .dataframe tbody tr th {\n",
       "        vertical-align: top;\n",
       "    }\n",
       "\n",
       "    .dataframe thead th {\n",
       "        text-align: right;\n",
       "    }\n",
       "</style>\n",
       "<table border=\"1\" class=\"dataframe\">\n",
       "  <thead>\n",
       "    <tr style=\"text-align: right;\">\n",
       "      <th></th>\n",
       "      <th>user_id</th>\n",
       "      <th>first_name</th>\n",
       "      <th>last_name</th>\n",
       "      <th>age</th>\n",
       "      <th>city</th>\n",
       "      <th>reg_date</th>\n",
       "      <th>plan</th>\n",
       "      <th>churn_date</th>\n",
       "    </tr>\n",
       "  </thead>\n",
       "  <tbody>\n",
       "    <tr>\n",
       "      <th>0</th>\n",
       "      <td>1000</td>\n",
       "      <td>Anamaria</td>\n",
       "      <td>Bauer</td>\n",
       "      <td>45</td>\n",
       "      <td>Atlanta-Sandy Springs-Roswell, GA MSA</td>\n",
       "      <td>2018-12-24</td>\n",
       "      <td>ultimate</td>\n",
       "      <td>NaN</td>\n",
       "    </tr>\n",
       "    <tr>\n",
       "      <th>1</th>\n",
       "      <td>1001</td>\n",
       "      <td>Mickey</td>\n",
       "      <td>Wilkerson</td>\n",
       "      <td>28</td>\n",
       "      <td>Seattle-Tacoma-Bellevue, WA MSA</td>\n",
       "      <td>2018-08-13</td>\n",
       "      <td>surf</td>\n",
       "      <td>NaN</td>\n",
       "    </tr>\n",
       "    <tr>\n",
       "      <th>2</th>\n",
       "      <td>1002</td>\n",
       "      <td>Carlee</td>\n",
       "      <td>Hoffman</td>\n",
       "      <td>36</td>\n",
       "      <td>Las Vegas-Henderson-Paradise, NV MSA</td>\n",
       "      <td>2018-10-21</td>\n",
       "      <td>surf</td>\n",
       "      <td>NaN</td>\n",
       "    </tr>\n",
       "    <tr>\n",
       "      <th>3</th>\n",
       "      <td>1003</td>\n",
       "      <td>Reynaldo</td>\n",
       "      <td>Jenkins</td>\n",
       "      <td>52</td>\n",
       "      <td>Tulsa, OK MSA</td>\n",
       "      <td>2018-01-28</td>\n",
       "      <td>surf</td>\n",
       "      <td>NaN</td>\n",
       "    </tr>\n",
       "    <tr>\n",
       "      <th>4</th>\n",
       "      <td>1004</td>\n",
       "      <td>Leonila</td>\n",
       "      <td>Thompson</td>\n",
       "      <td>40</td>\n",
       "      <td>Seattle-Tacoma-Bellevue, WA MSA</td>\n",
       "      <td>2018-05-23</td>\n",
       "      <td>surf</td>\n",
       "      <td>NaN</td>\n",
       "    </tr>\n",
       "  </tbody>\n",
       "</table>\n",
       "</div>"
      ],
      "text/plain": [
       "   user_id first_name  last_name  age                                   city  \\\n",
       "0     1000   Anamaria      Bauer   45  Atlanta-Sandy Springs-Roswell, GA MSA   \n",
       "1     1001     Mickey  Wilkerson   28        Seattle-Tacoma-Bellevue, WA MSA   \n",
       "2     1002     Carlee    Hoffman   36   Las Vegas-Henderson-Paradise, NV MSA   \n",
       "3     1003   Reynaldo    Jenkins   52                          Tulsa, OK MSA   \n",
       "4     1004    Leonila   Thompson   40        Seattle-Tacoma-Bellevue, WA MSA   \n",
       "\n",
       "     reg_date      plan churn_date  \n",
       "0  2018-12-24  ultimate        NaN  \n",
       "1  2018-08-13      surf        NaN  \n",
       "2  2018-10-21      surf        NaN  \n",
       "3  2018-01-28      surf        NaN  \n",
       "4  2018-05-23      surf        NaN  "
      ]
     },
     "metadata": {},
     "output_type": "display_data"
    }
   ],
   "source": [
    "# Imprime una muestra de datos para usuarios\n",
    "display(users.head())\n"
   ]
  },
  {
   "cell_type": "markdown",
   "metadata": {
    "id": "dCZoUq4f0q06"
   },
   "source": [
    "[Describe lo que ves y observas en la información general y en la muestra de datos impresa para el precio de datos anterior. ¿Hay algún problema (tipos de datos no adecuados, datos ausentes, etc.) que pudieran necesitar investigación y cambios adicionales? ¿Cómo se puede arreglar?]\n",
    "\n",
    "* Se observa que los tipos de datos no son lo adecuados para las fechas, tambien que esxisten datos vacios en la fecha de cancelación, lo que puede significar que el plan aun se encuentra activo, se pudiera agregar una columna informativa si el plan sigue activo."
   ]
  },
  {
   "cell_type": "markdown",
   "metadata": {
    "id": "BX5FQh_I0q06"
   },
   "source": [
    "### Corregir los datos"
   ]
  },
  {
   "cell_type": "markdown",
   "metadata": {
    "id": "8OdKMwJv0q06"
   },
   "source": [
    "[Corrige los problemas obvios con los datos basándote en las observaciones iniciales.]"
   ]
  },
  {
   "cell_type": "code",
   "execution_count": 9,
   "metadata": {
    "id": "yUqX-K0C0q07"
   },
   "outputs": [
    {
     "name": "stdout",
     "output_type": "stream",
     "text": [
      "<class 'pandas.core.frame.DataFrame'>\n",
      "RangeIndex: 500 entries, 0 to 499\n",
      "Data columns (total 8 columns):\n",
      " #   Column      Non-Null Count  Dtype         \n",
      "---  ------      --------------  -----         \n",
      " 0   user_id     500 non-null    int64         \n",
      " 1   first_name  500 non-null    object        \n",
      " 2   last_name   500 non-null    object        \n",
      " 3   age         500 non-null    int64         \n",
      " 4   city        500 non-null    object        \n",
      " 5   reg_date    500 non-null    datetime64[ns]\n",
      " 6   plan        500 non-null    object        \n",
      " 7   churn_date  34 non-null     datetime64[ns]\n",
      "dtypes: datetime64[ns](2), int64(2), object(4)\n",
      "memory usage: 31.4+ KB\n"
     ]
    }
   ],
   "source": [
    "users['reg_date'] = pd.to_datetime(users['reg_date'])\n",
    "users['churn_date'] = pd.to_datetime(users['churn_date'])\n",
    "\n",
    "users.info()\n"
   ]
  },
  {
   "cell_type": "markdown",
   "metadata": {
    "id": "ycwuARJp0q07"
   },
   "source": [
    "### Enriquecer los datos"
   ]
  },
  {
   "cell_type": "markdown",
   "metadata": {
    "id": "96NIh4CJ0q08"
   },
   "source": [
    "[Agrega factores adicionales a los datos si crees que pudieran ser útiles.]"
   ]
  },
  {
   "cell_type": "code",
   "execution_count": 10,
   "metadata": {
    "id": "iq0AaBS90q08"
   },
   "outputs": [
    {
     "data": {
      "text/html": [
       "<div>\n",
       "<style scoped>\n",
       "    .dataframe tbody tr th:only-of-type {\n",
       "        vertical-align: middle;\n",
       "    }\n",
       "\n",
       "    .dataframe tbody tr th {\n",
       "        vertical-align: top;\n",
       "    }\n",
       "\n",
       "    .dataframe thead th {\n",
       "        text-align: right;\n",
       "    }\n",
       "</style>\n",
       "<table border=\"1\" class=\"dataframe\">\n",
       "  <thead>\n",
       "    <tr style=\"text-align: right;\">\n",
       "      <th></th>\n",
       "      <th>user_id</th>\n",
       "      <th>first_name</th>\n",
       "      <th>last_name</th>\n",
       "      <th>age</th>\n",
       "      <th>city</th>\n",
       "      <th>reg_date</th>\n",
       "      <th>plan</th>\n",
       "      <th>churn_date</th>\n",
       "      <th>user_status</th>\n",
       "    </tr>\n",
       "  </thead>\n",
       "  <tbody>\n",
       "    <tr>\n",
       "      <th>276</th>\n",
       "      <td>1276</td>\n",
       "      <td>Karmen</td>\n",
       "      <td>Carney</td>\n",
       "      <td>20</td>\n",
       "      <td>Phoenix-Mesa-Chandler, AZ MSA</td>\n",
       "      <td>2018-02-14</td>\n",
       "      <td>surf</td>\n",
       "      <td>NaT</td>\n",
       "      <td>active</td>\n",
       "    </tr>\n",
       "    <tr>\n",
       "      <th>479</th>\n",
       "      <td>1479</td>\n",
       "      <td>Keesha</td>\n",
       "      <td>Burnett</td>\n",
       "      <td>44</td>\n",
       "      <td>Riverside-San Bernardino-Ontario, CA MSA</td>\n",
       "      <td>2018-11-12</td>\n",
       "      <td>surf</td>\n",
       "      <td>NaT</td>\n",
       "      <td>active</td>\n",
       "    </tr>\n",
       "    <tr>\n",
       "      <th>199</th>\n",
       "      <td>1199</td>\n",
       "      <td>Antonetta</td>\n",
       "      <td>Finley</td>\n",
       "      <td>39</td>\n",
       "      <td>San Antonio-New Braunfels, TX MSA</td>\n",
       "      <td>2018-08-01</td>\n",
       "      <td>ultimate</td>\n",
       "      <td>NaT</td>\n",
       "      <td>active</td>\n",
       "    </tr>\n",
       "    <tr>\n",
       "      <th>253</th>\n",
       "      <td>1253</td>\n",
       "      <td>Sumiko</td>\n",
       "      <td>Dudley</td>\n",
       "      <td>28</td>\n",
       "      <td>Cleveland-Elyria, OH MSA</td>\n",
       "      <td>2018-08-18</td>\n",
       "      <td>ultimate</td>\n",
       "      <td>NaT</td>\n",
       "      <td>active</td>\n",
       "    </tr>\n",
       "    <tr>\n",
       "      <th>482</th>\n",
       "      <td>1482</td>\n",
       "      <td>Armand</td>\n",
       "      <td>Glenn</td>\n",
       "      <td>70</td>\n",
       "      <td>New York-Newark-Jersey City, NY-NJ-PA MSA</td>\n",
       "      <td>2018-01-01</td>\n",
       "      <td>ultimate</td>\n",
       "      <td>NaT</td>\n",
       "      <td>active</td>\n",
       "    </tr>\n",
       "  </tbody>\n",
       "</table>\n",
       "</div>"
      ],
      "text/plain": [
       "     user_id first_name last_name  age  \\\n",
       "276     1276     Karmen    Carney   20   \n",
       "479     1479     Keesha   Burnett   44   \n",
       "199     1199  Antonetta    Finley   39   \n",
       "253     1253     Sumiko    Dudley   28   \n",
       "482     1482     Armand     Glenn   70   \n",
       "\n",
       "                                          city   reg_date      plan  \\\n",
       "276              Phoenix-Mesa-Chandler, AZ MSA 2018-02-14      surf   \n",
       "479   Riverside-San Bernardino-Ontario, CA MSA 2018-11-12      surf   \n",
       "199          San Antonio-New Braunfels, TX MSA 2018-08-01  ultimate   \n",
       "253                   Cleveland-Elyria, OH MSA 2018-08-18  ultimate   \n",
       "482  New York-Newark-Jersey City, NY-NJ-PA MSA 2018-01-01  ultimate   \n",
       "\n",
       "    churn_date user_status  \n",
       "276        NaT      active  \n",
       "479        NaT      active  \n",
       "199        NaT      active  \n",
       "253        NaT      active  \n",
       "482        NaT      active  "
      ]
     },
     "metadata": {},
     "output_type": "display_data"
    },
    {
     "name": "stdout",
     "output_type": "stream",
     "text": [
      "<class 'pandas.core.frame.DataFrame'>\n",
      "RangeIndex: 500 entries, 0 to 499\n",
      "Data columns (total 9 columns):\n",
      " #   Column       Non-Null Count  Dtype         \n",
      "---  ------       --------------  -----         \n",
      " 0   user_id      500 non-null    int64         \n",
      " 1   first_name   500 non-null    object        \n",
      " 2   last_name    500 non-null    object        \n",
      " 3   age          500 non-null    int64         \n",
      " 4   city         500 non-null    object        \n",
      " 5   reg_date     500 non-null    datetime64[ns]\n",
      " 6   plan         500 non-null    object        \n",
      " 7   churn_date   34 non-null     datetime64[ns]\n",
      " 8   user_status  500 non-null    object        \n",
      "dtypes: datetime64[ns](2), int64(2), object(5)\n",
      "memory usage: 35.3+ KB\n"
     ]
    }
   ],
   "source": [
    "users['user_status'] = np.where(users['churn_date'].isnull(), 'active', 'churned')\n",
    "\n",
    "display(users.sample(5))\n",
    "users.info()"
   ]
  },
  {
   "cell_type": "markdown",
   "metadata": {
    "id": "o7MeKCid0q08"
   },
   "source": [
    "## Llamadas"
   ]
  },
  {
   "cell_type": "code",
   "execution_count": 11,
   "metadata": {
    "id": "6dDlnoDm0q08"
   },
   "outputs": [
    {
     "name": "stdout",
     "output_type": "stream",
     "text": [
      "<class 'pandas.core.frame.DataFrame'>\n",
      "RangeIndex: 137735 entries, 0 to 137734\n",
      "Data columns (total 4 columns):\n",
      " #   Column     Non-Null Count   Dtype  \n",
      "---  ------     --------------   -----  \n",
      " 0   id         137735 non-null  object \n",
      " 1   user_id    137735 non-null  int64  \n",
      " 2   call_date  137735 non-null  object \n",
      " 3   duration   137735 non-null  float64\n",
      "dtypes: float64(1), int64(1), object(2)\n",
      "memory usage: 4.2+ MB\n"
     ]
    },
    {
     "data": {
      "text/html": [
       "<div>\n",
       "<style scoped>\n",
       "    .dataframe tbody tr th:only-of-type {\n",
       "        vertical-align: middle;\n",
       "    }\n",
       "\n",
       "    .dataframe tbody tr th {\n",
       "        vertical-align: top;\n",
       "    }\n",
       "\n",
       "    .dataframe thead th {\n",
       "        text-align: right;\n",
       "    }\n",
       "</style>\n",
       "<table border=\"1\" class=\"dataframe\">\n",
       "  <thead>\n",
       "    <tr style=\"text-align: right;\">\n",
       "      <th></th>\n",
       "      <th>user_id</th>\n",
       "      <th>duration</th>\n",
       "    </tr>\n",
       "  </thead>\n",
       "  <tbody>\n",
       "    <tr>\n",
       "      <th>count</th>\n",
       "      <td>137735.000000</td>\n",
       "      <td>137735.000000</td>\n",
       "    </tr>\n",
       "    <tr>\n",
       "      <th>mean</th>\n",
       "      <td>1247.658046</td>\n",
       "      <td>6.745927</td>\n",
       "    </tr>\n",
       "    <tr>\n",
       "      <th>std</th>\n",
       "      <td>139.416268</td>\n",
       "      <td>5.839241</td>\n",
       "    </tr>\n",
       "    <tr>\n",
       "      <th>min</th>\n",
       "      <td>1000.000000</td>\n",
       "      <td>0.000000</td>\n",
       "    </tr>\n",
       "    <tr>\n",
       "      <th>25%</th>\n",
       "      <td>1128.000000</td>\n",
       "      <td>1.290000</td>\n",
       "    </tr>\n",
       "    <tr>\n",
       "      <th>50%</th>\n",
       "      <td>1247.000000</td>\n",
       "      <td>5.980000</td>\n",
       "    </tr>\n",
       "    <tr>\n",
       "      <th>75%</th>\n",
       "      <td>1365.000000</td>\n",
       "      <td>10.690000</td>\n",
       "    </tr>\n",
       "    <tr>\n",
       "      <th>max</th>\n",
       "      <td>1499.000000</td>\n",
       "      <td>37.600000</td>\n",
       "    </tr>\n",
       "  </tbody>\n",
       "</table>\n",
       "</div>"
      ],
      "text/plain": [
       "             user_id       duration\n",
       "count  137735.000000  137735.000000\n",
       "mean     1247.658046       6.745927\n",
       "std       139.416268       5.839241\n",
       "min      1000.000000       0.000000\n",
       "25%      1128.000000       1.290000\n",
       "50%      1247.000000       5.980000\n",
       "75%      1365.000000      10.690000\n",
       "max      1499.000000      37.600000"
      ]
     },
     "execution_count": 11,
     "metadata": {},
     "output_type": "execute_result"
    }
   ],
   "source": [
    "# Imprime la información general/resumida sobre el DataFrame de las llamadas\n",
    "calls.info()\n",
    "calls.describe()"
   ]
  },
  {
   "cell_type": "code",
   "execution_count": 12,
   "metadata": {
    "id": "kuh1vlNB0q09"
   },
   "outputs": [
    {
     "data": {
      "text/html": [
       "<div>\n",
       "<style scoped>\n",
       "    .dataframe tbody tr th:only-of-type {\n",
       "        vertical-align: middle;\n",
       "    }\n",
       "\n",
       "    .dataframe tbody tr th {\n",
       "        vertical-align: top;\n",
       "    }\n",
       "\n",
       "    .dataframe thead th {\n",
       "        text-align: right;\n",
       "    }\n",
       "</style>\n",
       "<table border=\"1\" class=\"dataframe\">\n",
       "  <thead>\n",
       "    <tr style=\"text-align: right;\">\n",
       "      <th></th>\n",
       "      <th>id</th>\n",
       "      <th>user_id</th>\n",
       "      <th>call_date</th>\n",
       "      <th>duration</th>\n",
       "    </tr>\n",
       "  </thead>\n",
       "  <tbody>\n",
       "    <tr>\n",
       "      <th>0</th>\n",
       "      <td>1000_93</td>\n",
       "      <td>1000</td>\n",
       "      <td>2018-12-27</td>\n",
       "      <td>8.52</td>\n",
       "    </tr>\n",
       "    <tr>\n",
       "      <th>1</th>\n",
       "      <td>1000_145</td>\n",
       "      <td>1000</td>\n",
       "      <td>2018-12-27</td>\n",
       "      <td>13.66</td>\n",
       "    </tr>\n",
       "    <tr>\n",
       "      <th>2</th>\n",
       "      <td>1000_247</td>\n",
       "      <td>1000</td>\n",
       "      <td>2018-12-27</td>\n",
       "      <td>14.48</td>\n",
       "    </tr>\n",
       "    <tr>\n",
       "      <th>3</th>\n",
       "      <td>1000_309</td>\n",
       "      <td>1000</td>\n",
       "      <td>2018-12-28</td>\n",
       "      <td>5.76</td>\n",
       "    </tr>\n",
       "    <tr>\n",
       "      <th>4</th>\n",
       "      <td>1000_380</td>\n",
       "      <td>1000</td>\n",
       "      <td>2018-12-30</td>\n",
       "      <td>4.22</td>\n",
       "    </tr>\n",
       "  </tbody>\n",
       "</table>\n",
       "</div>"
      ],
      "text/plain": [
       "         id  user_id   call_date  duration\n",
       "0   1000_93     1000  2018-12-27      8.52\n",
       "1  1000_145     1000  2018-12-27     13.66\n",
       "2  1000_247     1000  2018-12-27     14.48\n",
       "3  1000_309     1000  2018-12-28      5.76\n",
       "4  1000_380     1000  2018-12-30      4.22"
      ]
     },
     "metadata": {},
     "output_type": "display_data"
    },
    {
     "data": {
      "text/html": [
       "<div>\n",
       "<style scoped>\n",
       "    .dataframe tbody tr th:only-of-type {\n",
       "        vertical-align: middle;\n",
       "    }\n",
       "\n",
       "    .dataframe tbody tr th {\n",
       "        vertical-align: top;\n",
       "    }\n",
       "\n",
       "    .dataframe thead th {\n",
       "        text-align: right;\n",
       "    }\n",
       "</style>\n",
       "<table border=\"1\" class=\"dataframe\">\n",
       "  <thead>\n",
       "    <tr style=\"text-align: right;\">\n",
       "      <th></th>\n",
       "      <th>id</th>\n",
       "      <th>user_id</th>\n",
       "      <th>call_date</th>\n",
       "      <th>duration</th>\n",
       "    </tr>\n",
       "  </thead>\n",
       "  <tbody>\n",
       "    <tr>\n",
       "      <th>75948</th>\n",
       "      <td>1268_452</td>\n",
       "      <td>1268</td>\n",
       "      <td>2018-08-07</td>\n",
       "      <td>6.53</td>\n",
       "    </tr>\n",
       "    <tr>\n",
       "      <th>128200</th>\n",
       "      <td>1460_253</td>\n",
       "      <td>1460</td>\n",
       "      <td>2018-09-09</td>\n",
       "      <td>0.00</td>\n",
       "    </tr>\n",
       "    <tr>\n",
       "      <th>106519</th>\n",
       "      <td>1377_71</td>\n",
       "      <td>1377</td>\n",
       "      <td>2018-08-21</td>\n",
       "      <td>14.87</td>\n",
       "    </tr>\n",
       "    <tr>\n",
       "      <th>51336</th>\n",
       "      <td>1185_374</td>\n",
       "      <td>1185</td>\n",
       "      <td>2018-06-14</td>\n",
       "      <td>0.49</td>\n",
       "    </tr>\n",
       "    <tr>\n",
       "      <th>133701</th>\n",
       "      <td>1483_574</td>\n",
       "      <td>1483</td>\n",
       "      <td>2018-10-29</td>\n",
       "      <td>13.09</td>\n",
       "    </tr>\n",
       "  </tbody>\n",
       "</table>\n",
       "</div>"
      ],
      "text/plain": [
       "              id  user_id   call_date  duration\n",
       "75948   1268_452     1268  2018-08-07      6.53\n",
       "128200  1460_253     1460  2018-09-09      0.00\n",
       "106519   1377_71     1377  2018-08-21     14.87\n",
       "51336   1185_374     1185  2018-06-14      0.49\n",
       "133701  1483_574     1483  2018-10-29     13.09"
      ]
     },
     "metadata": {},
     "output_type": "display_data"
    },
    {
     "data": {
      "text/html": [
       "<div>\n",
       "<style scoped>\n",
       "    .dataframe tbody tr th:only-of-type {\n",
       "        vertical-align: middle;\n",
       "    }\n",
       "\n",
       "    .dataframe tbody tr th {\n",
       "        vertical-align: top;\n",
       "    }\n",
       "\n",
       "    .dataframe thead th {\n",
       "        text-align: right;\n",
       "    }\n",
       "</style>\n",
       "<table border=\"1\" class=\"dataframe\">\n",
       "  <thead>\n",
       "    <tr style=\"text-align: right;\">\n",
       "      <th></th>\n",
       "      <th>id</th>\n",
       "      <th>user_id</th>\n",
       "      <th>call_date</th>\n",
       "      <th>duration</th>\n",
       "    </tr>\n",
       "  </thead>\n",
       "  <tbody>\n",
       "    <tr>\n",
       "      <th>0</th>\n",
       "      <td>1000_93</td>\n",
       "      <td>1000</td>\n",
       "      <td>2018-12-27</td>\n",
       "      <td>8.52</td>\n",
       "    </tr>\n",
       "    <tr>\n",
       "      <th>1</th>\n",
       "      <td>1000_145</td>\n",
       "      <td>1000</td>\n",
       "      <td>2018-12-27</td>\n",
       "      <td>13.66</td>\n",
       "    </tr>\n",
       "    <tr>\n",
       "      <th>2</th>\n",
       "      <td>1000_247</td>\n",
       "      <td>1000</td>\n",
       "      <td>2018-12-27</td>\n",
       "      <td>14.48</td>\n",
       "    </tr>\n",
       "    <tr>\n",
       "      <th>3</th>\n",
       "      <td>1000_309</td>\n",
       "      <td>1000</td>\n",
       "      <td>2018-12-28</td>\n",
       "      <td>5.76</td>\n",
       "    </tr>\n",
       "    <tr>\n",
       "      <th>4</th>\n",
       "      <td>1000_380</td>\n",
       "      <td>1000</td>\n",
       "      <td>2018-12-30</td>\n",
       "      <td>4.22</td>\n",
       "    </tr>\n",
       "    <tr>\n",
       "      <th>...</th>\n",
       "      <td>...</td>\n",
       "      <td>...</td>\n",
       "      <td>...</td>\n",
       "      <td>...</td>\n",
       "    </tr>\n",
       "    <tr>\n",
       "      <th>137730</th>\n",
       "      <td>1499_199</td>\n",
       "      <td>1499</td>\n",
       "      <td>2018-11-21</td>\n",
       "      <td>8.72</td>\n",
       "    </tr>\n",
       "    <tr>\n",
       "      <th>137731</th>\n",
       "      <td>1499_200</td>\n",
       "      <td>1499</td>\n",
       "      <td>2018-10-20</td>\n",
       "      <td>10.89</td>\n",
       "    </tr>\n",
       "    <tr>\n",
       "      <th>137732</th>\n",
       "      <td>1499_201</td>\n",
       "      <td>1499</td>\n",
       "      <td>2018-09-21</td>\n",
       "      <td>8.12</td>\n",
       "    </tr>\n",
       "    <tr>\n",
       "      <th>137733</th>\n",
       "      <td>1499_202</td>\n",
       "      <td>1499</td>\n",
       "      <td>2018-10-10</td>\n",
       "      <td>0.37</td>\n",
       "    </tr>\n",
       "    <tr>\n",
       "      <th>137734</th>\n",
       "      <td>1499_203</td>\n",
       "      <td>1499</td>\n",
       "      <td>2018-12-29</td>\n",
       "      <td>13.86</td>\n",
       "    </tr>\n",
       "  </tbody>\n",
       "</table>\n",
       "<p>137735 rows × 4 columns</p>\n",
       "</div>"
      ],
      "text/plain": [
       "              id  user_id   call_date  duration\n",
       "0        1000_93     1000  2018-12-27      8.52\n",
       "1       1000_145     1000  2018-12-27     13.66\n",
       "2       1000_247     1000  2018-12-27     14.48\n",
       "3       1000_309     1000  2018-12-28      5.76\n",
       "4       1000_380     1000  2018-12-30      4.22\n",
       "...          ...      ...         ...       ...\n",
       "137730  1499_199     1499  2018-11-21      8.72\n",
       "137731  1499_200     1499  2018-10-20     10.89\n",
       "137732  1499_201     1499  2018-09-21      8.12\n",
       "137733  1499_202     1499  2018-10-10      0.37\n",
       "137734  1499_203     1499  2018-12-29     13.86\n",
       "\n",
       "[137735 rows x 4 columns]"
      ]
     },
     "metadata": {},
     "output_type": "display_data"
    }
   ],
   "source": [
    "# Imprime una muestra de datos para las llamadas\n",
    "display(calls.head())\n",
    "display(calls.sample(5))\n",
    "display(calls)\n"
   ]
  },
  {
   "cell_type": "markdown",
   "metadata": {
    "id": "DOAxYJSx0q09"
   },
   "source": [
    "[Describe lo que ves y observas en la información general y en la muestra de datos impresa para el precio de datos anterior. ¿Hay algún problema (tipos de datos no adecuados, datos ausentes, etc.) que pudieran necesitar investigación y cambios adicionales? ¿Cómo se puede arreglar?]\n",
    "\n",
    "* Se observa que el tipo de datos no es el adecuados para las fechas, tambien que hay llamadas que tienen una duración de 0 minutos"
   ]
  },
  {
   "cell_type": "markdown",
   "metadata": {
    "id": "S7hzxmbX0q0-"
   },
   "source": [
    "### Corregir los datos"
   ]
  },
  {
   "cell_type": "markdown",
   "metadata": {
    "id": "YxWyAjD20q0-"
   },
   "source": [
    "[Corrige los problemas obvios con los datos basándote en las observaciones iniciales.]"
   ]
  },
  {
   "cell_type": "code",
   "execution_count": 13,
   "metadata": {
    "id": "S2r8xA4f0q0-"
   },
   "outputs": [],
   "source": [
    "calls['call_date'] = pd.to_datetime(calls['call_date'])"
   ]
  },
  {
   "cell_type": "markdown",
   "metadata": {
    "id": "KrMgTrlG0q0_"
   },
   "source": [
    "### Enriquecer los datos"
   ]
  },
  {
   "cell_type": "markdown",
   "metadata": {
    "id": "a9MbmEvE0q0_"
   },
   "source": [
    "[Agrega factores adicionales a los datos si crees que pudieran ser útiles.]"
   ]
  },
  {
   "cell_type": "code",
   "execution_count": 14,
   "metadata": {
    "id": "iZ1avpA_0q0_"
   },
   "outputs": [
    {
     "data": {
      "text/html": [
       "<div>\n",
       "<style scoped>\n",
       "    .dataframe tbody tr th:only-of-type {\n",
       "        vertical-align: middle;\n",
       "    }\n",
       "\n",
       "    .dataframe tbody tr th {\n",
       "        vertical-align: top;\n",
       "    }\n",
       "\n",
       "    .dataframe thead th {\n",
       "        text-align: right;\n",
       "    }\n",
       "</style>\n",
       "<table border=\"1\" class=\"dataframe\">\n",
       "  <thead>\n",
       "    <tr style=\"text-align: right;\">\n",
       "      <th></th>\n",
       "      <th>id</th>\n",
       "      <th>user_id</th>\n",
       "      <th>call_date</th>\n",
       "      <th>duration</th>\n",
       "      <th>call_status</th>\n",
       "    </tr>\n",
       "  </thead>\n",
       "  <tbody>\n",
       "    <tr>\n",
       "      <th>40668</th>\n",
       "      <td>1150_312</td>\n",
       "      <td>1150</td>\n",
       "      <td>2018-11-30</td>\n",
       "      <td>5.0</td>\n",
       "      <td>answered</td>\n",
       "    </tr>\n",
       "    <tr>\n",
       "      <th>59283</th>\n",
       "      <td>1214_352</td>\n",
       "      <td>1214</td>\n",
       "      <td>2018-10-08</td>\n",
       "      <td>5.0</td>\n",
       "      <td>answered</td>\n",
       "    </tr>\n",
       "    <tr>\n",
       "      <th>130321</th>\n",
       "      <td>1468_68</td>\n",
       "      <td>1468</td>\n",
       "      <td>2018-12-16</td>\n",
       "      <td>5.0</td>\n",
       "      <td>answered</td>\n",
       "    </tr>\n",
       "    <tr>\n",
       "      <th>11654</th>\n",
       "      <td>1050_429</td>\n",
       "      <td>1050</td>\n",
       "      <td>2018-07-15</td>\n",
       "      <td>0.0</td>\n",
       "      <td>unanswered</td>\n",
       "    </tr>\n",
       "    <tr>\n",
       "      <th>114884</th>\n",
       "      <td>1402_130</td>\n",
       "      <td>1402</td>\n",
       "      <td>2018-12-11</td>\n",
       "      <td>2.0</td>\n",
       "      <td>answered</td>\n",
       "    </tr>\n",
       "  </tbody>\n",
       "</table>\n",
       "</div>"
      ],
      "text/plain": [
       "              id  user_id  call_date  duration call_status\n",
       "40668   1150_312     1150 2018-11-30       5.0    answered\n",
       "59283   1214_352     1214 2018-10-08       5.0    answered\n",
       "130321   1468_68     1468 2018-12-16       5.0    answered\n",
       "11654   1050_429     1050 2018-07-15       0.0  unanswered\n",
       "114884  1402_130     1402 2018-12-11       2.0    answered"
      ]
     },
     "metadata": {},
     "output_type": "display_data"
    },
    {
     "name": "stdout",
     "output_type": "stream",
     "text": [
      "<class 'pandas.core.frame.DataFrame'>\n",
      "RangeIndex: 137735 entries, 0 to 137734\n",
      "Data columns (total 5 columns):\n",
      " #   Column       Non-Null Count   Dtype         \n",
      "---  ------       --------------   -----         \n",
      " 0   id           137735 non-null  object        \n",
      " 1   user_id      137735 non-null  int64         \n",
      " 2   call_date    137735 non-null  datetime64[ns]\n",
      " 3   duration     137735 non-null  float64       \n",
      " 4   call_status  137735 non-null  object        \n",
      "dtypes: datetime64[ns](1), float64(1), int64(1), object(2)\n",
      "memory usage: 5.3+ MB\n"
     ]
    }
   ],
   "source": [
    "calls['call_status'] = np.where(calls['duration']==0, 'unanswered', 'answered')\n",
    "calls['duration'] = np.ceil(calls['duration'])\n",
    "\n",
    "display(calls.sample(5))\n",
    "calls.info()"
   ]
  },
  {
   "cell_type": "markdown",
   "metadata": {
    "id": "mOUZSi180q0_"
   },
   "source": [
    "## Mensajes"
   ]
  },
  {
   "cell_type": "code",
   "execution_count": 15,
   "metadata": {
    "id": "R-bYJpdV0q1A"
   },
   "outputs": [
    {
     "name": "stdout",
     "output_type": "stream",
     "text": [
      "<class 'pandas.core.frame.DataFrame'>\n",
      "RangeIndex: 76051 entries, 0 to 76050\n",
      "Data columns (total 3 columns):\n",
      " #   Column        Non-Null Count  Dtype \n",
      "---  ------        --------------  ----- \n",
      " 0   id            76051 non-null  object\n",
      " 1   user_id       76051 non-null  int64 \n",
      " 2   message_date  76051 non-null  object\n",
      "dtypes: int64(1), object(2)\n",
      "memory usage: 1.7+ MB\n"
     ]
    }
   ],
   "source": [
    "# Imprime la información general/resumida sobre el DataFrame de los mensajes\n",
    "messages.info()\n"
   ]
  },
  {
   "cell_type": "code",
   "execution_count": 16,
   "metadata": {
    "id": "mCEl2iGE0q1A"
   },
   "outputs": [
    {
     "data": {
      "text/html": [
       "<div>\n",
       "<style scoped>\n",
       "    .dataframe tbody tr th:only-of-type {\n",
       "        vertical-align: middle;\n",
       "    }\n",
       "\n",
       "    .dataframe tbody tr th {\n",
       "        vertical-align: top;\n",
       "    }\n",
       "\n",
       "    .dataframe thead th {\n",
       "        text-align: right;\n",
       "    }\n",
       "</style>\n",
       "<table border=\"1\" class=\"dataframe\">\n",
       "  <thead>\n",
       "    <tr style=\"text-align: right;\">\n",
       "      <th></th>\n",
       "      <th>id</th>\n",
       "      <th>user_id</th>\n",
       "      <th>message_date</th>\n",
       "    </tr>\n",
       "  </thead>\n",
       "  <tbody>\n",
       "    <tr>\n",
       "      <th>20818</th>\n",
       "      <td>1131_157</td>\n",
       "      <td>1131</td>\n",
       "      <td>2018-11-13</td>\n",
       "    </tr>\n",
       "    <tr>\n",
       "      <th>3525</th>\n",
       "      <td>1036_360</td>\n",
       "      <td>1036</td>\n",
       "      <td>2018-11-17</td>\n",
       "    </tr>\n",
       "    <tr>\n",
       "      <th>14107</th>\n",
       "      <td>1098_107</td>\n",
       "      <td>1098</td>\n",
       "      <td>2018-12-30</td>\n",
       "    </tr>\n",
       "    <tr>\n",
       "      <th>49540</th>\n",
       "      <td>1328_498</td>\n",
       "      <td>1328</td>\n",
       "      <td>2018-07-27</td>\n",
       "    </tr>\n",
       "    <tr>\n",
       "      <th>75563</th>\n",
       "      <td>1491_465</td>\n",
       "      <td>1491</td>\n",
       "      <td>2018-06-04</td>\n",
       "    </tr>\n",
       "  </tbody>\n",
       "</table>\n",
       "</div>"
      ],
      "text/plain": [
       "             id  user_id message_date\n",
       "20818  1131_157     1131   2018-11-13\n",
       "3525   1036_360     1036   2018-11-17\n",
       "14107  1098_107     1098   2018-12-30\n",
       "49540  1328_498     1328   2018-07-27\n",
       "75563  1491_465     1491   2018-06-04"
      ]
     },
     "metadata": {},
     "output_type": "display_data"
    },
    {
     "data": {
      "text/html": [
       "<div>\n",
       "<style scoped>\n",
       "    .dataframe tbody tr th:only-of-type {\n",
       "        vertical-align: middle;\n",
       "    }\n",
       "\n",
       "    .dataframe tbody tr th {\n",
       "        vertical-align: top;\n",
       "    }\n",
       "\n",
       "    .dataframe thead th {\n",
       "        text-align: right;\n",
       "    }\n",
       "</style>\n",
       "<table border=\"1\" class=\"dataframe\">\n",
       "  <thead>\n",
       "    <tr style=\"text-align: right;\">\n",
       "      <th></th>\n",
       "      <th>id</th>\n",
       "      <th>user_id</th>\n",
       "      <th>message_date</th>\n",
       "    </tr>\n",
       "  </thead>\n",
       "  <tbody>\n",
       "    <tr>\n",
       "      <th>0</th>\n",
       "      <td>1000_125</td>\n",
       "      <td>1000</td>\n",
       "      <td>2018-12-27</td>\n",
       "    </tr>\n",
       "    <tr>\n",
       "      <th>1</th>\n",
       "      <td>1000_160</td>\n",
       "      <td>1000</td>\n",
       "      <td>2018-12-31</td>\n",
       "    </tr>\n",
       "    <tr>\n",
       "      <th>2</th>\n",
       "      <td>1000_223</td>\n",
       "      <td>1000</td>\n",
       "      <td>2018-12-31</td>\n",
       "    </tr>\n",
       "    <tr>\n",
       "      <th>3</th>\n",
       "      <td>1000_251</td>\n",
       "      <td>1000</td>\n",
       "      <td>2018-12-27</td>\n",
       "    </tr>\n",
       "    <tr>\n",
       "      <th>4</th>\n",
       "      <td>1000_255</td>\n",
       "      <td>1000</td>\n",
       "      <td>2018-12-26</td>\n",
       "    </tr>\n",
       "  </tbody>\n",
       "</table>\n",
       "</div>"
      ],
      "text/plain": [
       "         id  user_id message_date\n",
       "0  1000_125     1000   2018-12-27\n",
       "1  1000_160     1000   2018-12-31\n",
       "2  1000_223     1000   2018-12-31\n",
       "3  1000_251     1000   2018-12-27\n",
       "4  1000_255     1000   2018-12-26"
      ]
     },
     "metadata": {},
     "output_type": "display_data"
    }
   ],
   "source": [
    "# Imprime una muestra de datos para los mensajes\n",
    "display(messages.sample(5))\n",
    "display(messages.head())\n"
   ]
  },
  {
   "cell_type": "markdown",
   "metadata": {
    "id": "04xDj7KH0q1A"
   },
   "source": [
    "[Describe lo que ves y observas en la información general y en la muestra de datos impresa para el precio de datos anterior. ¿Hay algún problema (tipos de datos no adecuados, datos ausentes, etc.) que pudieran necesitar investigación y cambios adicionales? ¿Cómo se puede arreglar?]\n",
    "\n",
    "* Las fechas no se encuentran con el formato correcto, tenemos que pasarla a Datetime"
   ]
  },
  {
   "cell_type": "markdown",
   "metadata": {
    "id": "Sprfak900q1B"
   },
   "source": [
    "### Corregir los datos"
   ]
  },
  {
   "cell_type": "markdown",
   "metadata": {
    "id": "eGw7d9j10q1B"
   },
   "source": [
    "[Corrige los problemas obvios con los datos basándote en las observaciones iniciales.]"
   ]
  },
  {
   "cell_type": "code",
   "execution_count": 17,
   "metadata": {
    "id": "vsllvkoa0q1B"
   },
   "outputs": [],
   "source": [
    "messages['message_date'] = pd.to_datetime(messages['message_date'])"
   ]
  },
  {
   "cell_type": "markdown",
   "metadata": {
    "id": "HvLid7iD0q1B"
   },
   "source": [
    "### Enriquecer los datos"
   ]
  },
  {
   "cell_type": "markdown",
   "metadata": {
    "id": "8nhPFKIe0q1C"
   },
   "source": [
    "[Agrega factores adicionales a los datos si crees que pudieran ser útiles.]"
   ]
  },
  {
   "cell_type": "code",
   "execution_count": null,
   "metadata": {
    "id": "zYEXZac10q1C"
   },
   "outputs": [],
   "source": []
  },
  {
   "cell_type": "markdown",
   "metadata": {
    "id": "bStkaxn40q1C"
   },
   "source": [
    "## Internet"
   ]
  },
  {
   "cell_type": "code",
   "execution_count": 18,
   "metadata": {
    "id": "e-Uz5qyn0q1C"
   },
   "outputs": [
    {
     "name": "stdout",
     "output_type": "stream",
     "text": [
      "<class 'pandas.core.frame.DataFrame'>\n",
      "RangeIndex: 104825 entries, 0 to 104824\n",
      "Data columns (total 4 columns):\n",
      " #   Column        Non-Null Count   Dtype  \n",
      "---  ------        --------------   -----  \n",
      " 0   id            104825 non-null  object \n",
      " 1   user_id       104825 non-null  int64  \n",
      " 2   session_date  104825 non-null  object \n",
      " 3   mb_used       104825 non-null  float64\n",
      "dtypes: float64(1), int64(1), object(2)\n",
      "memory usage: 3.2+ MB\n"
     ]
    },
    {
     "data": {
      "text/html": [
       "<div>\n",
       "<style scoped>\n",
       "    .dataframe tbody tr th:only-of-type {\n",
       "        vertical-align: middle;\n",
       "    }\n",
       "\n",
       "    .dataframe tbody tr th {\n",
       "        vertical-align: top;\n",
       "    }\n",
       "\n",
       "    .dataframe thead th {\n",
       "        text-align: right;\n",
       "    }\n",
       "</style>\n",
       "<table border=\"1\" class=\"dataframe\">\n",
       "  <thead>\n",
       "    <tr style=\"text-align: right;\">\n",
       "      <th></th>\n",
       "      <th>user_id</th>\n",
       "      <th>mb_used</th>\n",
       "    </tr>\n",
       "  </thead>\n",
       "  <tbody>\n",
       "    <tr>\n",
       "      <th>count</th>\n",
       "      <td>104825.000000</td>\n",
       "      <td>104825.000000</td>\n",
       "    </tr>\n",
       "    <tr>\n",
       "      <th>mean</th>\n",
       "      <td>1242.496361</td>\n",
       "      <td>366.713701</td>\n",
       "    </tr>\n",
       "    <tr>\n",
       "      <th>std</th>\n",
       "      <td>142.053913</td>\n",
       "      <td>277.170542</td>\n",
       "    </tr>\n",
       "    <tr>\n",
       "      <th>min</th>\n",
       "      <td>1000.000000</td>\n",
       "      <td>0.000000</td>\n",
       "    </tr>\n",
       "    <tr>\n",
       "      <th>25%</th>\n",
       "      <td>1122.000000</td>\n",
       "      <td>136.080000</td>\n",
       "    </tr>\n",
       "    <tr>\n",
       "      <th>50%</th>\n",
       "      <td>1236.000000</td>\n",
       "      <td>343.980000</td>\n",
       "    </tr>\n",
       "    <tr>\n",
       "      <th>75%</th>\n",
       "      <td>1367.000000</td>\n",
       "      <td>554.610000</td>\n",
       "    </tr>\n",
       "    <tr>\n",
       "      <th>max</th>\n",
       "      <td>1499.000000</td>\n",
       "      <td>1693.470000</td>\n",
       "    </tr>\n",
       "  </tbody>\n",
       "</table>\n",
       "</div>"
      ],
      "text/plain": [
       "             user_id        mb_used\n",
       "count  104825.000000  104825.000000\n",
       "mean     1242.496361     366.713701\n",
       "std       142.053913     277.170542\n",
       "min      1000.000000       0.000000\n",
       "25%      1122.000000     136.080000\n",
       "50%      1236.000000     343.980000\n",
       "75%      1367.000000     554.610000\n",
       "max      1499.000000    1693.470000"
      ]
     },
     "execution_count": 18,
     "metadata": {},
     "output_type": "execute_result"
    }
   ],
   "source": [
    "# Imprime la información general/resumida sobre el DataFrame de internet\n",
    "internet.info()\n",
    "internet.describe()"
   ]
  },
  {
   "cell_type": "code",
   "execution_count": 19,
   "metadata": {
    "id": "9r3x_XLw0q1C"
   },
   "outputs": [
    {
     "data": {
      "text/html": [
       "<div>\n",
       "<style scoped>\n",
       "    .dataframe tbody tr th:only-of-type {\n",
       "        vertical-align: middle;\n",
       "    }\n",
       "\n",
       "    .dataframe tbody tr th {\n",
       "        vertical-align: top;\n",
       "    }\n",
       "\n",
       "    .dataframe thead th {\n",
       "        text-align: right;\n",
       "    }\n",
       "</style>\n",
       "<table border=\"1\" class=\"dataframe\">\n",
       "  <thead>\n",
       "    <tr style=\"text-align: right;\">\n",
       "      <th></th>\n",
       "      <th>id</th>\n",
       "      <th>user_id</th>\n",
       "      <th>session_date</th>\n",
       "      <th>mb_used</th>\n",
       "    </tr>\n",
       "  </thead>\n",
       "  <tbody>\n",
       "    <tr>\n",
       "      <th>0</th>\n",
       "      <td>1000_13</td>\n",
       "      <td>1000</td>\n",
       "      <td>2018-12-29</td>\n",
       "      <td>89.86</td>\n",
       "    </tr>\n",
       "    <tr>\n",
       "      <th>1</th>\n",
       "      <td>1000_204</td>\n",
       "      <td>1000</td>\n",
       "      <td>2018-12-31</td>\n",
       "      <td>0.00</td>\n",
       "    </tr>\n",
       "    <tr>\n",
       "      <th>2</th>\n",
       "      <td>1000_379</td>\n",
       "      <td>1000</td>\n",
       "      <td>2018-12-28</td>\n",
       "      <td>660.40</td>\n",
       "    </tr>\n",
       "    <tr>\n",
       "      <th>3</th>\n",
       "      <td>1000_413</td>\n",
       "      <td>1000</td>\n",
       "      <td>2018-12-26</td>\n",
       "      <td>270.99</td>\n",
       "    </tr>\n",
       "    <tr>\n",
       "      <th>4</th>\n",
       "      <td>1000_442</td>\n",
       "      <td>1000</td>\n",
       "      <td>2018-12-27</td>\n",
       "      <td>880.22</td>\n",
       "    </tr>\n",
       "  </tbody>\n",
       "</table>\n",
       "</div>"
      ],
      "text/plain": [
       "         id  user_id session_date  mb_used\n",
       "0   1000_13     1000   2018-12-29    89.86\n",
       "1  1000_204     1000   2018-12-31     0.00\n",
       "2  1000_379     1000   2018-12-28   660.40\n",
       "3  1000_413     1000   2018-12-26   270.99\n",
       "4  1000_442     1000   2018-12-27   880.22"
      ]
     },
     "metadata": {},
     "output_type": "display_data"
    },
    {
     "data": {
      "text/html": [
       "<div>\n",
       "<style scoped>\n",
       "    .dataframe tbody tr th:only-of-type {\n",
       "        vertical-align: middle;\n",
       "    }\n",
       "\n",
       "    .dataframe tbody tr th {\n",
       "        vertical-align: top;\n",
       "    }\n",
       "\n",
       "    .dataframe thead th {\n",
       "        text-align: right;\n",
       "    }\n",
       "</style>\n",
       "<table border=\"1\" class=\"dataframe\">\n",
       "  <thead>\n",
       "    <tr style=\"text-align: right;\">\n",
       "      <th></th>\n",
       "      <th>id</th>\n",
       "      <th>user_id</th>\n",
       "      <th>session_date</th>\n",
       "      <th>mb_used</th>\n",
       "    </tr>\n",
       "  </thead>\n",
       "  <tbody>\n",
       "    <tr>\n",
       "      <th>34188</th>\n",
       "      <td>1155_232</td>\n",
       "      <td>1155</td>\n",
       "      <td>2018-03-15</td>\n",
       "      <td>212.29</td>\n",
       "    </tr>\n",
       "    <tr>\n",
       "      <th>103579</th>\n",
       "      <td>1495_198</td>\n",
       "      <td>1495</td>\n",
       "      <td>2018-12-06</td>\n",
       "      <td>258.03</td>\n",
       "    </tr>\n",
       "    <tr>\n",
       "      <th>33946</th>\n",
       "      <td>1154_106</td>\n",
       "      <td>1154</td>\n",
       "      <td>2018-10-11</td>\n",
       "      <td>822.29</td>\n",
       "    </tr>\n",
       "    <tr>\n",
       "      <th>78817</th>\n",
       "      <td>1367_466</td>\n",
       "      <td>1367</td>\n",
       "      <td>2018-11-14</td>\n",
       "      <td>0.00</td>\n",
       "    </tr>\n",
       "    <tr>\n",
       "      <th>21900</th>\n",
       "      <td>1100_104</td>\n",
       "      <td>1100</td>\n",
       "      <td>2018-09-14</td>\n",
       "      <td>55.89</td>\n",
       "    </tr>\n",
       "  </tbody>\n",
       "</table>\n",
       "</div>"
      ],
      "text/plain": [
       "              id  user_id session_date  mb_used\n",
       "34188   1155_232     1155   2018-03-15   212.29\n",
       "103579  1495_198     1495   2018-12-06   258.03\n",
       "33946   1154_106     1154   2018-10-11   822.29\n",
       "78817   1367_466     1367   2018-11-14     0.00\n",
       "21900   1100_104     1100   2018-09-14    55.89"
      ]
     },
     "metadata": {},
     "output_type": "display_data"
    }
   ],
   "source": [
    "# Imprime una muestra de datos para el tráfico de internet\n",
    "display(internet.head())\n",
    "display(internet.sample(5))\n"
   ]
  },
  {
   "cell_type": "markdown",
   "metadata": {
    "id": "EzOG5ik30q1D"
   },
   "source": [
    "[Describe lo que ves y observas en la información general y en la muestra de datos impresa para el precio de datos anterior. ¿Hay algún problema (tipos de datos no adecuados, datos ausentes, etc.) que pudieran necesitar investigación y cambios adicionales? ¿Cómo se puede arreglar?]\n",
    "\n",
    "* Las fechas no se encuentran con el formato correcto, tenemos que pasarla a Datetime"
   ]
  },
  {
   "cell_type": "markdown",
   "metadata": {
    "id": "yA0tkPFg0q1D"
   },
   "source": [
    "### Corregir los datos"
   ]
  },
  {
   "cell_type": "markdown",
   "metadata": {
    "id": "zlZMuIEK0q1D"
   },
   "source": [
    "[Corrige los problemas obvios con los datos basándote en las observaciones iniciales.]"
   ]
  },
  {
   "cell_type": "code",
   "execution_count": 20,
   "metadata": {
    "id": "zVeanzdd0q1E"
   },
   "outputs": [],
   "source": [
    "internet['session_date'] = pd.to_datetime(internet['session_date'])"
   ]
  },
  {
   "cell_type": "markdown",
   "metadata": {
    "id": "e8_mLF4a0q1E"
   },
   "source": [
    "### Enriquecer los datos"
   ]
  },
  {
   "cell_type": "markdown",
   "metadata": {
    "id": "xhNdn2tE0q1E"
   },
   "source": [
    "[Agrega factores adicionales a los datos si crees que pudieran ser útiles.]"
   ]
  },
  {
   "cell_type": "code",
   "execution_count": 21,
   "metadata": {
    "id": "ESiYPIEK0q1E"
   },
   "outputs": [
    {
     "data": {
      "text/html": [
       "<div>\n",
       "<style scoped>\n",
       "    .dataframe tbody tr th:only-of-type {\n",
       "        vertical-align: middle;\n",
       "    }\n",
       "\n",
       "    .dataframe tbody tr th {\n",
       "        vertical-align: top;\n",
       "    }\n",
       "\n",
       "    .dataframe thead th {\n",
       "        text-align: right;\n",
       "    }\n",
       "</style>\n",
       "<table border=\"1\" class=\"dataframe\">\n",
       "  <thead>\n",
       "    <tr style=\"text-align: right;\">\n",
       "      <th></th>\n",
       "      <th>id</th>\n",
       "      <th>user_id</th>\n",
       "      <th>session_date</th>\n",
       "      <th>mb_used</th>\n",
       "      <th>gb_used</th>\n",
       "    </tr>\n",
       "  </thead>\n",
       "  <tbody>\n",
       "    <tr>\n",
       "      <th>0</th>\n",
       "      <td>1000_13</td>\n",
       "      <td>1000</td>\n",
       "      <td>2018-12-29</td>\n",
       "      <td>89.86</td>\n",
       "      <td>0.087754</td>\n",
       "    </tr>\n",
       "    <tr>\n",
       "      <th>1</th>\n",
       "      <td>1000_204</td>\n",
       "      <td>1000</td>\n",
       "      <td>2018-12-31</td>\n",
       "      <td>0.00</td>\n",
       "      <td>0.000000</td>\n",
       "    </tr>\n",
       "    <tr>\n",
       "      <th>2</th>\n",
       "      <td>1000_379</td>\n",
       "      <td>1000</td>\n",
       "      <td>2018-12-28</td>\n",
       "      <td>660.40</td>\n",
       "      <td>0.644922</td>\n",
       "    </tr>\n",
       "    <tr>\n",
       "      <th>3</th>\n",
       "      <td>1000_413</td>\n",
       "      <td>1000</td>\n",
       "      <td>2018-12-26</td>\n",
       "      <td>270.99</td>\n",
       "      <td>0.264639</td>\n",
       "    </tr>\n",
       "    <tr>\n",
       "      <th>4</th>\n",
       "      <td>1000_442</td>\n",
       "      <td>1000</td>\n",
       "      <td>2018-12-27</td>\n",
       "      <td>880.22</td>\n",
       "      <td>0.859590</td>\n",
       "    </tr>\n",
       "  </tbody>\n",
       "</table>\n",
       "</div>"
      ],
      "text/plain": [
       "         id  user_id session_date  mb_used   gb_used\n",
       "0   1000_13     1000   2018-12-29    89.86  0.087754\n",
       "1  1000_204     1000   2018-12-31     0.00  0.000000\n",
       "2  1000_379     1000   2018-12-28   660.40  0.644922\n",
       "3  1000_413     1000   2018-12-26   270.99  0.264639\n",
       "4  1000_442     1000   2018-12-27   880.22  0.859590"
      ]
     },
     "execution_count": 21,
     "metadata": {},
     "output_type": "execute_result"
    }
   ],
   "source": [
    "internet['gb_used']=(internet['mb_used']/1024).astype(float)\n",
    "internet.head()"
   ]
  },
  {
   "cell_type": "markdown",
   "metadata": {
    "id": "3UA2cqIW0q1E"
   },
   "source": [
    "## Estudiar las condiciones de las tarifas"
   ]
  },
  {
   "cell_type": "markdown",
   "metadata": {
    "id": "T86Sqltq0q1F"
   },
   "source": [
    "[Es sumamente importante entender cómo funcionan las tarifas, cómo se les cobra a los usuarios en función de su plan de suscripción. Así que te sugerimos imprimir la información de la tarifa para ver una vez más sus condiciones.]"
   ]
  },
  {
   "cell_type": "code",
   "execution_count": 22,
   "metadata": {
    "id": "i409op8p0q1F"
   },
   "outputs": [
    {
     "data": {
      "text/html": [
       "<div>\n",
       "<style scoped>\n",
       "    .dataframe tbody tr th:only-of-type {\n",
       "        vertical-align: middle;\n",
       "    }\n",
       "\n",
       "    .dataframe tbody tr th {\n",
       "        vertical-align: top;\n",
       "    }\n",
       "\n",
       "    .dataframe thead th {\n",
       "        text-align: right;\n",
       "    }\n",
       "</style>\n",
       "<table border=\"1\" class=\"dataframe\">\n",
       "  <thead>\n",
       "    <tr style=\"text-align: right;\">\n",
       "      <th></th>\n",
       "      <th>messages_included</th>\n",
       "      <th>mb_per_month_included</th>\n",
       "      <th>minutes_included</th>\n",
       "      <th>usd_monthly_pay</th>\n",
       "      <th>usd_per_gb</th>\n",
       "      <th>usd_per_message</th>\n",
       "      <th>usd_per_minute</th>\n",
       "      <th>plan_name</th>\n",
       "      <th>gb_per_month_included</th>\n",
       "    </tr>\n",
       "  </thead>\n",
       "  <tbody>\n",
       "    <tr>\n",
       "      <th>0</th>\n",
       "      <td>50</td>\n",
       "      <td>15360</td>\n",
       "      <td>500</td>\n",
       "      <td>20</td>\n",
       "      <td>10</td>\n",
       "      <td>0.03</td>\n",
       "      <td>0.03</td>\n",
       "      <td>surf</td>\n",
       "      <td>15</td>\n",
       "    </tr>\n",
       "    <tr>\n",
       "      <th>1</th>\n",
       "      <td>1000</td>\n",
       "      <td>30720</td>\n",
       "      <td>3000</td>\n",
       "      <td>70</td>\n",
       "      <td>7</td>\n",
       "      <td>0.01</td>\n",
       "      <td>0.01</td>\n",
       "      <td>ultimate</td>\n",
       "      <td>30</td>\n",
       "    </tr>\n",
       "  </tbody>\n",
       "</table>\n",
       "</div>"
      ],
      "text/plain": [
       "   messages_included  mb_per_month_included  minutes_included  \\\n",
       "0                 50                  15360               500   \n",
       "1               1000                  30720              3000   \n",
       "\n",
       "   usd_monthly_pay  usd_per_gb  usd_per_message  usd_per_minute plan_name  \\\n",
       "0               20          10             0.03            0.03      surf   \n",
       "1               70           7             0.01            0.01  ultimate   \n",
       "\n",
       "   gb_per_month_included  \n",
       "0                     15  \n",
       "1                     30  "
      ]
     },
     "metadata": {},
     "output_type": "display_data"
    }
   ],
   "source": [
    "# Imprime las condiciones de la tarifa y asegúrate de que te quedan claras\n",
    "display(plans)\n",
    "\n"
   ]
  },
  {
   "cell_type": "markdown",
   "metadata": {
    "id": "hMR1tP5d0q1F"
   },
   "source": [
    "## Agregar datos por usuario\n",
    "\n",
    "[Ahora que los datos están limpios, agrega los datos por usuario y por periodo para que solo haya un registro por usuario y por periodo. Esto facilitará mucho el análisis posterior.]"
   ]
  },
  {
   "cell_type": "code",
   "execution_count": 23,
   "metadata": {
    "id": "A332cedB0q1G"
   },
   "outputs": [
    {
     "data": {
      "text/html": [
       "<div>\n",
       "<style scoped>\n",
       "    .dataframe tbody tr th:only-of-type {\n",
       "        vertical-align: middle;\n",
       "    }\n",
       "\n",
       "    .dataframe tbody tr th {\n",
       "        vertical-align: top;\n",
       "    }\n",
       "\n",
       "    .dataframe thead th {\n",
       "        text-align: right;\n",
       "    }\n",
       "</style>\n",
       "<table border=\"1\" class=\"dataframe\">\n",
       "  <thead>\n",
       "    <tr style=\"text-align: right;\">\n",
       "      <th></th>\n",
       "      <th>user_id</th>\n",
       "      <th>month</th>\n",
       "      <th>call_count</th>\n",
       "    </tr>\n",
       "  </thead>\n",
       "  <tbody>\n",
       "    <tr>\n",
       "      <th>0</th>\n",
       "      <td>1000</td>\n",
       "      <td>12</td>\n",
       "      <td>16</td>\n",
       "    </tr>\n",
       "    <tr>\n",
       "      <th>1</th>\n",
       "      <td>1001</td>\n",
       "      <td>8</td>\n",
       "      <td>27</td>\n",
       "    </tr>\n",
       "    <tr>\n",
       "      <th>2</th>\n",
       "      <td>1001</td>\n",
       "      <td>9</td>\n",
       "      <td>49</td>\n",
       "    </tr>\n",
       "    <tr>\n",
       "      <th>3</th>\n",
       "      <td>1001</td>\n",
       "      <td>10</td>\n",
       "      <td>65</td>\n",
       "    </tr>\n",
       "    <tr>\n",
       "      <th>4</th>\n",
       "      <td>1001</td>\n",
       "      <td>11</td>\n",
       "      <td>64</td>\n",
       "    </tr>\n",
       "    <tr>\n",
       "      <th>...</th>\n",
       "      <td>...</td>\n",
       "      <td>...</td>\n",
       "      <td>...</td>\n",
       "    </tr>\n",
       "    <tr>\n",
       "      <th>2253</th>\n",
       "      <td>1498</td>\n",
       "      <td>12</td>\n",
       "      <td>39</td>\n",
       "    </tr>\n",
       "    <tr>\n",
       "      <th>2254</th>\n",
       "      <td>1499</td>\n",
       "      <td>9</td>\n",
       "      <td>41</td>\n",
       "    </tr>\n",
       "    <tr>\n",
       "      <th>2255</th>\n",
       "      <td>1499</td>\n",
       "      <td>10</td>\n",
       "      <td>53</td>\n",
       "    </tr>\n",
       "    <tr>\n",
       "      <th>2256</th>\n",
       "      <td>1499</td>\n",
       "      <td>11</td>\n",
       "      <td>45</td>\n",
       "    </tr>\n",
       "    <tr>\n",
       "      <th>2257</th>\n",
       "      <td>1499</td>\n",
       "      <td>12</td>\n",
       "      <td>65</td>\n",
       "    </tr>\n",
       "  </tbody>\n",
       "</table>\n",
       "<p>2258 rows × 3 columns</p>\n",
       "</div>"
      ],
      "text/plain": [
       "      user_id  month  call_count\n",
       "0        1000     12          16\n",
       "1        1001      8          27\n",
       "2        1001      9          49\n",
       "3        1001     10          65\n",
       "4        1001     11          64\n",
       "...       ...    ...         ...\n",
       "2253     1498     12          39\n",
       "2254     1499      9          41\n",
       "2255     1499     10          53\n",
       "2256     1499     11          45\n",
       "2257     1499     12          65\n",
       "\n",
       "[2258 rows x 3 columns]"
      ]
     },
     "metadata": {},
     "output_type": "display_data"
    }
   ],
   "source": [
    "# Calcula el número de llamadas hechas por cada usuario al mes. Guarda el resultado.\n",
    "calls['month'] = calls['call_date'].dt.month\n",
    "calls_per_month = calls.groupby(['user_id', 'month']).size().reset_index(name='call_count')\n",
    "display(calls_per_month)"
   ]
  },
  {
   "cell_type": "code",
   "execution_count": 24,
   "metadata": {
    "id": "aw2cmuql0q1G"
   },
   "outputs": [
    {
     "data": {
      "text/html": [
       "<div>\n",
       "<style scoped>\n",
       "    .dataframe tbody tr th:only-of-type {\n",
       "        vertical-align: middle;\n",
       "    }\n",
       "\n",
       "    .dataframe tbody tr th {\n",
       "        vertical-align: top;\n",
       "    }\n",
       "\n",
       "    .dataframe thead th {\n",
       "        text-align: right;\n",
       "    }\n",
       "</style>\n",
       "<table border=\"1\" class=\"dataframe\">\n",
       "  <thead>\n",
       "    <tr style=\"text-align: right;\">\n",
       "      <th></th>\n",
       "      <th>user_id</th>\n",
       "      <th>month</th>\n",
       "      <th>sum_minutes</th>\n",
       "    </tr>\n",
       "  </thead>\n",
       "  <tbody>\n",
       "    <tr>\n",
       "      <th>0</th>\n",
       "      <td>1000</td>\n",
       "      <td>12</td>\n",
       "      <td>124.0</td>\n",
       "    </tr>\n",
       "    <tr>\n",
       "      <th>1</th>\n",
       "      <td>1001</td>\n",
       "      <td>8</td>\n",
       "      <td>182.0</td>\n",
       "    </tr>\n",
       "    <tr>\n",
       "      <th>2</th>\n",
       "      <td>1001</td>\n",
       "      <td>9</td>\n",
       "      <td>315.0</td>\n",
       "    </tr>\n",
       "    <tr>\n",
       "      <th>3</th>\n",
       "      <td>1001</td>\n",
       "      <td>10</td>\n",
       "      <td>393.0</td>\n",
       "    </tr>\n",
       "    <tr>\n",
       "      <th>4</th>\n",
       "      <td>1001</td>\n",
       "      <td>11</td>\n",
       "      <td>426.0</td>\n",
       "    </tr>\n",
       "    <tr>\n",
       "      <th>...</th>\n",
       "      <td>...</td>\n",
       "      <td>...</td>\n",
       "      <td>...</td>\n",
       "    </tr>\n",
       "    <tr>\n",
       "      <th>2253</th>\n",
       "      <td>1498</td>\n",
       "      <td>12</td>\n",
       "      <td>339.0</td>\n",
       "    </tr>\n",
       "    <tr>\n",
       "      <th>2254</th>\n",
       "      <td>1499</td>\n",
       "      <td>9</td>\n",
       "      <td>346.0</td>\n",
       "    </tr>\n",
       "    <tr>\n",
       "      <th>2255</th>\n",
       "      <td>1499</td>\n",
       "      <td>10</td>\n",
       "      <td>385.0</td>\n",
       "    </tr>\n",
       "    <tr>\n",
       "      <th>2256</th>\n",
       "      <td>1499</td>\n",
       "      <td>11</td>\n",
       "      <td>308.0</td>\n",
       "    </tr>\n",
       "    <tr>\n",
       "      <th>2257</th>\n",
       "      <td>1499</td>\n",
       "      <td>12</td>\n",
       "      <td>496.0</td>\n",
       "    </tr>\n",
       "  </tbody>\n",
       "</table>\n",
       "<p>2258 rows × 3 columns</p>\n",
       "</div>"
      ],
      "text/plain": [
       "      user_id  month  sum_minutes\n",
       "0        1000     12        124.0\n",
       "1        1001      8        182.0\n",
       "2        1001      9        315.0\n",
       "3        1001     10        393.0\n",
       "4        1001     11        426.0\n",
       "...       ...    ...          ...\n",
       "2253     1498     12        339.0\n",
       "2254     1499      9        346.0\n",
       "2255     1499     10        385.0\n",
       "2256     1499     11        308.0\n",
       "2257     1499     12        496.0\n",
       "\n",
       "[2258 rows x 3 columns]"
      ]
     },
     "metadata": {},
     "output_type": "display_data"
    }
   ],
   "source": [
    "# Calcula la cantidad de minutos usados por cada usuario al mes. Guarda el resultado.\n",
    "minutes_per_month = calls.groupby(['user_id','month'])['duration'].sum().reset_index(name ='sum_minutes')\n",
    "display(minutes_per_month)\n"
   ]
  },
  {
   "cell_type": "code",
   "execution_count": 25,
   "metadata": {
    "id": "CcQvNHn60q1G"
   },
   "outputs": [
    {
     "data": {
      "text/html": [
       "<div>\n",
       "<style scoped>\n",
       "    .dataframe tbody tr th:only-of-type {\n",
       "        vertical-align: middle;\n",
       "    }\n",
       "\n",
       "    .dataframe tbody tr th {\n",
       "        vertical-align: top;\n",
       "    }\n",
       "\n",
       "    .dataframe thead th {\n",
       "        text-align: right;\n",
       "    }\n",
       "</style>\n",
       "<table border=\"1\" class=\"dataframe\">\n",
       "  <thead>\n",
       "    <tr style=\"text-align: right;\">\n",
       "      <th></th>\n",
       "      <th>user_id</th>\n",
       "      <th>month</th>\n",
       "      <th>messages_count</th>\n",
       "    </tr>\n",
       "  </thead>\n",
       "  <tbody>\n",
       "    <tr>\n",
       "      <th>0</th>\n",
       "      <td>1000</td>\n",
       "      <td>12</td>\n",
       "      <td>11</td>\n",
       "    </tr>\n",
       "    <tr>\n",
       "      <th>1</th>\n",
       "      <td>1001</td>\n",
       "      <td>8</td>\n",
       "      <td>30</td>\n",
       "    </tr>\n",
       "    <tr>\n",
       "      <th>2</th>\n",
       "      <td>1001</td>\n",
       "      <td>9</td>\n",
       "      <td>44</td>\n",
       "    </tr>\n",
       "    <tr>\n",
       "      <th>3</th>\n",
       "      <td>1001</td>\n",
       "      <td>10</td>\n",
       "      <td>53</td>\n",
       "    </tr>\n",
       "    <tr>\n",
       "      <th>4</th>\n",
       "      <td>1001</td>\n",
       "      <td>11</td>\n",
       "      <td>36</td>\n",
       "    </tr>\n",
       "    <tr>\n",
       "      <th>...</th>\n",
       "      <td>...</td>\n",
       "      <td>...</td>\n",
       "      <td>...</td>\n",
       "    </tr>\n",
       "    <tr>\n",
       "      <th>1801</th>\n",
       "      <td>1496</td>\n",
       "      <td>9</td>\n",
       "      <td>21</td>\n",
       "    </tr>\n",
       "    <tr>\n",
       "      <th>1802</th>\n",
       "      <td>1496</td>\n",
       "      <td>10</td>\n",
       "      <td>18</td>\n",
       "    </tr>\n",
       "    <tr>\n",
       "      <th>1803</th>\n",
       "      <td>1496</td>\n",
       "      <td>11</td>\n",
       "      <td>13</td>\n",
       "    </tr>\n",
       "    <tr>\n",
       "      <th>1804</th>\n",
       "      <td>1496</td>\n",
       "      <td>12</td>\n",
       "      <td>11</td>\n",
       "    </tr>\n",
       "    <tr>\n",
       "      <th>1805</th>\n",
       "      <td>1497</td>\n",
       "      <td>12</td>\n",
       "      <td>50</td>\n",
       "    </tr>\n",
       "  </tbody>\n",
       "</table>\n",
       "<p>1806 rows × 3 columns</p>\n",
       "</div>"
      ],
      "text/plain": [
       "      user_id  month  messages_count\n",
       "0        1000     12              11\n",
       "1        1001      8              30\n",
       "2        1001      9              44\n",
       "3        1001     10              53\n",
       "4        1001     11              36\n",
       "...       ...    ...             ...\n",
       "1801     1496      9              21\n",
       "1802     1496     10              18\n",
       "1803     1496     11              13\n",
       "1804     1496     12              11\n",
       "1805     1497     12              50\n",
       "\n",
       "[1806 rows x 3 columns]"
      ]
     },
     "metadata": {},
     "output_type": "display_data"
    }
   ],
   "source": [
    "# Calcula el número de mensajes enviados por cada usuario al mes. Guarda el resultado.\n",
    "messages['month'] = messages['message_date'].dt.month\n",
    "messages_per_month = messages.groupby(['user_id','month']).size().reset_index(name = 'messages_count')\n",
    "display(messages_per_month)"
   ]
  },
  {
   "cell_type": "code",
   "execution_count": 26,
   "metadata": {
    "id": "H1AqN2eG0q1H"
   },
   "outputs": [
    {
     "data": {
      "text/html": [
       "<div>\n",
       "<style scoped>\n",
       "    .dataframe tbody tr th:only-of-type {\n",
       "        vertical-align: middle;\n",
       "    }\n",
       "\n",
       "    .dataframe tbody tr th {\n",
       "        vertical-align: top;\n",
       "    }\n",
       "\n",
       "    .dataframe thead th {\n",
       "        text-align: right;\n",
       "    }\n",
       "</style>\n",
       "<table border=\"1\" class=\"dataframe\">\n",
       "  <thead>\n",
       "    <tr style=\"text-align: right;\">\n",
       "      <th></th>\n",
       "      <th>user_id</th>\n",
       "      <th>month</th>\n",
       "      <th>gb_sum</th>\n",
       "    </tr>\n",
       "  </thead>\n",
       "  <tbody>\n",
       "    <tr>\n",
       "      <th>0</th>\n",
       "      <td>1000</td>\n",
       "      <td>12</td>\n",
       "      <td>2.0</td>\n",
       "    </tr>\n",
       "    <tr>\n",
       "      <th>1</th>\n",
       "      <td>1001</td>\n",
       "      <td>8</td>\n",
       "      <td>7.0</td>\n",
       "    </tr>\n",
       "    <tr>\n",
       "      <th>2</th>\n",
       "      <td>1001</td>\n",
       "      <td>9</td>\n",
       "      <td>14.0</td>\n",
       "    </tr>\n",
       "    <tr>\n",
       "      <th>3</th>\n",
       "      <td>1001</td>\n",
       "      <td>10</td>\n",
       "      <td>22.0</td>\n",
       "    </tr>\n",
       "    <tr>\n",
       "      <th>4</th>\n",
       "      <td>1001</td>\n",
       "      <td>11</td>\n",
       "      <td>19.0</td>\n",
       "    </tr>\n",
       "    <tr>\n",
       "      <th>...</th>\n",
       "      <td>...</td>\n",
       "      <td>...</td>\n",
       "      <td>...</td>\n",
       "    </tr>\n",
       "    <tr>\n",
       "      <th>2272</th>\n",
       "      <td>1498</td>\n",
       "      <td>12</td>\n",
       "      <td>23.0</td>\n",
       "    </tr>\n",
       "    <tr>\n",
       "      <th>2273</th>\n",
       "      <td>1499</td>\n",
       "      <td>9</td>\n",
       "      <td>13.0</td>\n",
       "    </tr>\n",
       "    <tr>\n",
       "      <th>2274</th>\n",
       "      <td>1499</td>\n",
       "      <td>10</td>\n",
       "      <td>20.0</td>\n",
       "    </tr>\n",
       "    <tr>\n",
       "      <th>2275</th>\n",
       "      <td>1499</td>\n",
       "      <td>11</td>\n",
       "      <td>17.0</td>\n",
       "    </tr>\n",
       "    <tr>\n",
       "      <th>2276</th>\n",
       "      <td>1499</td>\n",
       "      <td>12</td>\n",
       "      <td>22.0</td>\n",
       "    </tr>\n",
       "  </tbody>\n",
       "</table>\n",
       "<p>2277 rows × 3 columns</p>\n",
       "</div>"
      ],
      "text/plain": [
       "      user_id  month  gb_sum\n",
       "0        1000     12     2.0\n",
       "1        1001      8     7.0\n",
       "2        1001      9    14.0\n",
       "3        1001     10    22.0\n",
       "4        1001     11    19.0\n",
       "...       ...    ...     ...\n",
       "2272     1498     12    23.0\n",
       "2273     1499      9    13.0\n",
       "2274     1499     10    20.0\n",
       "2275     1499     11    17.0\n",
       "2276     1499     12    22.0\n",
       "\n",
       "[2277 rows x 3 columns]"
      ]
     },
     "metadata": {},
     "output_type": "display_data"
    }
   ],
   "source": [
    "# Calcula el volumen del tráfico de Internet usado por cada usuario al mes. Guarda el resultado.\n",
    "internet['month'] = internet['session_date'].dt.month\n",
    "internet_per_month = internet.groupby(['user_id','month'])['gb_used'].sum().reset_index(name = 'gb_sum')\n",
    "internet_per_month['gb_sum'] = np.ceil(internet_per_month['gb_sum'])\n",
    "display(internet_per_month)"
   ]
  },
  {
   "cell_type": "markdown",
   "metadata": {
    "id": "VDfYXnj80q1H"
   },
   "source": [
    "[Junta los datos agregados en un DataFrame para que haya un registro que represente lo que consumió un usuario único en un mes determinado.]"
   ]
  },
  {
   "cell_type": "code",
   "execution_count": 27,
   "metadata": {
    "id": "FW99ykyf0q1H"
   },
   "outputs": [
    {
     "data": {
      "text/html": [
       "<div>\n",
       "<style scoped>\n",
       "    .dataframe tbody tr th:only-of-type {\n",
       "        vertical-align: middle;\n",
       "    }\n",
       "\n",
       "    .dataframe tbody tr th {\n",
       "        vertical-align: top;\n",
       "    }\n",
       "\n",
       "    .dataframe thead th {\n",
       "        text-align: right;\n",
       "    }\n",
       "</style>\n",
       "<table border=\"1\" class=\"dataframe\">\n",
       "  <thead>\n",
       "    <tr style=\"text-align: right;\">\n",
       "      <th></th>\n",
       "      <th>user_id</th>\n",
       "      <th>month</th>\n",
       "      <th>call_count</th>\n",
       "      <th>sum_minutes</th>\n",
       "      <th>messages_count</th>\n",
       "      <th>gb_sum</th>\n",
       "    </tr>\n",
       "  </thead>\n",
       "  <tbody>\n",
       "    <tr>\n",
       "      <th>0</th>\n",
       "      <td>1000</td>\n",
       "      <td>12</td>\n",
       "      <td>16.0</td>\n",
       "      <td>124.0</td>\n",
       "      <td>11.0</td>\n",
       "      <td>2.0</td>\n",
       "    </tr>\n",
       "    <tr>\n",
       "      <th>1</th>\n",
       "      <td>1001</td>\n",
       "      <td>8</td>\n",
       "      <td>27.0</td>\n",
       "      <td>182.0</td>\n",
       "      <td>30.0</td>\n",
       "      <td>7.0</td>\n",
       "    </tr>\n",
       "    <tr>\n",
       "      <th>2</th>\n",
       "      <td>1001</td>\n",
       "      <td>9</td>\n",
       "      <td>49.0</td>\n",
       "      <td>315.0</td>\n",
       "      <td>44.0</td>\n",
       "      <td>14.0</td>\n",
       "    </tr>\n",
       "    <tr>\n",
       "      <th>3</th>\n",
       "      <td>1001</td>\n",
       "      <td>10</td>\n",
       "      <td>65.0</td>\n",
       "      <td>393.0</td>\n",
       "      <td>53.0</td>\n",
       "      <td>22.0</td>\n",
       "    </tr>\n",
       "    <tr>\n",
       "      <th>4</th>\n",
       "      <td>1001</td>\n",
       "      <td>11</td>\n",
       "      <td>64.0</td>\n",
       "      <td>426.0</td>\n",
       "      <td>36.0</td>\n",
       "      <td>19.0</td>\n",
       "    </tr>\n",
       "    <tr>\n",
       "      <th>...</th>\n",
       "      <td>...</td>\n",
       "      <td>...</td>\n",
       "      <td>...</td>\n",
       "      <td>...</td>\n",
       "      <td>...</td>\n",
       "      <td>...</td>\n",
       "    </tr>\n",
       "    <tr>\n",
       "      <th>2253</th>\n",
       "      <td>1498</td>\n",
       "      <td>12</td>\n",
       "      <td>39.0</td>\n",
       "      <td>339.0</td>\n",
       "      <td>0.0</td>\n",
       "      <td>23.0</td>\n",
       "    </tr>\n",
       "    <tr>\n",
       "      <th>2254</th>\n",
       "      <td>1499</td>\n",
       "      <td>9</td>\n",
       "      <td>41.0</td>\n",
       "      <td>346.0</td>\n",
       "      <td>0.0</td>\n",
       "      <td>13.0</td>\n",
       "    </tr>\n",
       "    <tr>\n",
       "      <th>2255</th>\n",
       "      <td>1499</td>\n",
       "      <td>10</td>\n",
       "      <td>53.0</td>\n",
       "      <td>385.0</td>\n",
       "      <td>0.0</td>\n",
       "      <td>20.0</td>\n",
       "    </tr>\n",
       "    <tr>\n",
       "      <th>2256</th>\n",
       "      <td>1499</td>\n",
       "      <td>11</td>\n",
       "      <td>45.0</td>\n",
       "      <td>308.0</td>\n",
       "      <td>0.0</td>\n",
       "      <td>17.0</td>\n",
       "    </tr>\n",
       "    <tr>\n",
       "      <th>2257</th>\n",
       "      <td>1499</td>\n",
       "      <td>12</td>\n",
       "      <td>65.0</td>\n",
       "      <td>496.0</td>\n",
       "      <td>0.0</td>\n",
       "      <td>22.0</td>\n",
       "    </tr>\n",
       "  </tbody>\n",
       "</table>\n",
       "<p>2293 rows × 6 columns</p>\n",
       "</div>"
      ],
      "text/plain": [
       "      user_id  month  call_count  sum_minutes  messages_count  gb_sum\n",
       "0        1000     12        16.0        124.0            11.0     2.0\n",
       "1        1001      8        27.0        182.0            30.0     7.0\n",
       "2        1001      9        49.0        315.0            44.0    14.0\n",
       "3        1001     10        65.0        393.0            53.0    22.0\n",
       "4        1001     11        64.0        426.0            36.0    19.0\n",
       "...       ...    ...         ...          ...             ...     ...\n",
       "2253     1498     12        39.0        339.0             0.0    23.0\n",
       "2254     1499      9        41.0        346.0             0.0    13.0\n",
       "2255     1499     10        53.0        385.0             0.0    20.0\n",
       "2256     1499     11        45.0        308.0             0.0    17.0\n",
       "2257     1499     12        65.0        496.0             0.0    22.0\n",
       "\n",
       "[2293 rows x 6 columns]"
      ]
     },
     "metadata": {},
     "output_type": "display_data"
    }
   ],
   "source": [
    "# Fusiona los datos de llamadas, minutos, mensajes e Internet con base en user_id y month\n",
    "monthly_consumption = calls_per_month.merge(minutes_per_month, on=['user_id', 'month'], how='outer')\\\n",
    "                 .merge(messages_per_month, on=['user_id', 'month'], how='outer')\\\n",
    "                 .merge(internet_per_month, on=['user_id', 'month'], how='outer')\n",
    "\n",
    "# Rellenar valores ausentes con \"0\"\n",
    "monthly_consumption = monthly_consumption.fillna(0)\n",
    "\n",
    "# Ordenar por usuario\n",
    "monthly_consumption = monthly_consumption.sort_values(by = ['user_id','month'])\n",
    "\n",
    "display(monthly_consumption)\n",
    "\n",
    "\n"
   ]
  },
  {
   "cell_type": "code",
   "execution_count": 28,
   "metadata": {
    "id": "0dNOXHag0q1H"
   },
   "outputs": [
    {
     "data": {
      "text/html": [
       "<div>\n",
       "<style scoped>\n",
       "    .dataframe tbody tr th:only-of-type {\n",
       "        vertical-align: middle;\n",
       "    }\n",
       "\n",
       "    .dataframe tbody tr th {\n",
       "        vertical-align: top;\n",
       "    }\n",
       "\n",
       "    .dataframe thead th {\n",
       "        text-align: right;\n",
       "    }\n",
       "</style>\n",
       "<table border=\"1\" class=\"dataframe\">\n",
       "  <thead>\n",
       "    <tr style=\"text-align: right;\">\n",
       "      <th></th>\n",
       "      <th>user_id</th>\n",
       "      <th>month</th>\n",
       "      <th>call_count</th>\n",
       "      <th>sum_minutes</th>\n",
       "      <th>messages_count</th>\n",
       "      <th>gb_sum</th>\n",
       "      <th>first_name</th>\n",
       "      <th>last_name</th>\n",
       "      <th>age</th>\n",
       "      <th>city</th>\n",
       "      <th>reg_date</th>\n",
       "      <th>plan</th>\n",
       "      <th>churn_date</th>\n",
       "      <th>user_status</th>\n",
       "    </tr>\n",
       "  </thead>\n",
       "  <tbody>\n",
       "    <tr>\n",
       "      <th>0</th>\n",
       "      <td>1000</td>\n",
       "      <td>12</td>\n",
       "      <td>16.0</td>\n",
       "      <td>124.0</td>\n",
       "      <td>11.0</td>\n",
       "      <td>2.0</td>\n",
       "      <td>Anamaria</td>\n",
       "      <td>Bauer</td>\n",
       "      <td>45</td>\n",
       "      <td>Atlanta-Sandy Springs-Roswell, GA MSA</td>\n",
       "      <td>2018-12-24</td>\n",
       "      <td>ultimate</td>\n",
       "      <td>NaT</td>\n",
       "      <td>active</td>\n",
       "    </tr>\n",
       "    <tr>\n",
       "      <th>1</th>\n",
       "      <td>1001</td>\n",
       "      <td>8</td>\n",
       "      <td>27.0</td>\n",
       "      <td>182.0</td>\n",
       "      <td>30.0</td>\n",
       "      <td>7.0</td>\n",
       "      <td>Mickey</td>\n",
       "      <td>Wilkerson</td>\n",
       "      <td>28</td>\n",
       "      <td>Seattle-Tacoma-Bellevue, WA MSA</td>\n",
       "      <td>2018-08-13</td>\n",
       "      <td>surf</td>\n",
       "      <td>NaT</td>\n",
       "      <td>active</td>\n",
       "    </tr>\n",
       "    <tr>\n",
       "      <th>2</th>\n",
       "      <td>1001</td>\n",
       "      <td>9</td>\n",
       "      <td>49.0</td>\n",
       "      <td>315.0</td>\n",
       "      <td>44.0</td>\n",
       "      <td>14.0</td>\n",
       "      <td>Mickey</td>\n",
       "      <td>Wilkerson</td>\n",
       "      <td>28</td>\n",
       "      <td>Seattle-Tacoma-Bellevue, WA MSA</td>\n",
       "      <td>2018-08-13</td>\n",
       "      <td>surf</td>\n",
       "      <td>NaT</td>\n",
       "      <td>active</td>\n",
       "    </tr>\n",
       "    <tr>\n",
       "      <th>3</th>\n",
       "      <td>1001</td>\n",
       "      <td>10</td>\n",
       "      <td>65.0</td>\n",
       "      <td>393.0</td>\n",
       "      <td>53.0</td>\n",
       "      <td>22.0</td>\n",
       "      <td>Mickey</td>\n",
       "      <td>Wilkerson</td>\n",
       "      <td>28</td>\n",
       "      <td>Seattle-Tacoma-Bellevue, WA MSA</td>\n",
       "      <td>2018-08-13</td>\n",
       "      <td>surf</td>\n",
       "      <td>NaT</td>\n",
       "      <td>active</td>\n",
       "    </tr>\n",
       "    <tr>\n",
       "      <th>4</th>\n",
       "      <td>1001</td>\n",
       "      <td>11</td>\n",
       "      <td>64.0</td>\n",
       "      <td>426.0</td>\n",
       "      <td>36.0</td>\n",
       "      <td>19.0</td>\n",
       "      <td>Mickey</td>\n",
       "      <td>Wilkerson</td>\n",
       "      <td>28</td>\n",
       "      <td>Seattle-Tacoma-Bellevue, WA MSA</td>\n",
       "      <td>2018-08-13</td>\n",
       "      <td>surf</td>\n",
       "      <td>NaT</td>\n",
       "      <td>active</td>\n",
       "    </tr>\n",
       "    <tr>\n",
       "      <th>...</th>\n",
       "      <td>...</td>\n",
       "      <td>...</td>\n",
       "      <td>...</td>\n",
       "      <td>...</td>\n",
       "      <td>...</td>\n",
       "      <td>...</td>\n",
       "      <td>...</td>\n",
       "      <td>...</td>\n",
       "      <td>...</td>\n",
       "      <td>...</td>\n",
       "      <td>...</td>\n",
       "      <td>...</td>\n",
       "      <td>...</td>\n",
       "      <td>...</td>\n",
       "    </tr>\n",
       "    <tr>\n",
       "      <th>2288</th>\n",
       "      <td>1498</td>\n",
       "      <td>12</td>\n",
       "      <td>39.0</td>\n",
       "      <td>339.0</td>\n",
       "      <td>0.0</td>\n",
       "      <td>23.0</td>\n",
       "      <td>Scot</td>\n",
       "      <td>Williamson</td>\n",
       "      <td>51</td>\n",
       "      <td>New York-Newark-Jersey City, NY-NJ-PA MSA</td>\n",
       "      <td>2018-02-04</td>\n",
       "      <td>surf</td>\n",
       "      <td>NaT</td>\n",
       "      <td>active</td>\n",
       "    </tr>\n",
       "    <tr>\n",
       "      <th>2289</th>\n",
       "      <td>1499</td>\n",
       "      <td>9</td>\n",
       "      <td>41.0</td>\n",
       "      <td>346.0</td>\n",
       "      <td>0.0</td>\n",
       "      <td>13.0</td>\n",
       "      <td>Shena</td>\n",
       "      <td>Dickson</td>\n",
       "      <td>37</td>\n",
       "      <td>Orlando-Kissimmee-Sanford, FL MSA</td>\n",
       "      <td>2018-05-06</td>\n",
       "      <td>surf</td>\n",
       "      <td>NaT</td>\n",
       "      <td>active</td>\n",
       "    </tr>\n",
       "    <tr>\n",
       "      <th>2290</th>\n",
       "      <td>1499</td>\n",
       "      <td>10</td>\n",
       "      <td>53.0</td>\n",
       "      <td>385.0</td>\n",
       "      <td>0.0</td>\n",
       "      <td>20.0</td>\n",
       "      <td>Shena</td>\n",
       "      <td>Dickson</td>\n",
       "      <td>37</td>\n",
       "      <td>Orlando-Kissimmee-Sanford, FL MSA</td>\n",
       "      <td>2018-05-06</td>\n",
       "      <td>surf</td>\n",
       "      <td>NaT</td>\n",
       "      <td>active</td>\n",
       "    </tr>\n",
       "    <tr>\n",
       "      <th>2291</th>\n",
       "      <td>1499</td>\n",
       "      <td>11</td>\n",
       "      <td>45.0</td>\n",
       "      <td>308.0</td>\n",
       "      <td>0.0</td>\n",
       "      <td>17.0</td>\n",
       "      <td>Shena</td>\n",
       "      <td>Dickson</td>\n",
       "      <td>37</td>\n",
       "      <td>Orlando-Kissimmee-Sanford, FL MSA</td>\n",
       "      <td>2018-05-06</td>\n",
       "      <td>surf</td>\n",
       "      <td>NaT</td>\n",
       "      <td>active</td>\n",
       "    </tr>\n",
       "    <tr>\n",
       "      <th>2292</th>\n",
       "      <td>1499</td>\n",
       "      <td>12</td>\n",
       "      <td>65.0</td>\n",
       "      <td>496.0</td>\n",
       "      <td>0.0</td>\n",
       "      <td>22.0</td>\n",
       "      <td>Shena</td>\n",
       "      <td>Dickson</td>\n",
       "      <td>37</td>\n",
       "      <td>Orlando-Kissimmee-Sanford, FL MSA</td>\n",
       "      <td>2018-05-06</td>\n",
       "      <td>surf</td>\n",
       "      <td>NaT</td>\n",
       "      <td>active</td>\n",
       "    </tr>\n",
       "  </tbody>\n",
       "</table>\n",
       "<p>2293 rows × 14 columns</p>\n",
       "</div>"
      ],
      "text/plain": [
       "      user_id  month  call_count  sum_minutes  messages_count  gb_sum  \\\n",
       "0        1000     12        16.0        124.0            11.0     2.0   \n",
       "1        1001      8        27.0        182.0            30.0     7.0   \n",
       "2        1001      9        49.0        315.0            44.0    14.0   \n",
       "3        1001     10        65.0        393.0            53.0    22.0   \n",
       "4        1001     11        64.0        426.0            36.0    19.0   \n",
       "...       ...    ...         ...          ...             ...     ...   \n",
       "2288     1498     12        39.0        339.0             0.0    23.0   \n",
       "2289     1499      9        41.0        346.0             0.0    13.0   \n",
       "2290     1499     10        53.0        385.0             0.0    20.0   \n",
       "2291     1499     11        45.0        308.0             0.0    17.0   \n",
       "2292     1499     12        65.0        496.0             0.0    22.0   \n",
       "\n",
       "     first_name   last_name  age                                       city  \\\n",
       "0      Anamaria       Bauer   45      Atlanta-Sandy Springs-Roswell, GA MSA   \n",
       "1        Mickey   Wilkerson   28            Seattle-Tacoma-Bellevue, WA MSA   \n",
       "2        Mickey   Wilkerson   28            Seattle-Tacoma-Bellevue, WA MSA   \n",
       "3        Mickey   Wilkerson   28            Seattle-Tacoma-Bellevue, WA MSA   \n",
       "4        Mickey   Wilkerson   28            Seattle-Tacoma-Bellevue, WA MSA   \n",
       "...         ...         ...  ...                                        ...   \n",
       "2288       Scot  Williamson   51  New York-Newark-Jersey City, NY-NJ-PA MSA   \n",
       "2289      Shena     Dickson   37          Orlando-Kissimmee-Sanford, FL MSA   \n",
       "2290      Shena     Dickson   37          Orlando-Kissimmee-Sanford, FL MSA   \n",
       "2291      Shena     Dickson   37          Orlando-Kissimmee-Sanford, FL MSA   \n",
       "2292      Shena     Dickson   37          Orlando-Kissimmee-Sanford, FL MSA   \n",
       "\n",
       "       reg_date      plan churn_date user_status  \n",
       "0    2018-12-24  ultimate        NaT      active  \n",
       "1    2018-08-13      surf        NaT      active  \n",
       "2    2018-08-13      surf        NaT      active  \n",
       "3    2018-08-13      surf        NaT      active  \n",
       "4    2018-08-13      surf        NaT      active  \n",
       "...         ...       ...        ...         ...  \n",
       "2288 2018-02-04      surf        NaT      active  \n",
       "2289 2018-05-06      surf        NaT      active  \n",
       "2290 2018-05-06      surf        NaT      active  \n",
       "2291 2018-05-06      surf        NaT      active  \n",
       "2292 2018-05-06      surf        NaT      active  \n",
       "\n",
       "[2293 rows x 14 columns]"
      ]
     },
     "metadata": {},
     "output_type": "display_data"
    }
   ],
   "source": [
    "# Añade la información de la tarifa\n",
    "monthly_consumption_plan = monthly_consumption.merge(users, on='user_id', how = 'left')\n",
    "display(monthly_consumption_plan)"
   ]
  },
  {
   "cell_type": "markdown",
   "metadata": {
    "id": "1IwGo4wg0q1I"
   },
   "source": [
    "[Calcula los ingresos mensuales por usuario (resta el límite del paquete gratuito del número total de llamadas, mensajes de texto y datos; multiplica el resultado por el valor del plan de llamadas; añade la tarifa mensual en función del plan de llamadas). Nota: Dadas las condiciones del plan, ¡esto podría no ser tan trivial como un par de líneas! Así que no pasa nada si dedicas algo de tiempo a ello.]"
   ]
  },
  {
   "cell_type": "code",
   "execution_count": 29,
   "metadata": {
    "id": "5FGCf_c60q1I"
   },
   "outputs": [
    {
     "data": {
      "text/html": [
       "<div>\n",
       "<style scoped>\n",
       "    .dataframe tbody tr th:only-of-type {\n",
       "        vertical-align: middle;\n",
       "    }\n",
       "\n",
       "    .dataframe tbody tr th {\n",
       "        vertical-align: top;\n",
       "    }\n",
       "\n",
       "    .dataframe thead th {\n",
       "        text-align: right;\n",
       "    }\n",
       "</style>\n",
       "<table border=\"1\" class=\"dataframe\">\n",
       "  <thead>\n",
       "    <tr style=\"text-align: right;\">\n",
       "      <th></th>\n",
       "      <th>user_id</th>\n",
       "      <th>month</th>\n",
       "      <th>total_revenue</th>\n",
       "      <th>plan_name</th>\n",
       "    </tr>\n",
       "  </thead>\n",
       "  <tbody>\n",
       "    <tr>\n",
       "      <th>0</th>\n",
       "      <td>1000</td>\n",
       "      <td>12</td>\n",
       "      <td>70.00</td>\n",
       "      <td>ultimate</td>\n",
       "    </tr>\n",
       "    <tr>\n",
       "      <th>1</th>\n",
       "      <td>1001</td>\n",
       "      <td>8</td>\n",
       "      <td>20.00</td>\n",
       "      <td>surf</td>\n",
       "    </tr>\n",
       "    <tr>\n",
       "      <th>2</th>\n",
       "      <td>1001</td>\n",
       "      <td>9</td>\n",
       "      <td>20.00</td>\n",
       "      <td>surf</td>\n",
       "    </tr>\n",
       "    <tr>\n",
       "      <th>3</th>\n",
       "      <td>1001</td>\n",
       "      <td>10</td>\n",
       "      <td>90.09</td>\n",
       "      <td>surf</td>\n",
       "    </tr>\n",
       "    <tr>\n",
       "      <th>4</th>\n",
       "      <td>1001</td>\n",
       "      <td>11</td>\n",
       "      <td>60.00</td>\n",
       "      <td>surf</td>\n",
       "    </tr>\n",
       "    <tr>\n",
       "      <th>...</th>\n",
       "      <td>...</td>\n",
       "      <td>...</td>\n",
       "      <td>...</td>\n",
       "      <td>...</td>\n",
       "    </tr>\n",
       "    <tr>\n",
       "      <th>2288</th>\n",
       "      <td>1498</td>\n",
       "      <td>12</td>\n",
       "      <td>100.00</td>\n",
       "      <td>surf</td>\n",
       "    </tr>\n",
       "    <tr>\n",
       "      <th>2289</th>\n",
       "      <td>1499</td>\n",
       "      <td>9</td>\n",
       "      <td>20.00</td>\n",
       "      <td>surf</td>\n",
       "    </tr>\n",
       "    <tr>\n",
       "      <th>2290</th>\n",
       "      <td>1499</td>\n",
       "      <td>10</td>\n",
       "      <td>70.00</td>\n",
       "      <td>surf</td>\n",
       "    </tr>\n",
       "    <tr>\n",
       "      <th>2291</th>\n",
       "      <td>1499</td>\n",
       "      <td>11</td>\n",
       "      <td>40.00</td>\n",
       "      <td>surf</td>\n",
       "    </tr>\n",
       "    <tr>\n",
       "      <th>2292</th>\n",
       "      <td>1499</td>\n",
       "      <td>12</td>\n",
       "      <td>90.00</td>\n",
       "      <td>surf</td>\n",
       "    </tr>\n",
       "  </tbody>\n",
       "</table>\n",
       "<p>2293 rows × 4 columns</p>\n",
       "</div>"
      ],
      "text/plain": [
       "      user_id  month  total_revenue plan_name\n",
       "0        1000     12          70.00  ultimate\n",
       "1        1001      8          20.00      surf\n",
       "2        1001      9          20.00      surf\n",
       "3        1001     10          90.09      surf\n",
       "4        1001     11          60.00      surf\n",
       "...       ...    ...            ...       ...\n",
       "2288     1498     12         100.00      surf\n",
       "2289     1499      9          20.00      surf\n",
       "2290     1499     10          70.00      surf\n",
       "2291     1499     11          40.00      surf\n",
       "2292     1499     12          90.00      surf\n",
       "\n",
       "[2293 rows x 4 columns]"
      ]
     },
     "metadata": {},
     "output_type": "display_data"
    }
   ],
   "source": [
    "# Calcula el ingreso mensual para cada usuario\n",
    "\n",
    "# Unir DataFrames\n",
    "revenue = monthly_consumption_plan.merge(plans, left_on = 'plan', right_on = 'plan_name', how = 'left') \n",
    "\n",
    "# Calcular el excedente de los planes\n",
    "revenue['extra_call'] = revenue['sum_minutes']-revenue['minutes_included']\n",
    "revenue['extra_call'] = revenue['extra_call'].apply(lambda x: max(x,0)) \n",
    "\n",
    "revenue['extra_messages'] = revenue['messages_count']-revenue['messages_included']\n",
    "revenue['extra_messages'] = revenue['extra_messages'].apply(lambda x: max(x,0))\n",
    "\n",
    "revenue['extra_gb'] = revenue['gb_sum']-revenue['gb_per_month_included']\n",
    "revenue['extra_gb'] = revenue['extra_gb'].apply(lambda x: max(x,0))\n",
    "\n",
    "# Calcular cargos adicionales\n",
    "\n",
    "revenue['extra_call_charges'] = revenue['extra_call'] * revenue['usd_per_minute']\n",
    "revenue['extra_messages_charges'] = revenue['extra_messages'] * revenue['usd_per_message']\n",
    "revenue['extra_gb_charges'] = revenue['extra_gb'] * revenue['usd_per_gb']\n",
    "\n",
    "\n",
    "# Calcular los ingresos totales\n",
    "\n",
    "revenue['total_revenue'] = (revenue['extra_call_charges'] + revenue['extra_messages_charges']\\\n",
    "                            + revenue['extra_gb_charges'] + revenue['usd_monthly_pay'])\n",
    "\n",
    "revenue_per_month = revenue[['user_id','month','total_revenue','plan_name']]\n",
    "\n",
    "display(revenue_per_month)\n",
    "\n",
    "\n"
   ]
  },
  {
   "cell_type": "markdown",
   "metadata": {
    "id": "-jtyHzJb0q1I"
   },
   "source": [
    "## Estudia el comportamiento de usuario"
   ]
  },
  {
   "cell_type": "markdown",
   "metadata": {
    "id": "AxU3Y0N70q1J"
   },
   "source": [
    "[Calcula algunas estadísticas descriptivas para los datos agregados y fusionados que nos sean útiles y que muestren un panorama general captado por los datos. Dibuja gráficos útiles para facilitar la comprensión. Dado que la tarea principal es comparar las tarifas y decidir cuál es más rentable, las estadísticas y gráficas deben calcularse por tarifa.]\n",
    "\n",
    "[En los comentarios hallarás pistas relevantes para las llamadas, pero no las hay para los mensajes e Internet. Sin embargo, el principio del estudio estadístico que se aplica para ellos es el mismo que para las llamadas.]"
   ]
  },
  {
   "cell_type": "markdown",
   "metadata": {
    "id": "vtW4CJEe0q1J"
   },
   "source": [
    "### Llamadas"
   ]
  },
  {
   "cell_type": "code",
   "execution_count": 30,
   "metadata": {
    "id": "Jf5v5--k0q1J"
   },
   "outputs": [
    {
     "data": {
      "text/html": [
       "<div>\n",
       "<style scoped>\n",
       "    .dataframe tbody tr th:only-of-type {\n",
       "        vertical-align: middle;\n",
       "    }\n",
       "\n",
       "    .dataframe tbody tr th {\n",
       "        vertical-align: top;\n",
       "    }\n",
       "\n",
       "    .dataframe thead th {\n",
       "        text-align: right;\n",
       "    }\n",
       "</style>\n",
       "<table border=\"1\" class=\"dataframe\">\n",
       "  <thead>\n",
       "    <tr style=\"text-align: right;\">\n",
       "      <th>plan</th>\n",
       "      <th>surf</th>\n",
       "      <th>ultimate</th>\n",
       "    </tr>\n",
       "    <tr>\n",
       "      <th>month</th>\n",
       "      <th></th>\n",
       "      <th></th>\n",
       "    </tr>\n",
       "  </thead>\n",
       "  <tbody>\n",
       "    <tr>\n",
       "      <th>1</th>\n",
       "      <td>6.766667</td>\n",
       "      <td>6.910714</td>\n",
       "    </tr>\n",
       "    <tr>\n",
       "      <th>2</th>\n",
       "      <td>7.303279</td>\n",
       "      <td>6.916667</td>\n",
       "    </tr>\n",
       "    <tr>\n",
       "      <th>3</th>\n",
       "      <td>7.106742</td>\n",
       "      <td>6.614130</td>\n",
       "    </tr>\n",
       "    <tr>\n",
       "      <th>4</th>\n",
       "      <td>7.191899</td>\n",
       "      <td>7.088176</td>\n",
       "    </tr>\n",
       "    <tr>\n",
       "      <th>5</th>\n",
       "      <td>7.173700</td>\n",
       "      <td>7.054491</td>\n",
       "    </tr>\n",
       "    <tr>\n",
       "      <th>6</th>\n",
       "      <td>7.251863</td>\n",
       "      <td>7.110522</td>\n",
       "    </tr>\n",
       "    <tr>\n",
       "      <th>7</th>\n",
       "      <td>7.124836</td>\n",
       "      <td>7.276061</td>\n",
       "    </tr>\n",
       "    <tr>\n",
       "      <th>8</th>\n",
       "      <td>7.124718</td>\n",
       "      <td>7.015709</td>\n",
       "    </tr>\n",
       "    <tr>\n",
       "      <th>9</th>\n",
       "      <td>7.128537</td>\n",
       "      <td>7.166857</td>\n",
       "    </tr>\n",
       "    <tr>\n",
       "      <th>10</th>\n",
       "      <td>7.120604</td>\n",
       "      <td>7.066706</td>\n",
       "    </tr>\n",
       "    <tr>\n",
       "      <th>11</th>\n",
       "      <td>7.160421</td>\n",
       "      <td>7.138889</td>\n",
       "    </tr>\n",
       "    <tr>\n",
       "      <th>12</th>\n",
       "      <td>7.239358</td>\n",
       "      <td>7.073878</td>\n",
       "    </tr>\n",
       "  </tbody>\n",
       "</table>\n",
       "</div>"
      ],
      "text/plain": [
       "plan       surf  ultimate\n",
       "month                    \n",
       "1      6.766667  6.910714\n",
       "2      7.303279  6.916667\n",
       "3      7.106742  6.614130\n",
       "4      7.191899  7.088176\n",
       "5      7.173700  7.054491\n",
       "6      7.251863  7.110522\n",
       "7      7.124836  7.276061\n",
       "8      7.124718  7.015709\n",
       "9      7.128537  7.166857\n",
       "10     7.120604  7.066706\n",
       "11     7.160421  7.138889\n",
       "12     7.239358  7.073878"
      ]
     },
     "metadata": {},
     "output_type": "display_data"
    },
    {
     "data": {
      "text/plain": [
       "<matplotlib.legend.Legend at 0x7f508e2cd490>"
      ]
     },
     "execution_count": 30,
     "metadata": {},
     "output_type": "execute_result"
    },
    {
     "data": {
      "image/png": "[encoded data removed]",
      "text/plain": [
       "<Figure size 1000x600 with 1 Axes>"
      ]
     },
     "metadata": {},
     "output_type": "display_data"
    }
   ],
   "source": [
    "# Compara la duración promedio de llamadas por cada plan y por cada mes. Traza un gráfico de barras para visualizarla.\n",
    "\n",
    "pivot_sum_minutes = revenue.pivot_table(index=['month'], columns='plan', values='sum_minutes')\n",
    "pivot_num_calls = revenue.pivot_table(index=['month'], columns='plan', values='call_count')\n",
    "\n",
    "average_minutes_per_call = pivot_sum_minutes / pivot_num_calls\n",
    "\n",
    "display(average_minutes_per_call)\n",
    "\n",
    "average_minutes_per_call.plot( kind = 'bar', figsize = (10,6))\n",
    "\n",
    "plt.title('Duración Promedio de Llamadas por Plan y por Mes')\n",
    "plt.xlabel('Mes')\n",
    "plt.ylabel('Duración Promedio (minutos)')\n",
    "plt.legend(title='Plan')"
   ]
  },
  {
   "cell_type": "code",
   "execution_count": 31,
   "metadata": {
    "id": "QoLqW1S_0q1J"
   },
   "outputs": [
    {
     "data": {
      "text/html": [
       "<div>\n",
       "<style scoped>\n",
       "    .dataframe tbody tr th:only-of-type {\n",
       "        vertical-align: middle;\n",
       "    }\n",
       "\n",
       "    .dataframe tbody tr th {\n",
       "        vertical-align: top;\n",
       "    }\n",
       "\n",
       "    .dataframe thead th {\n",
       "        text-align: right;\n",
       "    }\n",
       "</style>\n",
       "<table border=\"1\" class=\"dataframe\">\n",
       "  <thead>\n",
       "    <tr style=\"text-align: right;\">\n",
       "      <th></th>\n",
       "      <th>plan</th>\n",
       "      <th>surf</th>\n",
       "      <th>ultimate</th>\n",
       "    </tr>\n",
       "    <tr>\n",
       "      <th>user_id</th>\n",
       "      <th>month</th>\n",
       "      <th></th>\n",
       "      <th></th>\n",
       "    </tr>\n",
       "  </thead>\n",
       "  <tbody>\n",
       "    <tr>\n",
       "      <th>1000</th>\n",
       "      <th>12</th>\n",
       "      <td>NaN</td>\n",
       "      <td>124.0</td>\n",
       "    </tr>\n",
       "    <tr>\n",
       "      <th rowspan=\"4\" valign=\"top\">1001</th>\n",
       "      <th>8</th>\n",
       "      <td>182.0</td>\n",
       "      <td>NaN</td>\n",
       "    </tr>\n",
       "    <tr>\n",
       "      <th>9</th>\n",
       "      <td>315.0</td>\n",
       "      <td>NaN</td>\n",
       "    </tr>\n",
       "    <tr>\n",
       "      <th>10</th>\n",
       "      <td>393.0</td>\n",
       "      <td>NaN</td>\n",
       "    </tr>\n",
       "    <tr>\n",
       "      <th>11</th>\n",
       "      <td>426.0</td>\n",
       "      <td>NaN</td>\n",
       "    </tr>\n",
       "    <tr>\n",
       "      <th>...</th>\n",
       "      <th>...</th>\n",
       "      <td>...</td>\n",
       "      <td>...</td>\n",
       "    </tr>\n",
       "    <tr>\n",
       "      <th>1498</th>\n",
       "      <th>12</th>\n",
       "      <td>339.0</td>\n",
       "      <td>NaN</td>\n",
       "    </tr>\n",
       "    <tr>\n",
       "      <th rowspan=\"4\" valign=\"top\">1499</th>\n",
       "      <th>9</th>\n",
       "      <td>346.0</td>\n",
       "      <td>NaN</td>\n",
       "    </tr>\n",
       "    <tr>\n",
       "      <th>10</th>\n",
       "      <td>385.0</td>\n",
       "      <td>NaN</td>\n",
       "    </tr>\n",
       "    <tr>\n",
       "      <th>11</th>\n",
       "      <td>308.0</td>\n",
       "      <td>NaN</td>\n",
       "    </tr>\n",
       "    <tr>\n",
       "      <th>12</th>\n",
       "      <td>496.0</td>\n",
       "      <td>NaN</td>\n",
       "    </tr>\n",
       "  </tbody>\n",
       "</table>\n",
       "<p>2293 rows × 2 columns</p>\n",
       "</div>"
      ],
      "text/plain": [
       "plan            surf  ultimate\n",
       "user_id month                 \n",
       "1000    12       NaN     124.0\n",
       "1001    8      182.0       NaN\n",
       "        9      315.0       NaN\n",
       "        10     393.0       NaN\n",
       "        11     426.0       NaN\n",
       "...              ...       ...\n",
       "1498    12     339.0       NaN\n",
       "1499    9      346.0       NaN\n",
       "        10     385.0       NaN\n",
       "        11     308.0       NaN\n",
       "        12     496.0       NaN\n",
       "\n",
       "[2293 rows x 2 columns]"
      ]
     },
     "metadata": {},
     "output_type": "display_data"
    },
    {
     "data": {
      "image/png": "[encoded data removed]",
      "text/plain": [
       "<Figure size 1000x600 with 1 Axes>"
      ]
     },
     "metadata": {},
     "output_type": "display_data"
    },
    {
     "data": {
      "image/png": "[encoded data removed]",
      "text/plain": [
       "<Figure size 1000x600 with 1 Axes>"
      ]
     },
     "metadata": {},
     "output_type": "display_data"
    }
   ],
   "source": [
    "# Compara el número de minutos mensuales que necesitan los usuarios de cada plan. Traza un histograma.\n",
    "\n",
    "pivot_calls = revenue.pivot_table(index=['user_id','month'], columns='plan', values='sum_minutes')\n",
    "display(pivot_calls)\n",
    "\n",
    "# Gráfico Matplotlib\n",
    "plt.figure(figsize=(10, 6))\n",
    "plt.hist([pivot_calls['surf'], pivot_calls['ultimate']], bins=12, label=['Surf', 'Ultimate'], alpha=0.7)\n",
    "\n",
    "plt.title('Distribución de Minutos Mensuales por Plan')\n",
    "plt.xlabel('Minutos')\n",
    "plt.ylabel('Frecuencia')\n",
    "plt.legend(title='Plan')\n",
    "plt.show()\n",
    "\n",
    "# Grafico con Seaborn\n",
    "plt.figure(figsize=(10, 6))\n",
    "sns.histplot(data=pivot_calls, x='surf', element='step', kde=True, color='blue', label='surf')\n",
    "sns.histplot(data=pivot_calls, x='ultimate', element ='step', kde=True, color='red', label='ultimate')\n",
    "\n",
    "plt.title('Distribución de Minutos Mensuales por Plan')\n",
    "plt.xlabel('Minutos')\n",
    "plt.ylabel('Frecuencia')\n",
    "plt.legend(title='Plan')\n",
    "plt.show()"
   ]
  },
  {
   "cell_type": "markdown",
   "metadata": {
    "id": "bLS9T8OH0q1K"
   },
   "source": [
    "[Calcula la media y la variable de la duración de las llamadas para averiguar si los usuarios de los distintos planes se comportan de forma diferente al realizar sus llamadas.]"
   ]
  },
  {
   "cell_type": "code",
   "execution_count": 32,
   "metadata": {
    "id": "oSndbAnt0q1K"
   },
   "outputs": [
    {
     "data": {
      "text/plain": [
       "plan\n",
       "surf        428.749523\n",
       "ultimate    430.450000\n",
       "dtype: float64"
      ]
     },
     "metadata": {},
     "output_type": "display_data"
    },
    {
     "data": {
      "text/plain": [
       "plan\n",
       "surf        54968.279461\n",
       "ultimate    57844.464812\n",
       "dtype: float64"
      ]
     },
     "metadata": {},
     "output_type": "display_data"
    }
   ],
   "source": [
    "# Calcula la media y la varianza de la duración mensual de llamadas.\n",
    "\n",
    "mean_calls = pivot_calls.mean()\n",
    "var_calls = pivot_calls.var()\n",
    "display(mean_calls)\n",
    "display(var_calls)"
   ]
  },
  {
   "cell_type": "code",
   "execution_count": 33,
   "metadata": {
    "id": "nZzoRUKc0q1K"
   },
   "outputs": [
    {
     "data": {
      "image/png": "[encoded data removed]",
      "text/plain": [
       "<Figure size 1000x600 with 1 Axes>"
      ]
     },
     "metadata": {},
     "output_type": "display_data"
    }
   ],
   "source": [
    "# Traza un diagrama de caja para visualizar la distribución de la duración mensual de llamadas\n",
    "\n",
    "plt.figure(figsize=(10, 6))\n",
    "sns.boxplot(data=pivot_calls)\n",
    "plt.title('Distribución de la Duración Mensual de Llamadas')\n",
    "plt.xlabel('Plan')\n",
    "plt.ylabel('Duración Total de Llamadas (minutos)')\n",
    "plt.show()\n",
    "\n",
    "\n"
   ]
  },
  {
   "cell_type": "markdown",
   "metadata": {
    "id": "r627zBO50q1K"
   },
   "source": [
    "[Elabora las conclusiones sobre el comportamiento de los usuarios con respecto a las llamadas. ¿Su comportamiento varía en función del plan?]\n",
    "\n",
    "\n",
    "* Observamos que los minutos promedio por llamada se mantienen constatentes a lo largo del año, se mantienen en rango entre 6.5 y 7.5 minutos para los dos planes.\n",
    "\n",
    "* El rango de minutos mensuales que consumen los usuarios se encuentra en un rango 200 y 600. Este número se encuentra muy cercano al limite del plan Surf, lo que significa que gran parte de ellos estan exediendo sus limites y pagando un sobre precio, por el contrario a la gran mayoria de los usuarios Ultimate les estan sobrando muchos minutos.\n",
    "\n",
    "* De acuerdo a las comparaciones realizadas mediante los graficos,  el comportamiento de los usuarios con respecto a las llamadas parece comportarse de una manera muy similar en los dos tipos de planes.\n"
   ]
  },
  {
   "cell_type": "markdown",
   "metadata": {
    "id": "8idKy8Wh0q1L"
   },
   "source": [
    "### Mensajes"
   ]
  },
  {
   "cell_type": "code",
   "execution_count": 34,
   "metadata": {
    "id": "NXLxiTit0q1L"
   },
   "outputs": [
    {
     "data": {
      "text/html": [
       "<div>\n",
       "<style scoped>\n",
       "    .dataframe tbody tr th:only-of-type {\n",
       "        vertical-align: middle;\n",
       "    }\n",
       "\n",
       "    .dataframe tbody tr th {\n",
       "        vertical-align: top;\n",
       "    }\n",
       "\n",
       "    .dataframe thead th {\n",
       "        text-align: right;\n",
       "    }\n",
       "</style>\n",
       "<table border=\"1\" class=\"dataframe\">\n",
       "  <thead>\n",
       "    <tr style=\"text-align: right;\">\n",
       "      <th>plan</th>\n",
       "      <th>surf</th>\n",
       "      <th>ultimate</th>\n",
       "    </tr>\n",
       "    <tr>\n",
       "      <th>month</th>\n",
       "      <th></th>\n",
       "      <th></th>\n",
       "    </tr>\n",
       "  </thead>\n",
       "  <tbody>\n",
       "    <tr>\n",
       "      <th>1</th>\n",
       "      <td>10.500000</td>\n",
       "      <td>15.500000</td>\n",
       "    </tr>\n",
       "    <tr>\n",
       "      <th>2</th>\n",
       "      <td>12.000000</td>\n",
       "      <td>21.571429</td>\n",
       "    </tr>\n",
       "    <tr>\n",
       "      <th>3</th>\n",
       "      <td>15.260870</td>\n",
       "      <td>20.250000</td>\n",
       "    </tr>\n",
       "    <tr>\n",
       "      <th>4</th>\n",
       "      <td>17.400000</td>\n",
       "      <td>22.047619</td>\n",
       "    </tr>\n",
       "    <tr>\n",
       "      <th>5</th>\n",
       "      <td>24.012987</td>\n",
       "      <td>32.103448</td>\n",
       "    </tr>\n",
       "    <tr>\n",
       "      <th>6</th>\n",
       "      <td>25.298969</td>\n",
       "      <td>29.340426</td>\n",
       "    </tr>\n",
       "    <tr>\n",
       "      <th>7</th>\n",
       "      <td>27.033058</td>\n",
       "      <td>32.830508</td>\n",
       "    </tr>\n",
       "    <tr>\n",
       "      <th>8</th>\n",
       "      <td>28.777778</td>\n",
       "      <td>38.478873</td>\n",
       "    </tr>\n",
       "    <tr>\n",
       "      <th>9</th>\n",
       "      <td>30.762887</td>\n",
       "      <td>37.895349</td>\n",
       "    </tr>\n",
       "    <tr>\n",
       "      <th>10</th>\n",
       "      <td>33.839662</td>\n",
       "      <td>39.443396</td>\n",
       "    </tr>\n",
       "    <tr>\n",
       "      <th>11</th>\n",
       "      <td>32.385159</td>\n",
       "      <td>38.606299</td>\n",
       "    </tr>\n",
       "    <tr>\n",
       "      <th>12</th>\n",
       "      <td>38.600629</td>\n",
       "      <td>45.006623</td>\n",
       "    </tr>\n",
       "  </tbody>\n",
       "</table>\n",
       "</div>"
      ],
      "text/plain": [
       "plan        surf   ultimate\n",
       "month                      \n",
       "1      10.500000  15.500000\n",
       "2      12.000000  21.571429\n",
       "3      15.260870  20.250000\n",
       "4      17.400000  22.047619\n",
       "5      24.012987  32.103448\n",
       "6      25.298969  29.340426\n",
       "7      27.033058  32.830508\n",
       "8      28.777778  38.478873\n",
       "9      30.762887  37.895349\n",
       "10     33.839662  39.443396\n",
       "11     32.385159  38.606299\n",
       "12     38.600629  45.006623"
      ]
     },
     "metadata": {},
     "output_type": "display_data"
    },
    {
     "data": {
      "text/plain": [
       "<matplotlib.legend.Legend at 0x7f507a812e80>"
      ]
     },
     "execution_count": 34,
     "metadata": {},
     "output_type": "execute_result"
    },
    {
     "data": {
      "image/png": "[encoded data removed]",
      "text/plain": [
       "<Figure size 1000x600 with 1 Axes>"
      ]
     },
     "metadata": {},
     "output_type": "display_data"
    }
   ],
   "source": [
    "# Comprara el número de mensajes que tienden a enviar cada mes los usuarios de cada plan\n",
    "pivot_messages = revenue.pivot_table(index='month', columns='plan', values='messages_count')\n",
    "display(pivot_messages)\n",
    "\n",
    "pivot_messages.plot( kind = 'bar', figsize = (10,6))\n",
    "\n",
    "plt.title('Promedio de Mensajes por Plan y por Mes')\n",
    "plt.xlabel('Mes')\n",
    "plt.ylabel('Mensajes Promedio')\n",
    "plt.legend(title='Plan')"
   ]
  },
  {
   "cell_type": "code",
   "execution_count": 35,
   "metadata": {
    "id": "GRI_R7xF0q1L"
   },
   "outputs": [
    {
     "data": {
      "text/html": [
       "<div>\n",
       "<style scoped>\n",
       "    .dataframe tbody tr th:only-of-type {\n",
       "        vertical-align: middle;\n",
       "    }\n",
       "\n",
       "    .dataframe tbody tr th {\n",
       "        vertical-align: top;\n",
       "    }\n",
       "\n",
       "    .dataframe thead th {\n",
       "        text-align: right;\n",
       "    }\n",
       "</style>\n",
       "<table border=\"1\" class=\"dataframe\">\n",
       "  <thead>\n",
       "    <tr style=\"text-align: right;\">\n",
       "      <th></th>\n",
       "      <th>plan</th>\n",
       "      <th>surf</th>\n",
       "      <th>ultimate</th>\n",
       "    </tr>\n",
       "    <tr>\n",
       "      <th>user_id</th>\n",
       "      <th>month</th>\n",
       "      <th></th>\n",
       "      <th></th>\n",
       "    </tr>\n",
       "  </thead>\n",
       "  <tbody>\n",
       "    <tr>\n",
       "      <th>1000</th>\n",
       "      <th>12</th>\n",
       "      <td>NaN</td>\n",
       "      <td>11.0</td>\n",
       "    </tr>\n",
       "    <tr>\n",
       "      <th rowspan=\"4\" valign=\"top\">1001</th>\n",
       "      <th>8</th>\n",
       "      <td>30.0</td>\n",
       "      <td>NaN</td>\n",
       "    </tr>\n",
       "    <tr>\n",
       "      <th>9</th>\n",
       "      <td>44.0</td>\n",
       "      <td>NaN</td>\n",
       "    </tr>\n",
       "    <tr>\n",
       "      <th>10</th>\n",
       "      <td>53.0</td>\n",
       "      <td>NaN</td>\n",
       "    </tr>\n",
       "    <tr>\n",
       "      <th>11</th>\n",
       "      <td>36.0</td>\n",
       "      <td>NaN</td>\n",
       "    </tr>\n",
       "    <tr>\n",
       "      <th>...</th>\n",
       "      <th>...</th>\n",
       "      <td>...</td>\n",
       "      <td>...</td>\n",
       "    </tr>\n",
       "    <tr>\n",
       "      <th>1498</th>\n",
       "      <th>12</th>\n",
       "      <td>0.0</td>\n",
       "      <td>NaN</td>\n",
       "    </tr>\n",
       "    <tr>\n",
       "      <th rowspan=\"4\" valign=\"top\">1499</th>\n",
       "      <th>9</th>\n",
       "      <td>0.0</td>\n",
       "      <td>NaN</td>\n",
       "    </tr>\n",
       "    <tr>\n",
       "      <th>10</th>\n",
       "      <td>0.0</td>\n",
       "      <td>NaN</td>\n",
       "    </tr>\n",
       "    <tr>\n",
       "      <th>11</th>\n",
       "      <td>0.0</td>\n",
       "      <td>NaN</td>\n",
       "    </tr>\n",
       "    <tr>\n",
       "      <th>12</th>\n",
       "      <td>0.0</td>\n",
       "      <td>NaN</td>\n",
       "    </tr>\n",
       "  </tbody>\n",
       "</table>\n",
       "<p>2293 rows × 2 columns</p>\n",
       "</div>"
      ],
      "text/plain": [
       "plan           surf  ultimate\n",
       "user_id month                \n",
       "1000    12      NaN      11.0\n",
       "1001    8      30.0       NaN\n",
       "        9      44.0       NaN\n",
       "        10     53.0       NaN\n",
       "        11     36.0       NaN\n",
       "...             ...       ...\n",
       "1498    12      0.0       NaN\n",
       "1499    9       0.0       NaN\n",
       "        10      0.0       NaN\n",
       "        11      0.0       NaN\n",
       "        12      0.0       NaN\n",
       "\n",
       "[2293 rows x 2 columns]"
      ]
     },
     "metadata": {},
     "output_type": "display_data"
    },
    {
     "data": {
      "image/png": "[encoded data removed]",
      "text/plain": [
       "<Figure size 1000x600 with 1 Axes>"
      ]
     },
     "metadata": {},
     "output_type": "display_data"
    }
   ],
   "source": [
    "# Compara el número de mensajes mensuales que necesitan los usuarios de cada plan. Traza un histograma.\n",
    "\n",
    "pivot_messages = revenue.pivot_table(index=['user_id','month'], columns='plan', values='messages_count', aggfunc='sum')\n",
    "display(pivot_messages)\n",
    "\n",
    "# Grafico con Seaborn\n",
    "plt.figure(figsize=(10, 6))\n",
    "sns.histplot(data=pivot_messages, x='surf', element='step', kde=True, color='blue', label='surf')\n",
    "sns.histplot(data=pivot_messages, x='ultimate', element ='step', kde=True, color='red', label='ultimate')\n",
    "\n",
    "plt.title('Distribución de Mensajes Mensuales por Plan')\n",
    "plt.xlabel('Mensajes')\n",
    "plt.ylabel('Frecuencia')\n",
    "plt.legend(title='Plan')\n",
    "plt.show()\n",
    "\n"
   ]
  },
  {
   "cell_type": "code",
   "execution_count": 36,
   "metadata": {},
   "outputs": [
    {
     "data": {
      "text/plain": [
       "plan\n",
       "surf        31.159568\n",
       "ultimate    37.551389\n",
       "dtype: float64"
      ]
     },
     "metadata": {},
     "output_type": "display_data"
    },
    {
     "data": {
      "text/plain": [
       "plan\n",
       "surf        1126.724522\n",
       "ultimate    1208.756744\n",
       "dtype: float64"
      ]
     },
     "metadata": {},
     "output_type": "display_data"
    }
   ],
   "source": [
    "# Calcula la media y la varianza de la distribución de mensajes mensuales por plan\n",
    "\n",
    "mean_messages = pivot_messages.mean()\n",
    "var_messages = pivot_messages.var()\n",
    "display(mean_messages)\n",
    "display(var_messages)"
   ]
  },
  {
   "cell_type": "code",
   "execution_count": 37,
   "metadata": {
    "id": "dtFwCGAp0q1M"
   },
   "outputs": [
    {
     "data": {
      "image/png": "[encoded data removed]",
      "text/plain": [
       "<Figure size 1000x600 with 1 Axes>"
      ]
     },
     "metadata": {},
     "output_type": "display_data"
    }
   ],
   "source": [
    "# Traza un diagrama de caja para visualizar la distribución de mensajes mensuales por plan\n",
    "\n",
    "plt.figure(figsize=(10, 6))\n",
    "sns.boxplot(data=pivot_messages)\n",
    "plt.title('Distribución de Mensajes Mensuales por Plan')\n",
    "plt.xlabel('Plan')\n",
    "plt.ylabel('Mensajes Mensuales')\n",
    "plt.show()"
   ]
  },
  {
   "cell_type": "markdown",
   "metadata": {
    "id": "390SSL480q1M"
   },
   "source": [
    "[Elabora las conclusiones sobre el comportamiento de los usuarios con respecto a los mensajes. ¿Su comportamiento varía en función del plan?]\n",
    "\n",
    "* De acuerdo a las comparaciones realizadas mediante los graficos:\n",
    "* 1. Podemos observar que los usuarios se comportan relativamente de manera similar, ya que la mayoria no sobrepasa los 100 mensajes independientemente del plan que manejen.\n",
    "* 2. La mayoria de los usuarios de Surf mandan entre 0 y 50 mensajes al mes, pero hay más usuarios que llegan sobrepasar esos limites lo que ocaciona que este pagando un sobreprecio muy alto.\n",
    "* 3. Los mesajes tienden ir en aumento a lo largo del año.\n"
   ]
  },
  {
   "cell_type": "markdown",
   "metadata": {
    "id": "42YSypXz0q1M"
   },
   "source": [
    "### Internet"
   ]
  },
  {
   "cell_type": "code",
   "execution_count": 38,
   "metadata": {
    "id": "lSuKPtjh0q1M"
   },
   "outputs": [
    {
     "data": {
      "text/html": [
       "<div>\n",
       "<style scoped>\n",
       "    .dataframe tbody tr th:only-of-type {\n",
       "        vertical-align: middle;\n",
       "    }\n",
       "\n",
       "    .dataframe tbody tr th {\n",
       "        vertical-align: top;\n",
       "    }\n",
       "\n",
       "    .dataframe thead th {\n",
       "        text-align: right;\n",
       "    }\n",
       "</style>\n",
       "<table border=\"1\" class=\"dataframe\">\n",
       "  <thead>\n",
       "    <tr style=\"text-align: right;\">\n",
       "      <th>plan</th>\n",
       "      <th>surf</th>\n",
       "      <th>ultimate</th>\n",
       "    </tr>\n",
       "    <tr>\n",
       "      <th>month</th>\n",
       "      <th></th>\n",
       "      <th></th>\n",
       "    </tr>\n",
       "  </thead>\n",
       "  <tbody>\n",
       "    <tr>\n",
       "      <th>1</th>\n",
       "      <td>5.000000</td>\n",
       "      <td>7.250000</td>\n",
       "    </tr>\n",
       "    <tr>\n",
       "      <th>2</th>\n",
       "      <td>12.222222</td>\n",
       "      <td>17.285714</td>\n",
       "    </tr>\n",
       "    <tr>\n",
       "      <th>3</th>\n",
       "      <td>13.565217</td>\n",
       "      <td>18.416667</td>\n",
       "    </tr>\n",
       "    <tr>\n",
       "      <th>4</th>\n",
       "      <td>12.220000</td>\n",
       "      <td>16.333333</td>\n",
       "    </tr>\n",
       "    <tr>\n",
       "      <th>5</th>\n",
       "      <td>14.116883</td>\n",
       "      <td>16.862069</td>\n",
       "    </tr>\n",
       "    <tr>\n",
       "      <th>6</th>\n",
       "      <td>15.484536</td>\n",
       "      <td>15.425532</td>\n",
       "    </tr>\n",
       "    <tr>\n",
       "      <th>7</th>\n",
       "      <td>16.876033</td>\n",
       "      <td>16.491525</td>\n",
       "    </tr>\n",
       "    <tr>\n",
       "      <th>8</th>\n",
       "      <td>16.882716</td>\n",
       "      <td>17.845070</td>\n",
       "    </tr>\n",
       "    <tr>\n",
       "      <th>9</th>\n",
       "      <td>16.690722</td>\n",
       "      <td>17.011628</td>\n",
       "    </tr>\n",
       "    <tr>\n",
       "      <th>10</th>\n",
       "      <td>17.409283</td>\n",
       "      <td>17.716981</td>\n",
       "    </tr>\n",
       "    <tr>\n",
       "      <th>11</th>\n",
       "      <td>16.431095</td>\n",
       "      <td>17.118110</td>\n",
       "    </tr>\n",
       "    <tr>\n",
       "      <th>12</th>\n",
       "      <td>18.238994</td>\n",
       "      <td>18.397351</td>\n",
       "    </tr>\n",
       "  </tbody>\n",
       "</table>\n",
       "</div>"
      ],
      "text/plain": [
       "plan        surf   ultimate\n",
       "month                      \n",
       "1       5.000000   7.250000\n",
       "2      12.222222  17.285714\n",
       "3      13.565217  18.416667\n",
       "4      12.220000  16.333333\n",
       "5      14.116883  16.862069\n",
       "6      15.484536  15.425532\n",
       "7      16.876033  16.491525\n",
       "8      16.882716  17.845070\n",
       "9      16.690722  17.011628\n",
       "10     17.409283  17.716981\n",
       "11     16.431095  17.118110\n",
       "12     18.238994  18.397351"
      ]
     },
     "metadata": {},
     "output_type": "display_data"
    },
    {
     "data": {
      "text/plain": [
       "<matplotlib.legend.Legend at 0x7f507a7cb130>"
      ]
     },
     "execution_count": 38,
     "metadata": {},
     "output_type": "execute_result"
    },
    {
     "data": {
      "image/png": "[encoded data removed]",
      "text/plain": [
       "<Figure size 1000x600 with 1 Axes>"
      ]
     },
     "metadata": {},
     "output_type": "display_data"
    }
   ],
   "source": [
    "# Compara la cantidad de tráfico de Internet consumido por usuarios por plan\n",
    "pivot_internet = revenue.pivot_table(index='month', columns='plan', values='gb_sum')\n",
    "display(pivot_internet)\n",
    "\n",
    "pivot_internet.plot( kind = 'bar', figsize = (10,6))\n",
    "\n",
    "plt.title('Promedio de GB consumidos por Plan y por Mes')\n",
    "plt.xlabel('Mes')\n",
    "plt.ylabel('GB Promedio')\n",
    "plt.legend(title='Plan')"
   ]
  },
  {
   "cell_type": "code",
   "execution_count": 39,
   "metadata": {
    "id": "wnh8jYXi0q1N"
   },
   "outputs": [
    {
     "data": {
      "text/html": [
       "<div>\n",
       "<style scoped>\n",
       "    .dataframe tbody tr th:only-of-type {\n",
       "        vertical-align: middle;\n",
       "    }\n",
       "\n",
       "    .dataframe tbody tr th {\n",
       "        vertical-align: top;\n",
       "    }\n",
       "\n",
       "    .dataframe thead th {\n",
       "        text-align: right;\n",
       "    }\n",
       "</style>\n",
       "<table border=\"1\" class=\"dataframe\">\n",
       "  <thead>\n",
       "    <tr style=\"text-align: right;\">\n",
       "      <th></th>\n",
       "      <th>plan</th>\n",
       "      <th>surf</th>\n",
       "      <th>ultimate</th>\n",
       "    </tr>\n",
       "    <tr>\n",
       "      <th>user_id</th>\n",
       "      <th>month</th>\n",
       "      <th></th>\n",
       "      <th></th>\n",
       "    </tr>\n",
       "  </thead>\n",
       "  <tbody>\n",
       "    <tr>\n",
       "      <th>1000</th>\n",
       "      <th>12</th>\n",
       "      <td>NaN</td>\n",
       "      <td>2.0</td>\n",
       "    </tr>\n",
       "    <tr>\n",
       "      <th rowspan=\"4\" valign=\"top\">1001</th>\n",
       "      <th>8</th>\n",
       "      <td>7.0</td>\n",
       "      <td>NaN</td>\n",
       "    </tr>\n",
       "    <tr>\n",
       "      <th>9</th>\n",
       "      <td>14.0</td>\n",
       "      <td>NaN</td>\n",
       "    </tr>\n",
       "    <tr>\n",
       "      <th>10</th>\n",
       "      <td>22.0</td>\n",
       "      <td>NaN</td>\n",
       "    </tr>\n",
       "    <tr>\n",
       "      <th>11</th>\n",
       "      <td>19.0</td>\n",
       "      <td>NaN</td>\n",
       "    </tr>\n",
       "    <tr>\n",
       "      <th>...</th>\n",
       "      <th>...</th>\n",
       "      <td>...</td>\n",
       "      <td>...</td>\n",
       "    </tr>\n",
       "    <tr>\n",
       "      <th>1498</th>\n",
       "      <th>12</th>\n",
       "      <td>23.0</td>\n",
       "      <td>NaN</td>\n",
       "    </tr>\n",
       "    <tr>\n",
       "      <th rowspan=\"4\" valign=\"top\">1499</th>\n",
       "      <th>9</th>\n",
       "      <td>13.0</td>\n",
       "      <td>NaN</td>\n",
       "    </tr>\n",
       "    <tr>\n",
       "      <th>10</th>\n",
       "      <td>20.0</td>\n",
       "      <td>NaN</td>\n",
       "    </tr>\n",
       "    <tr>\n",
       "      <th>11</th>\n",
       "      <td>17.0</td>\n",
       "      <td>NaN</td>\n",
       "    </tr>\n",
       "    <tr>\n",
       "      <th>12</th>\n",
       "      <td>22.0</td>\n",
       "      <td>NaN</td>\n",
       "    </tr>\n",
       "  </tbody>\n",
       "</table>\n",
       "<p>2293 rows × 2 columns</p>\n",
       "</div>"
      ],
      "text/plain": [
       "plan           surf  ultimate\n",
       "user_id month                \n",
       "1000    12      NaN       2.0\n",
       "1001    8       7.0       NaN\n",
       "        9      14.0       NaN\n",
       "        10     22.0       NaN\n",
       "        11     19.0       NaN\n",
       "...             ...       ...\n",
       "1498    12     23.0       NaN\n",
       "1499    9      13.0       NaN\n",
       "        10     20.0       NaN\n",
       "        11     17.0       NaN\n",
       "        12     22.0       NaN\n",
       "\n",
       "[2293 rows x 2 columns]"
      ]
     },
     "metadata": {},
     "output_type": "display_data"
    },
    {
     "data": {
      "image/png": "[encoded data removed]",
      "text/plain": [
       "<Figure size 1000x600 with 1 Axes>"
      ]
     },
     "metadata": {},
     "output_type": "display_data"
    }
   ],
   "source": [
    "# Compara el número de GB mensuales que necesitan los usuarios de cada plan. Traza un histograma.\n",
    "\n",
    "pivot_internet = revenue.pivot_table(index=['user_id','month'], columns='plan', values='gb_sum', aggfunc='sum')\n",
    "display(pivot_internet)\n",
    "\n",
    "# Grafico con Seaborn\n",
    "plt.figure(figsize=(10, 6))\n",
    "sns.histplot(data=pivot_internet, x='surf', element='step', kde=True, color='blue', label='surf')\n",
    "sns.histplot(data=pivot_internet, x='ultimate', element ='step', kde=True, color='red', label='ultimate')\n",
    "\n",
    "plt.title('Distribución de GB Mensuales por Plan')\n",
    "plt.xlabel('GB')\n",
    "plt.ylabel('Frecuencia')\n",
    "plt.legend(title='Plan')\n",
    "plt.show()\n"
   ]
  },
  {
   "cell_type": "code",
   "execution_count": 40,
   "metadata": {
    "id": "5VlyJ9ry0q1N"
   },
   "outputs": [
    {
     "data": {
      "text/plain": [
       "plan\n",
       "surf        16.670693\n",
       "ultimate    17.306944\n",
       "dtype: float64"
      ]
     },
     "metadata": {},
     "output_type": "display_data"
    },
    {
     "data": {
      "text/plain": [
       "plan\n",
       "surf        61.58360\n",
       "ultimate    58.83055\n",
       "dtype: float64"
      ]
     },
     "metadata": {},
     "output_type": "display_data"
    },
    {
     "data": {
      "image/png": "[encoded data removed]",
      "text/plain": [
       "<Figure size 1000x600 with 1 Axes>"
      ]
     },
     "metadata": {},
     "output_type": "display_data"
    }
   ],
   "source": [
    "# Calcula la media y la varianza de la distribución de gb mensuales por plan\n",
    "\n",
    "mean_internet = pivot_internet.mean()\n",
    "var_internet = pivot_internet.var()\n",
    "display(mean_internet)\n",
    "display(var_internet)\n",
    "\n",
    "# Traza un diagrama de caja para visualizar la distribución de gb mensuales por plan\n",
    "\n",
    "plt.figure(figsize=(10, 6))\n",
    "sns.boxplot(data=pivot_internet)\n",
    "plt.title('Distribución de GB Mensuales por Plan')\n",
    "plt.xlabel('Plan')\n",
    "plt.ylabel('GB Mensuales')\n",
    "plt.show()"
   ]
  },
  {
   "cell_type": "markdown",
   "metadata": {
    "id": "UN9zwuMP0q1N"
   },
   "source": [
    "[Elabora las conclusiones sobre cómo los usuarios tienden a consumir el tráfico de Internet. ¿Su comportamiento varía en función del plan?]\n",
    "\n",
    "De acuerdo a las comparaciones realizadas mediante los graficos:\n",
    "1.Podemos observar que los usuarios se comportan de manera similar, ya que la mayoria consume entre 10 y 25 GB sin importar el plan que se tenga.\n",
    "2.Los usuarios Surf tienen su consumo medio muy cerca de su limite, lo que significa que aproximadamente a la mitad no les es suficiente su plan y tienden a pagar gb extras."
   ]
  },
  {
   "cell_type": "markdown",
   "metadata": {
    "id": "tCijq3260q1N"
   },
   "source": [
    "## Ingreso"
   ]
  },
  {
   "cell_type": "markdown",
   "metadata": {
    "id": "9nq5IAcy0q1O"
   },
   "source": [
    "[Del mismo modo que has estudiado el comportamiento de los usuarios, describe estadísticamente los ingresos de los planes.]"
   ]
  },
  {
   "cell_type": "code",
   "execution_count": 41,
   "metadata": {
    "id": "tz-dq_V00q1O"
   },
   "outputs": [
    {
     "data": {
      "text/html": [
       "<div>\n",
       "<style scoped>\n",
       "    .dataframe tbody tr th:only-of-type {\n",
       "        vertical-align: middle;\n",
       "    }\n",
       "\n",
       "    .dataframe tbody tr th {\n",
       "        vertical-align: top;\n",
       "    }\n",
       "\n",
       "    .dataframe thead th {\n",
       "        text-align: right;\n",
       "    }\n",
       "</style>\n",
       "<table border=\"1\" class=\"dataframe\">\n",
       "  <thead>\n",
       "    <tr style=\"text-align: right;\">\n",
       "      <th>plan</th>\n",
       "      <th>surf</th>\n",
       "      <th>ultimate</th>\n",
       "    </tr>\n",
       "    <tr>\n",
       "      <th>month</th>\n",
       "      <th></th>\n",
       "      <th></th>\n",
       "    </tr>\n",
       "  </thead>\n",
       "  <tbody>\n",
       "    <tr>\n",
       "      <th>1</th>\n",
       "      <td>20.000000</td>\n",
       "      <td>70.000000</td>\n",
       "    </tr>\n",
       "    <tr>\n",
       "      <th>2</th>\n",
       "      <td>34.396667</td>\n",
       "      <td>70.000000</td>\n",
       "    </tr>\n",
       "    <tr>\n",
       "      <th>3</th>\n",
       "      <td>45.941304</td>\n",
       "      <td>74.666667</td>\n",
       "    </tr>\n",
       "    <tr>\n",
       "      <th>4</th>\n",
       "      <td>40.710600</td>\n",
       "      <td>73.000000</td>\n",
       "    </tr>\n",
       "    <tr>\n",
       "      <th>5</th>\n",
       "      <td>47.628182</td>\n",
       "      <td>70.724138</td>\n",
       "    </tr>\n",
       "    <tr>\n",
       "      <th>6</th>\n",
       "      <td>49.276289</td>\n",
       "      <td>71.638298</td>\n",
       "    </tr>\n",
       "    <tr>\n",
       "      <th>7</th>\n",
       "      <td>62.674050</td>\n",
       "      <td>71.898305</td>\n",
       "    </tr>\n",
       "    <tr>\n",
       "      <th>8</th>\n",
       "      <td>63.931173</td>\n",
       "      <td>72.859155</td>\n",
       "    </tr>\n",
       "    <tr>\n",
       "      <th>9</th>\n",
       "      <td>58.271495</td>\n",
       "      <td>72.034884</td>\n",
       "    </tr>\n",
       "    <tr>\n",
       "      <th>10</th>\n",
       "      <td>65.421224</td>\n",
       "      <td>72.311321</td>\n",
       "    </tr>\n",
       "    <tr>\n",
       "      <th>11</th>\n",
       "      <td>58.004276</td>\n",
       "      <td>71.708661</td>\n",
       "    </tr>\n",
       "    <tr>\n",
       "      <th>12</th>\n",
       "      <td>70.557044</td>\n",
       "      <td>73.291391</td>\n",
       "    </tr>\n",
       "  </tbody>\n",
       "</table>\n",
       "</div>"
      ],
      "text/plain": [
       "plan        surf   ultimate\n",
       "month                      \n",
       "1      20.000000  70.000000\n",
       "2      34.396667  70.000000\n",
       "3      45.941304  74.666667\n",
       "4      40.710600  73.000000\n",
       "5      47.628182  70.724138\n",
       "6      49.276289  71.638298\n",
       "7      62.674050  71.898305\n",
       "8      63.931173  72.859155\n",
       "9      58.271495  72.034884\n",
       "10     65.421224  72.311321\n",
       "11     58.004276  71.708661\n",
       "12     70.557044  73.291391"
      ]
     },
     "metadata": {},
     "output_type": "display_data"
    },
    {
     "data": {
      "text/plain": [
       "<matplotlib.legend.Legend at 0x7f507a6faaf0>"
      ]
     },
     "execution_count": 41,
     "metadata": {},
     "output_type": "execute_result"
    },
    {
     "data": {
      "image/png": "[encoded data removed]",
      "text/plain": [
       "<Figure size 1000x600 with 1 Axes>"
      ]
     },
     "metadata": {},
     "output_type": "display_data"
    }
   ],
   "source": [
    "# Compara la cantidad de ingreso mensual generado por usuarios por plan\n",
    "\n",
    "pivot_revenue_monthly = revenue.pivot_table(index='month', columns='plan', values='total_revenue')\n",
    "display(pivot_revenue_monthly)\n",
    "\n",
    "pivot_revenue_monthly.plot( kind = 'bar', figsize = (10,6))\n",
    "\n",
    "plt.title('Promedio de Ingresos por Usuario Mensual')\n",
    "plt.xlabel('Mes')\n",
    "plt.ylabel('Ingreso Promedio (USD)')\n",
    "plt.legend(title='Plan')"
   ]
  },
  {
   "cell_type": "code",
   "execution_count": 42,
   "metadata": {
    "id": "0Y1v8ZUz0q1P"
   },
   "outputs": [
    {
     "data": {
      "text/html": [
       "<div>\n",
       "<style scoped>\n",
       "    .dataframe tbody tr th:only-of-type {\n",
       "        vertical-align: middle;\n",
       "    }\n",
       "\n",
       "    .dataframe tbody tr th {\n",
       "        vertical-align: top;\n",
       "    }\n",
       "\n",
       "    .dataframe thead th {\n",
       "        text-align: right;\n",
       "    }\n",
       "</style>\n",
       "<table border=\"1\" class=\"dataframe\">\n",
       "  <thead>\n",
       "    <tr style=\"text-align: right;\">\n",
       "      <th></th>\n",
       "      <th>plan</th>\n",
       "      <th>surf</th>\n",
       "      <th>ultimate</th>\n",
       "    </tr>\n",
       "    <tr>\n",
       "      <th>user_id</th>\n",
       "      <th>month</th>\n",
       "      <th></th>\n",
       "      <th></th>\n",
       "    </tr>\n",
       "  </thead>\n",
       "  <tbody>\n",
       "    <tr>\n",
       "      <th>1000</th>\n",
       "      <th>12</th>\n",
       "      <td>NaN</td>\n",
       "      <td>70.0</td>\n",
       "    </tr>\n",
       "    <tr>\n",
       "      <th rowspan=\"4\" valign=\"top\">1001</th>\n",
       "      <th>8</th>\n",
       "      <td>20.00</td>\n",
       "      <td>NaN</td>\n",
       "    </tr>\n",
       "    <tr>\n",
       "      <th>9</th>\n",
       "      <td>20.00</td>\n",
       "      <td>NaN</td>\n",
       "    </tr>\n",
       "    <tr>\n",
       "      <th>10</th>\n",
       "      <td>90.09</td>\n",
       "      <td>NaN</td>\n",
       "    </tr>\n",
       "    <tr>\n",
       "      <th>11</th>\n",
       "      <td>60.00</td>\n",
       "      <td>NaN</td>\n",
       "    </tr>\n",
       "    <tr>\n",
       "      <th>...</th>\n",
       "      <th>...</th>\n",
       "      <td>...</td>\n",
       "      <td>...</td>\n",
       "    </tr>\n",
       "    <tr>\n",
       "      <th>1498</th>\n",
       "      <th>12</th>\n",
       "      <td>100.00</td>\n",
       "      <td>NaN</td>\n",
       "    </tr>\n",
       "    <tr>\n",
       "      <th rowspan=\"4\" valign=\"top\">1499</th>\n",
       "      <th>9</th>\n",
       "      <td>20.00</td>\n",
       "      <td>NaN</td>\n",
       "    </tr>\n",
       "    <tr>\n",
       "      <th>10</th>\n",
       "      <td>70.00</td>\n",
       "      <td>NaN</td>\n",
       "    </tr>\n",
       "    <tr>\n",
       "      <th>11</th>\n",
       "      <td>40.00</td>\n",
       "      <td>NaN</td>\n",
       "    </tr>\n",
       "    <tr>\n",
       "      <th>12</th>\n",
       "      <td>90.00</td>\n",
       "      <td>NaN</td>\n",
       "    </tr>\n",
       "  </tbody>\n",
       "</table>\n",
       "<p>2293 rows × 2 columns</p>\n",
       "</div>"
      ],
      "text/plain": [
       "plan             surf  ultimate\n",
       "user_id month                  \n",
       "1000    12        NaN      70.0\n",
       "1001    8       20.00       NaN\n",
       "        9       20.00       NaN\n",
       "        10      90.09       NaN\n",
       "        11      60.00       NaN\n",
       "...               ...       ...\n",
       "1498    12     100.00       NaN\n",
       "1499    9       20.00       NaN\n",
       "        10      70.00       NaN\n",
       "        11      40.00       NaN\n",
       "        12      90.00       NaN\n",
       "\n",
       "[2293 rows x 2 columns]"
      ]
     },
     "metadata": {},
     "output_type": "display_data"
    },
    {
     "data": {
      "image/png": "[encoded data removed]",
      "text/plain": [
       "<Figure size 1000x600 with 1 Axes>"
      ]
     },
     "metadata": {},
     "output_type": "display_data"
    }
   ],
   "source": [
    "# Compara elingreso mensual que generan los usuarios de cada plan. Traza un histograma.\n",
    "\n",
    "pivot_revenue = revenue.pivot_table(index=['user_id','month'], columns='plan', values='total_revenue', aggfunc='sum')\n",
    "display(pivot_revenue)\n",
    "\n",
    "# Grafico con Seaborn\n",
    "plt.figure(figsize=(10, 6))\n",
    "sns.histplot(data=pivot_revenue, x='surf', element='step', kde=True, color='blue', label='surf')\n",
    "sns.histplot(data=pivot_revenue, x='ultimate', element ='step', kde=True, color='red', label='ultimate')\n",
    "\n",
    "plt.title('Distribución de Ingresos Mensuales por Plan')\n",
    "plt.xlabel('Ingreso por usuario (USD)')\n",
    "plt.ylabel('Frecuencia')\n",
    "plt.legend(title='Plan')\n",
    "plt.show()"
   ]
  },
  {
   "cell_type": "code",
   "execution_count": 43,
   "metadata": {
    "id": "bYmwxyVh0q1P"
   },
   "outputs": [
    {
     "data": {
      "text/plain": [
       "plan\n",
       "surf        60.706408\n",
       "ultimate    72.313889\n",
       "dtype: float64"
      ]
     },
     "metadata": {},
     "output_type": "display_data"
    },
    {
     "data": {
      "text/plain": [
       "plan\n",
       "surf        3067.835152\n",
       "ultimate     129.848486\n",
       "dtype: float64"
      ]
     },
     "metadata": {},
     "output_type": "display_data"
    },
    {
     "data": {
      "image/png": "[encoded data removed]",
      "text/plain": [
       "<Figure size 1000x600 with 1 Axes>"
      ]
     },
     "metadata": {},
     "output_type": "display_data"
    }
   ],
   "source": [
    "# Calcula la media y la varianza de la distribución ingresos por plan\n",
    "\n",
    "mean_revenue = pivot_revenue.mean()\n",
    "var_revenue = pivot_revenue.var()\n",
    "display(mean_revenue)\n",
    "display(var_revenue)\n",
    "\n",
    "# Traza un diagrama de caja para visualizar la distribución de ingresos mensuales por plan\n",
    "\n",
    "plt.figure(figsize=(10, 6))\n",
    "sns.boxplot(data=pivot_revenue)\n",
    "plt.title('Distribución de Ingresos por Plan')\n",
    "plt.xlabel('Plan')\n",
    "plt.ylabel('Ingresos Mensuales (USD)')\n",
    "plt.show()"
   ]
  },
  {
   "cell_type": "markdown",
   "metadata": {
    "id": "KAFidcXZ0q1P"
   },
   "source": [
    "[Elabora las conclusiones sobre cómo difiere el ingreso entre los planes.]\n",
    "\n",
    "* Se observa que la mayoria de los usuarios de Ultimate paga su cuota fija de 70 USD, mientras que los usuarios de Surf pagan un sobre precio. \n"
   ]
  },
  {
   "cell_type": "markdown",
   "metadata": {
    "id": "ajJ7VKeI0q1Q"
   },
   "source": [
    "## Prueba las hipótesis estadísticas"
   ]
  },
  {
   "cell_type": "markdown",
   "metadata": {
    "id": "AdXAZ-yL0q1Q"
   },
   "source": [
    "[Prueba la hipótesis de que son diferentes los ingresos promedio procedentes de los usuarios de los planes de llamada Ultimate y Surf.]"
   ]
  },
  {
   "cell_type": "markdown",
   "metadata": {
    "id": "IQwa_hsh0q1Q"
   },
   "source": [
    "[Elabora las hipótesis nula y alternativa, escoge la prueba estadística, determina el valor alfa.]"
   ]
  },
  {
   "cell_type": "markdown",
   "metadata": {},
   "source": [
    "* H0 = Los ingresos promedio procedente de los usuarios Ultimate y Surf son iguales\n",
    "* H1 = Los ingresos promedio procedente de los usuarios Ultimate y Surf son diferentes"
   ]
  },
  {
   "cell_type": "code",
   "execution_count": 44,
   "metadata": {
    "id": "nFoPNlPq0q1R"
   },
   "outputs": [
    {
     "name": "stdout",
     "output_type": "stream",
     "text": [
      "LeveneResult(statistic=404.7301727752691, pvalue=5.028876110654919e-83)\n"
     ]
    }
   ],
   "source": [
    "\n",
    "# Filtro de datos por plan\n",
    "revenue_surf = pivot_revenue['surf'].dropna()\n",
    "revenue_ultimate = pivot_revenue['ultimate'].dropna()\n",
    "\n",
    "# Comparación de varianzas\n",
    "var_comparation = st.levene(revenue_surf,revenue_ultimate)\n",
    "print(var_comparation)"
   ]
  },
  {
   "cell_type": "code",
   "execution_count": 45,
   "metadata": {},
   "outputs": [
    {
     "name": "stdout",
     "output_type": "stream",
     "text": [
      "Valor p: 3.1703905481135734e-15\n",
      "Rechazamos la hipótesis nula: Hay una diferencia significativa en los ingresos promedio entre los planes.\n"
     ]
    }
   ],
   "source": [
    "# Prueba las hipótesis\n",
    "\n",
    "results = st.ttest_ind(revenue_surf,revenue_ultimate, equal_var = False)\n",
    "\n",
    "# Establecer el valor alfa\n",
    "alpha = 0.05\n",
    "\n",
    "print(f'Valor p: {results.pvalue}')\n",
    "\n",
    "# Interpretación del resultado\n",
    "if results.pvalue < alpha:\n",
    "    print(\"Rechazamos la hipótesis nula: Hay una diferencia significativa en los ingresos promedio entre los planes.\")\n",
    "else:\n",
    "    print(\"No rechazamos la hipótesis nula: No hay una diferencia significativa en los ingresos promedio entre los planes.\")"
   ]
  },
  {
   "cell_type": "markdown",
   "metadata": {
    "id": "tCcAruM60q1R"
   },
   "source": [
    "[Prueba la hipótesis de que el ingreso promedio de los usuarios del área NY-NJ es diferente al de los usuarios de otras regiones.]"
   ]
  },
  {
   "cell_type": "markdown",
   "metadata": {
    "id": "LsBgitqj0q1R"
   },
   "source": [
    "[Elabora las hipótesis nula y alternativa, escoge la prueba estadística, determina el valor alfa.]"
   ]
  },
  {
   "cell_type": "markdown",
   "metadata": {},
   "source": [
    "* H0 = Los ingresos promedio procedente de del área NY-NJ son iguales a los de los usuarios de otras regiones\n",
    "* H1 = Los ingresos promedio procedente de del área NY-NJ son diferentes a los de los usuarios de otras regiones"
   ]
  },
  {
   "cell_type": "code",
   "execution_count": 46,
   "metadata": {},
   "outputs": [
    {
     "name": "stdout",
     "output_type": "stream",
     "text": [
      "LeveneResult(statistic=9.987157752156076, pvalue=0.0015969343433827883)\n"
     ]
    }
   ],
   "source": [
    "# Filtro de los ingresos para NY-NJ y otras regiones\n",
    "ny_nj_revenue = revenue[revenue['city'].str.contains('NY|NJ')]['total_revenue']\n",
    "other_regions_revenue = revenue[~revenue['city'].str.contains('NY|NJ')]['total_revenue']\n",
    "\n",
    "# Comparación de varianzas\n",
    "var_comparation = st.levene(ny_nj_revenue,other_regions_revenue)\n",
    "print(var_comparation)\n"
   ]
  },
  {
   "cell_type": "code",
   "execution_count": 47,
   "metadata": {
    "id": "Cqcj7wrZ0q1S"
   },
   "outputs": [
    {
     "name": "stdout",
     "output_type": "stream",
     "text": [
      "Valor p: 0.10667494170371573\n",
      "No rechazamos la hipótesis nula: No hay una diferencia significativa en los ingresos de la región NY-NJ de las otras regiones.\n"
     ]
    }
   ],
   "source": [
    "# Prueba las hipótesis\n",
    "\n",
    "results = st.ttest_ind(ny_nj_revenue,other_regions_revenue, equal_var = False)\n",
    "\n",
    "# Establecer el valor alfa\n",
    "alpha = 0.05\n",
    "\n",
    "print(f'Valor p: {results.pvalue}')\n",
    "\n",
    "# Interpretación del resultado\n",
    "if results.pvalue < alpha:\n",
    "    print(\"Rechazamos la hipótesis nula: Hay una diferencia significativa en los ingresos de la región NY-NJ de las otras regiones.\")\n",
    "else:\n",
    "    print(\"No rechazamos la hipótesis nula: No hay una diferencia significativa en los ingresos de la región NY-NJ de las otras regiones.\")\n",
    "\n"
   ]
  },
  {
   "cell_type": "markdown",
   "metadata": {
    "id": "bbTR8UQO0q1T"
   },
   "source": [
    "## Conclusión general\n",
    "\n",
    "[En esta sección final, enumera tus conclusiones importantes. Asegúrate de que estas abarquen todas las decisiones (suposiciones) importantes que adoptaste y que determinaron la forma elegida para procesar y analizar los datos.]\n"
   ]
  },
  {
   "cell_type": "markdown",
   "metadata": {},
   "source": [
    "* La conclusión que podemos sacar es que los usuarios independientemente del plan tienden a tener un consumo muy similar.\n",
    "* Las caracteristicas del plan Surf en algunos servicios tiende a ser insuficiente, por el contrario en las de Ultimate tienden a sobrar.\n",
    "* Como observación final se podria sugerir la creación de un plan intermedio para que pueda suplir las necesidades basicas de la mayoria de los usuarios y así poder ser mas competitivos en el mercado de telefonia."
   ]
  }
 ],
 "metadata": {
  "ExecuteTimeLog": [
   {
    "duration": 828,
    "start_time": "2021-11-16T09:21:11.304Z"
   },
   {
    "duration": 893,
    "start_time": "2021-11-16T09:21:17.728Z"
   },
   {
    "duration": 1150,
    "start_time": "2021-11-16T09:21:29.568Z"
   },
   {
    "duration": 3,
    "start_time": "2021-11-16T09:24:14.495Z"
   },
   {
    "duration": 120,
    "start_time": "2021-11-16T09:24:46.630Z"
   },
   {
    "duration": 3,
    "start_time": "2021-11-16T09:28:27.882Z"
   },
   {
    "duration": 4,
    "start_time": "2021-11-16T09:29:54.281Z"
   },
   {
    "duration": 3,
    "start_time": "2021-11-16T09:30:45.936Z"
   },
   {
    "duration": 4,
    "start_time": "2021-11-16T09:31:06.300Z"
   },
   {
    "duration": 113,
    "start_time": "2021-11-16T09:31:37.208Z"
   },
   {
    "duration": 143,
    "start_time": "2021-11-16T09:31:48.656Z"
   },
   {
    "duration": 98,
    "start_time": "2021-11-16T09:31:55.678Z"
   },
   {
    "duration": 3,
    "start_time": "2021-11-16T09:32:08.535Z"
   },
   {
    "duration": 111,
    "start_time": "2021-11-16T09:32:10.120Z"
   },
   {
    "duration": 3,
    "start_time": "2021-11-16T09:32:15.732Z"
   },
   {
    "duration": 4,
    "start_time": "2021-11-16T09:32:29.423Z"
   },
   {
    "duration": 3,
    "start_time": "2021-11-16T10:03:03.074Z"
   },
   {
    "duration": 3,
    "start_time": "2021-11-16T10:10:01.288Z"
   },
   {
    "duration": 3,
    "start_time": "2021-11-16T10:10:46.923Z"
   },
   {
    "duration": 121,
    "start_time": "2021-11-16T10:37:46.494Z"
   },
   {
    "duration": 125,
    "start_time": "2021-11-16T10:38:20.632Z"
   },
   {
    "duration": 112,
    "start_time": "2021-11-16T10:46:53.001Z"
   },
   {
    "duration": 110,
    "start_time": "2021-11-16T10:48:25.775Z"
   },
   {
    "duration": 3,
    "start_time": "2021-11-16T10:50:18.720Z"
   },
   {
    "duration": 4,
    "start_time": "2021-11-16T10:50:37.649Z"
   },
   {
    "duration": 2,
    "start_time": "2021-11-16T10:50:51.884Z"
   },
   {
    "duration": 3,
    "start_time": "2021-11-16T10:51:56.237Z"
   },
   {
    "duration": 101,
    "start_time": "2021-11-16T10:53:13.791Z"
   },
   {
    "duration": 3,
    "start_time": "2021-11-16T10:55:59.186Z"
   },
   {
    "duration": 3,
    "start_time": "2021-11-16T10:56:10.751Z"
   },
   {
    "duration": 3,
    "start_time": "2021-11-16T10:56:49.038Z"
   },
   {
    "duration": 3,
    "start_time": "2021-11-16T10:56:49.174Z"
   },
   {
    "duration": 4,
    "start_time": "2021-11-16T10:56:49.414Z"
   },
   {
    "duration": 3,
    "start_time": "2021-11-16T10:56:49.680Z"
   },
   {
    "duration": 3,
    "start_time": "2021-11-16T10:56:50.370Z"
   },
   {
    "duration": 114,
    "start_time": "2021-11-16T10:59:34.518Z"
   },
   {
    "duration": 3,
    "start_time": "2021-11-16T11:01:41.201Z"
   },
   {
    "duration": 116,
    "start_time": "2021-11-16T11:01:48.754Z"
   },
   {
    "duration": 3,
    "start_time": "2021-11-16T11:02:16.685Z"
   },
   {
    "duration": 3,
    "start_time": "2021-11-16T11:02:19.479Z"
   },
   {
    "duration": 3,
    "start_time": "2021-11-16T11:02:47.067Z"
   },
   {
    "duration": 3,
    "start_time": "2021-11-16T11:02:49.353Z"
   },
   {
    "duration": 3,
    "start_time": "2021-11-16T11:03:07.835Z"
   },
   {
    "duration": 3,
    "start_time": "2021-11-16T11:03:07.953Z"
   },
   {
    "duration": 112,
    "start_time": "2021-11-16T11:07:52.072Z"
   },
   {
    "duration": 187,
    "start_time": "2021-11-16T11:09:23.468Z"
   },
   {
    "duration": 4,
    "start_time": "2021-11-16T11:10:01.455Z"
   },
   {
    "duration": 3,
    "start_time": "2021-11-16T11:10:05.069Z"
   },
   {
    "duration": 4,
    "start_time": "2021-11-16T11:10:13.376Z"
   },
   {
    "duration": 3,
    "start_time": "2021-11-16T11:10:14.434Z"
   },
   {
    "duration": 3,
    "start_time": "2021-11-16T11:10:22.853Z"
   },
   {
    "duration": 4,
    "start_time": "2021-11-16T11:27:29.279Z"
   },
   {
    "duration": 4,
    "start_time": "2021-11-16T11:29:08.919Z"
   },
   {
    "duration": 118,
    "start_time": "2021-11-16T11:29:46.703Z"
   },
   {
    "duration": 437,
    "start_time": "2021-11-16T11:36:02.181Z"
   },
   {
    "duration": 157,
    "start_time": "2021-11-16T11:36:14.388Z"
   },
   {
    "duration": 207,
    "start_time": "2021-11-16T11:47:15.898Z"
   },
   {
    "duration": 3,
    "start_time": "2021-11-16T11:53:52.092Z"
   },
   {
    "duration": 3,
    "start_time": "2021-11-16T11:53:52.236Z"
   },
   {
    "duration": 3,
    "start_time": "2021-11-16T11:59:12.005Z"
   },
   {
    "duration": 112,
    "start_time": "2021-11-16T12:00:33.446Z"
   },
   {
    "duration": 3,
    "start_time": "2021-11-16T12:02:14.453Z"
   },
   {
    "duration": 3,
    "start_time": "2021-11-16T12:02:39.512Z"
   },
   {
    "duration": 106,
    "start_time": "2021-11-16T12:03:03.460Z"
   },
   {
    "duration": 3,
    "start_time": "2021-11-17T20:37:21.139Z"
   },
   {
    "duration": 3,
    "start_time": "2021-11-17T20:37:22.229Z"
   },
   {
    "duration": 3,
    "start_time": "2021-11-17T20:38:38.806Z"
   },
   {
    "duration": 3,
    "start_time": "2021-11-17T20:38:41.958Z"
   },
   {
    "duration": 3,
    "start_time": "2021-11-17T20:43:46.551Z"
   },
   {
    "duration": 4,
    "start_time": "2021-11-17T20:58:21.835Z"
   },
   {
    "duration": 3,
    "start_time": "2021-11-17T20:59:21.872Z"
   },
   {
    "duration": 4,
    "start_time": "2021-11-17T20:59:45.352Z"
   },
   {
    "duration": 4,
    "start_time": "2021-11-17T20:59:49.646Z"
   },
   {
    "duration": 159,
    "start_time": "2021-11-17T21:02:26.949Z"
   },
   {
    "duration": 3,
    "start_time": "2021-11-17T21:03:53.461Z"
   },
   {
    "duration": 3,
    "start_time": "2021-11-17T21:03:53.694Z"
   },
   {
    "duration": 3,
    "start_time": "2021-11-17T21:05:28.145Z"
   },
   {
    "duration": 116,
    "start_time": "2021-11-17T21:05:57.787Z"
   },
   {
    "duration": 3,
    "start_time": "2021-11-17T21:06:37.993Z"
   },
   {
    "duration": 3,
    "start_time": "2021-11-17T21:06:38.261Z"
   },
   {
    "duration": 3,
    "start_time": "2021-11-17T21:11:54.358Z"
   },
   {
    "duration": 3,
    "start_time": "2021-11-17T21:12:43.846Z"
   },
   {
    "duration": 4,
    "start_time": "2021-11-17T21:13:08.773Z"
   },
   {
    "duration": 3,
    "start_time": "2021-11-17T21:14:44.441Z"
   },
   {
    "duration": 3,
    "start_time": "2021-11-17T21:15:42.059Z"
   },
   {
    "duration": 4,
    "start_time": "2021-11-17T21:15:51.995Z"
   },
   {
    "duration": 3,
    "start_time": "2021-11-17T21:15:53.923Z"
   },
   {
    "duration": 3,
    "start_time": "2021-11-17T21:15:55.282Z"
   },
   {
    "duration": 3,
    "start_time": "2021-11-17T21:16:28.492Z"
   },
   {
    "duration": 3,
    "start_time": "2021-11-17T21:16:32.603Z"
   },
   {
    "duration": 3,
    "start_time": "2021-11-17T21:17:06.941Z"
   },
   {
    "duration": 98,
    "start_time": "2021-11-17T21:18:05.733Z"
   },
   {
    "duration": 4,
    "start_time": "2021-11-17T21:21:35.255Z"
   },
   {
    "duration": 3,
    "start_time": "2021-11-17T21:21:37.804Z"
   },
   {
    "duration": 4,
    "start_time": "2021-11-17T21:23:06.071Z"
   },
   {
    "duration": 3,
    "start_time": "2021-11-17T21:23:24.799Z"
   },
   {
    "duration": 3,
    "start_time": "2021-11-17T21:23:32.591Z"
   },
   {
    "duration": 98,
    "start_time": "2021-11-17T21:28:31.559Z"
   },
   {
    "duration": 3,
    "start_time": "2021-11-17T21:28:45.448Z"
   },
   {
    "duration": 3,
    "start_time": "2021-11-17T21:29:17.303Z"
   },
   {
    "duration": 3,
    "start_time": "2021-11-17T21:29:29.617Z"
   },
   {
    "duration": 3,
    "start_time": "2021-11-17T21:29:32.681Z"
   },
   {
    "duration": 3,
    "start_time": "2021-11-17T21:36:11.474Z"
   },
   {
    "duration": 3,
    "start_time": "2021-11-17T21:36:14.791Z"
   },
   {
    "duration": 3,
    "start_time": "2021-11-17T21:36:53.943Z"
   },
   {
    "duration": 3,
    "start_time": "2021-11-17T21:36:56.165Z"
   },
   {
    "duration": 4,
    "start_time": "2021-11-17T21:37:16.590Z"
   },
   {
    "duration": 3,
    "start_time": "2021-11-17T21:37:22.702Z"
   },
   {
    "duration": 4,
    "start_time": "2021-11-17T21:38:03.479Z"
   },
   {
    "duration": 3,
    "start_time": "2021-11-17T21:38:08.601Z"
   },
   {
    "duration": 3,
    "start_time": "2021-11-17T21:38:12.928Z"
   },
   {
    "duration": 3,
    "start_time": "2021-11-17T21:38:48.896Z"
   },
   {
    "duration": 2,
    "start_time": "2021-11-17T21:38:49.171Z"
   },
   {
    "duration": 4,
    "start_time": "2021-11-17T21:39:57.889Z"
   },
   {
    "duration": 3,
    "start_time": "2021-11-17T21:39:58.057Z"
   },
   {
    "duration": 3,
    "start_time": "2021-11-17T21:41:20.108Z"
   },
   {
    "duration": 3,
    "start_time": "2021-11-17T21:41:20.629Z"
   },
   {
    "duration": 3,
    "start_time": "2021-11-17T21:42:49.136Z"
   },
   {
    "duration": 3,
    "start_time": "2021-11-17T21:43:15.137Z"
   },
   {
    "duration": 4,
    "start_time": "2021-11-17T21:43:16.766Z"
   },
   {
    "duration": 4,
    "start_time": "2021-11-17T21:43:31.711Z"
   },
   {
    "duration": 3,
    "start_time": "2021-11-17T21:43:36.312Z"
   },
   {
    "duration": 4,
    "start_time": "2021-11-17T21:45:08.825Z"
   },
   {
    "duration": 4,
    "start_time": "2021-11-17T21:45:10.119Z"
   },
   {
    "duration": 4,
    "start_time": "2021-11-17T21:45:13.748Z"
   },
   {
    "duration": 3,
    "start_time": "2021-11-17T21:45:22.219Z"
   },
   {
    "duration": 3,
    "start_time": "2021-11-17T21:45:33.412Z"
   },
   {
    "duration": 2,
    "start_time": "2021-11-17T21:46:01.885Z"
   },
   {
    "duration": 3,
    "start_time": "2021-11-17T21:46:03.628Z"
   },
   {
    "duration": 107,
    "start_time": "2021-11-17T21:47:32.512Z"
   },
   {
    "duration": 103,
    "start_time": "2021-11-17T21:50:36.243Z"
   },
   {
    "duration": 3,
    "start_time": "2021-11-18T06:28:31.440Z"
   },
   {
    "duration": 3,
    "start_time": "2021-11-18T06:29:00.168Z"
   },
   {
    "duration": 3,
    "start_time": "2021-11-18T06:31:27.008Z"
   },
   {
    "duration": 2,
    "start_time": "2021-11-18T06:35:34.288Z"
   },
   {
    "duration": 2,
    "start_time": "2021-11-18T06:38:04.527Z"
   },
   {
    "duration": 768,
    "start_time": "2024-07-20T18:22:17.162Z"
   },
   {
    "duration": 4390,
    "start_time": "2024-07-20T18:22:28.578Z"
   },
   {
    "duration": 828,
    "start_time": "2024-07-20T18:51:25.360Z"
   },
   {
    "duration": 12,
    "start_time": "2024-07-20T18:54:02.342Z"
   },
   {
    "duration": 364,
    "start_time": "2024-07-20T19:16:39.752Z"
   },
   {
    "duration": 271,
    "start_time": "2024-07-20T19:27:00.153Z"
   },
   {
    "duration": 46,
    "start_time": "2024-07-20T19:28:51.198Z"
   },
   {
    "duration": 13,
    "start_time": "2024-07-22T22:08:40.406Z"
   },
   {
    "duration": 4903,
    "start_time": "2024-07-23T17:42:50.502Z"
   },
   {
    "duration": 388,
    "start_time": "2024-07-23T17:42:55.410Z"
   },
   {
    "duration": 58,
    "start_time": "2024-07-23T17:42:55.801Z"
   },
   {
    "duration": 32,
    "start_time": "2024-07-23T17:42:55.863Z"
   },
   {
    "duration": 4,
    "start_time": "2024-07-23T17:42:55.898Z"
   },
   {
    "duration": 4,
    "start_time": "2024-07-23T17:42:55.906Z"
   },
   {
    "duration": 4,
    "start_time": "2024-07-23T17:42:55.912Z"
   },
   {
    "duration": 3,
    "start_time": "2024-07-23T17:42:55.920Z"
   },
   {
    "duration": 3,
    "start_time": "2024-07-23T17:42:55.926Z"
   },
   {
    "duration": 56,
    "start_time": "2024-07-23T17:42:55.935Z"
   },
   {
    "duration": 3,
    "start_time": "2024-07-23T17:42:55.994Z"
   },
   {
    "duration": 4,
    "start_time": "2024-07-23T17:42:56.000Z"
   },
   {
    "duration": 3,
    "start_time": "2024-07-23T17:42:56.008Z"
   },
   {
    "duration": 4,
    "start_time": "2024-07-23T17:42:56.013Z"
   },
   {
    "duration": 4,
    "start_time": "2024-07-23T17:42:56.020Z"
   },
   {
    "duration": 4,
    "start_time": "2024-07-23T17:42:56.027Z"
   },
   {
    "duration": 58,
    "start_time": "2024-07-23T17:42:56.034Z"
   },
   {
    "duration": 3,
    "start_time": "2024-07-23T17:42:56.096Z"
   },
   {
    "duration": 4,
    "start_time": "2024-07-23T17:42:56.103Z"
   },
   {
    "duration": 4,
    "start_time": "2024-07-23T17:42:56.111Z"
   },
   {
    "duration": 4,
    "start_time": "2024-07-23T17:42:56.119Z"
   },
   {
    "duration": 4,
    "start_time": "2024-07-23T17:42:56.126Z"
   },
   {
    "duration": 3,
    "start_time": "2024-07-23T17:42:56.192Z"
   },
   {
    "duration": 4,
    "start_time": "2024-07-23T17:42:56.198Z"
   },
   {
    "duration": 4,
    "start_time": "2024-07-23T17:42:56.205Z"
   },
   {
    "duration": 4,
    "start_time": "2024-07-23T17:42:56.213Z"
   },
   {
    "duration": 4,
    "start_time": "2024-07-23T17:42:56.220Z"
   },
   {
    "duration": 3,
    "start_time": "2024-07-23T17:42:56.233Z"
   },
   {
    "duration": 22,
    "start_time": "2024-07-23T17:51:27.764Z"
   },
   {
    "duration": 420,
    "start_time": "2024-07-23T18:00:33.663Z"
   },
   {
    "duration": 26,
    "start_time": "2024-07-23T18:01:08.280Z"
   },
   {
    "duration": 16,
    "start_time": "2024-07-23T18:02:36.488Z"
   },
   {
    "duration": 842,
    "start_time": "2024-07-23T18:04:17.014Z"
   },
   {
    "duration": 81,
    "start_time": "2024-07-23T18:06:16.330Z"
   },
   {
    "duration": 89,
    "start_time": "2024-07-23T18:45:28.043Z"
   },
   {
    "duration": 1146,
    "start_time": "2024-07-23T18:46:10.231Z"
   },
   {
    "duration": 290,
    "start_time": "2024-07-23T18:46:11.382Z"
   },
   {
    "duration": 53,
    "start_time": "2024-07-23T18:46:11.675Z"
   },
   {
    "duration": 13,
    "start_time": "2024-07-23T18:46:11.732Z"
   },
   {
    "duration": 4,
    "start_time": "2024-07-23T18:46:11.748Z"
   },
   {
    "duration": 18,
    "start_time": "2024-07-23T18:46:18.048Z"
   },
   {
    "duration": 9,
    "start_time": "2024-07-23T18:51:57.303Z"
   },
   {
    "duration": 397,
    "start_time": "2024-07-23T18:53:09.555Z"
   },
   {
    "duration": 26,
    "start_time": "2024-07-23T18:53:51.810Z"
   },
   {
    "duration": 24,
    "start_time": "2024-07-23T18:53:59.147Z"
   },
   {
    "duration": 16,
    "start_time": "2024-07-23T18:55:23.896Z"
   },
   {
    "duration": 6,
    "start_time": "2024-07-23T18:55:57.625Z"
   },
   {
    "duration": 17,
    "start_time": "2024-07-23T18:56:12.142Z"
   },
   {
    "duration": 25,
    "start_time": "2024-07-23T19:11:32.032Z"
   },
   {
    "duration": 16,
    "start_time": "2024-07-23T19:11:38.575Z"
   },
   {
    "duration": 26,
    "start_time": "2024-07-23T19:12:00.902Z"
   },
   {
    "duration": 18,
    "start_time": "2024-07-23T19:13:53.504Z"
   },
   {
    "duration": 16,
    "start_time": "2024-07-23T19:14:12.153Z"
   },
   {
    "duration": 17,
    "start_time": "2024-07-23T19:17:02.234Z"
   },
   {
    "duration": 16,
    "start_time": "2024-07-23T19:18:42.812Z"
   },
   {
    "duration": 13,
    "start_time": "2024-07-23T19:19:17.809Z"
   },
   {
    "duration": 22,
    "start_time": "2024-07-23T19:26:51.192Z"
   },
   {
    "duration": 14,
    "start_time": "2024-07-23T19:33:16.321Z"
   },
   {
    "duration": 25,
    "start_time": "2024-07-23T19:33:45.716Z"
   },
   {
    "duration": 29,
    "start_time": "2024-07-23T19:33:52.401Z"
   },
   {
    "duration": 40,
    "start_time": "2024-07-23T19:34:14.012Z"
   },
   {
    "duration": 14,
    "start_time": "2024-07-23T19:34:44.373Z"
   },
   {
    "duration": 24,
    "start_time": "2024-07-23T20:29:48.938Z"
   },
   {
    "duration": 38,
    "start_time": "2024-07-23T20:30:04.775Z"
   },
   {
    "duration": 18,
    "start_time": "2024-07-23T20:32:51.326Z"
   },
   {
    "duration": 14,
    "start_time": "2024-07-23T20:37:55.311Z"
   },
   {
    "duration": 14,
    "start_time": "2024-07-23T20:38:10.575Z"
   },
   {
    "duration": 26,
    "start_time": "2024-07-23T20:46:34.296Z"
   },
   {
    "duration": 6,
    "start_time": "2024-07-23T20:50:41.170Z"
   },
   {
    "duration": 16,
    "start_time": "2024-07-23T20:51:41.956Z"
   },
   {
    "duration": 17,
    "start_time": "2024-07-23T20:52:09.456Z"
   },
   {
    "duration": 29,
    "start_time": "2024-07-23T20:52:27.920Z"
   },
   {
    "duration": 33,
    "start_time": "2024-07-23T20:53:41.917Z"
   },
   {
    "duration": 36,
    "start_time": "2024-07-23T20:58:42.483Z"
   },
   {
    "duration": 47,
    "start_time": "2024-07-23T20:58:57.568Z"
   },
   {
    "duration": 18,
    "start_time": "2024-07-23T21:00:12.982Z"
   },
   {
    "duration": 11,
    "start_time": "2024-07-23T21:00:33.321Z"
   },
   {
    "duration": 28,
    "start_time": "2024-07-23T21:28:24.407Z"
   },
   {
    "duration": 25,
    "start_time": "2024-07-23T21:32:08.830Z"
   },
   {
    "duration": 19,
    "start_time": "2024-07-23T21:32:32.059Z"
   },
   {
    "duration": 25,
    "start_time": "2024-07-23T21:32:43.357Z"
   },
   {
    "duration": 24,
    "start_time": "2024-07-23T21:51:59.612Z"
   },
   {
    "duration": 28,
    "start_time": "2024-07-23T22:14:34.450Z"
   },
   {
    "duration": 32,
    "start_time": "2024-07-23T22:15:23.705Z"
   },
   {
    "duration": 1298,
    "start_time": "2024-07-23T22:17:00.965Z"
   },
   {
    "duration": 310,
    "start_time": "2024-07-23T22:17:02.268Z"
   },
   {
    "duration": 65,
    "start_time": "2024-07-23T22:17:02.581Z"
   },
   {
    "duration": 15,
    "start_time": "2024-07-23T22:17:02.650Z"
   },
   {
    "duration": 5,
    "start_time": "2024-07-23T22:17:02.690Z"
   },
   {
    "duration": 23,
    "start_time": "2024-07-23T22:17:02.698Z"
   },
   {
    "duration": 69,
    "start_time": "2024-07-23T22:17:02.724Z"
   },
   {
    "duration": 18,
    "start_time": "2024-07-23T22:17:02.798Z"
   },
   {
    "duration": 21,
    "start_time": "2024-07-23T22:17:02.819Z"
   },
   {
    "duration": 73,
    "start_time": "2024-07-23T22:17:02.848Z"
   },
   {
    "duration": 83,
    "start_time": "2024-07-23T22:17:02.925Z"
   },
   {
    "duration": 25,
    "start_time": "2024-07-23T22:17:03.012Z"
   },
   {
    "duration": 60,
    "start_time": "2024-07-23T22:17:03.041Z"
   },
   {
    "duration": 6,
    "start_time": "2024-07-23T22:17:03.104Z"
   },
   {
    "duration": 4,
    "start_time": "2024-07-23T22:17:03.114Z"
   },
   {
    "duration": 4,
    "start_time": "2024-07-23T22:17:03.122Z"
   },
   {
    "duration": 4,
    "start_time": "2024-07-23T22:17:03.130Z"
   },
   {
    "duration": 4,
    "start_time": "2024-07-23T22:17:03.138Z"
   },
   {
    "duration": 5,
    "start_time": "2024-07-23T22:17:03.194Z"
   },
   {
    "duration": 9,
    "start_time": "2024-07-23T22:17:03.202Z"
   },
   {
    "duration": 5,
    "start_time": "2024-07-23T22:17:03.215Z"
   },
   {
    "duration": 6,
    "start_time": "2024-07-23T22:17:03.223Z"
   },
   {
    "duration": 3,
    "start_time": "2024-07-23T22:17:03.233Z"
   },
   {
    "duration": 5,
    "start_time": "2024-07-23T22:17:03.239Z"
   },
   {
    "duration": 4,
    "start_time": "2024-07-23T22:17:03.292Z"
   },
   {
    "duration": 4,
    "start_time": "2024-07-23T22:17:03.299Z"
   },
   {
    "duration": 5,
    "start_time": "2024-07-23T22:17:03.306Z"
   },
   {
    "duration": 3,
    "start_time": "2024-07-23T22:17:03.318Z"
   },
   {
    "duration": 3,
    "start_time": "2024-07-23T22:17:03.326Z"
   },
   {
    "duration": 57,
    "start_time": "2024-07-23T22:17:03.333Z"
   },
   {
    "duration": 5,
    "start_time": "2024-07-23T22:17:03.394Z"
   },
   {
    "duration": 3,
    "start_time": "2024-07-23T22:17:03.403Z"
   },
   {
    "duration": 4,
    "start_time": "2024-07-23T22:17:03.409Z"
   },
   {
    "duration": 47,
    "start_time": "2024-07-23T22:21:45.279Z"
   },
   {
    "duration": 59,
    "start_time": "2024-07-23T22:22:00.917Z"
   },
   {
    "duration": 59,
    "start_time": "2024-07-23T22:22:19.391Z"
   },
   {
    "duration": 81,
    "start_time": "2024-07-23T22:22:46.330Z"
   },
   {
    "duration": 402,
    "start_time": "2024-07-23T22:27:03.826Z"
   },
   {
    "duration": 23,
    "start_time": "2024-07-23T22:27:11.391Z"
   },
   {
    "duration": 32,
    "start_time": "2024-07-23T22:27:29.738Z"
   },
   {
    "duration": 20,
    "start_time": "2024-07-23T22:29:48.781Z"
   },
   {
    "duration": 12,
    "start_time": "2024-07-23T22:34:53.108Z"
   },
   {
    "duration": 10,
    "start_time": "2024-07-23T22:35:13.642Z"
   },
   {
    "duration": 14,
    "start_time": "2024-07-23T22:35:26.984Z"
   },
   {
    "duration": 365,
    "start_time": "2024-07-29T17:15:44.309Z"
   },
   {
    "duration": 4894,
    "start_time": "2024-07-29T17:15:51.223Z"
   },
   {
    "duration": 349,
    "start_time": "2024-07-29T17:15:56.121Z"
   },
   {
    "duration": 52,
    "start_time": "2024-07-29T17:15:56.472Z"
   },
   {
    "duration": 13,
    "start_time": "2024-07-29T17:15:56.527Z"
   },
   {
    "duration": 3,
    "start_time": "2024-07-29T17:15:56.545Z"
   },
   {
    "duration": 17,
    "start_time": "2024-07-29T17:15:56.551Z"
   },
   {
    "duration": 68,
    "start_time": "2024-07-29T17:15:56.571Z"
   },
   {
    "duration": 14,
    "start_time": "2024-07-29T17:15:56.643Z"
   },
   {
    "duration": 53,
    "start_time": "2024-07-29T17:15:56.660Z"
   },
   {
    "duration": 29,
    "start_time": "2024-07-29T17:15:56.715Z"
   },
   {
    "duration": 81,
    "start_time": "2024-07-29T17:15:56.747Z"
   },
   {
    "duration": 24,
    "start_time": "2024-07-29T17:15:56.832Z"
   },
   {
    "duration": 57,
    "start_time": "2024-07-29T17:15:56.859Z"
   },
   {
    "duration": 68,
    "start_time": "2024-07-29T17:15:56.920Z"
   },
   {
    "duration": 36,
    "start_time": "2024-07-29T17:15:56.991Z"
   },
   {
    "duration": 14,
    "start_time": "2024-07-29T17:15:57.030Z"
   },
   {
    "duration": 19,
    "start_time": "2024-07-29T17:15:57.048Z"
   },
   {
    "duration": 18,
    "start_time": "2024-07-29T18:39:54.291Z"
   },
   {
    "duration": 15,
    "start_time": "2024-07-29T18:40:09.243Z"
   },
   {
    "duration": 26,
    "start_time": "2024-07-29T18:40:25.595Z"
   },
   {
    "duration": 41,
    "start_time": "2024-07-29T18:50:04.325Z"
   },
   {
    "duration": 23,
    "start_time": "2024-07-29T18:59:48.532Z"
   },
   {
    "duration": 23,
    "start_time": "2024-07-29T19:21:40.536Z"
   },
   {
    "duration": 116,
    "start_time": "2024-07-29T19:29:46.732Z"
   },
   {
    "duration": 24,
    "start_time": "2024-07-29T19:30:21.735Z"
   },
   {
    "duration": 22,
    "start_time": "2024-07-29T19:30:45.662Z"
   },
   {
    "duration": 29,
    "start_time": "2024-07-29T19:31:41.491Z"
   },
   {
    "duration": 4,
    "start_time": "2024-07-29T19:32:19.395Z"
   },
   {
    "duration": 281,
    "start_time": "2024-07-29T19:32:19.404Z"
   },
   {
    "duration": 54,
    "start_time": "2024-07-29T19:32:19.689Z"
   },
   {
    "duration": 13,
    "start_time": "2024-07-29T19:32:19.746Z"
   },
   {
    "duration": 3,
    "start_time": "2024-07-29T19:32:19.764Z"
   },
   {
    "duration": 50,
    "start_time": "2024-07-29T19:32:19.771Z"
   },
   {
    "duration": 27,
    "start_time": "2024-07-29T19:32:19.824Z"
   },
   {
    "duration": 14,
    "start_time": "2024-07-29T19:32:19.854Z"
   },
   {
    "duration": 53,
    "start_time": "2024-07-29T19:32:19.871Z"
   },
   {
    "duration": 29,
    "start_time": "2024-07-29T19:32:19.926Z"
   },
   {
    "duration": 81,
    "start_time": "2024-07-29T19:32:19.958Z"
   },
   {
    "duration": 23,
    "start_time": "2024-07-29T19:32:20.043Z"
   },
   {
    "duration": 53,
    "start_time": "2024-07-29T19:32:20.069Z"
   },
   {
    "duration": 85,
    "start_time": "2024-07-29T19:32:20.127Z"
   },
   {
    "duration": 20,
    "start_time": "2024-07-29T19:32:20.215Z"
   },
   {
    "duration": 22,
    "start_time": "2024-07-29T19:32:20.239Z"
   },
   {
    "duration": 58,
    "start_time": "2024-07-29T19:32:20.264Z"
   },
   {
    "duration": 42,
    "start_time": "2024-07-29T19:32:20.325Z"
   },
   {
    "duration": 50,
    "start_time": "2024-07-29T19:32:20.370Z"
   },
   {
    "duration": 22,
    "start_time": "2024-07-29T19:32:20.423Z"
   },
   {
    "duration": 1238,
    "start_time": "2024-07-29T19:32:29.021Z"
   },
   {
    "duration": 273,
    "start_time": "2024-07-29T19:32:30.264Z"
   },
   {
    "duration": 48,
    "start_time": "2024-07-29T19:32:30.540Z"
   },
   {
    "duration": 28,
    "start_time": "2024-07-29T19:32:30.593Z"
   },
   {
    "duration": 4,
    "start_time": "2024-07-29T19:32:30.624Z"
   },
   {
    "duration": 15,
    "start_time": "2024-07-29T19:32:30.632Z"
   },
   {
    "duration": 66,
    "start_time": "2024-07-29T19:32:30.650Z"
   },
   {
    "duration": 16,
    "start_time": "2024-07-29T19:32:30.718Z"
   },
   {
    "duration": 19,
    "start_time": "2024-07-29T19:32:30.738Z"
   },
   {
    "duration": 64,
    "start_time": "2024-07-29T19:32:30.763Z"
   },
   {
    "duration": 48,
    "start_time": "2024-07-29T19:32:30.830Z"
   },
   {
    "duration": 50,
    "start_time": "2024-07-29T19:32:30.881Z"
   },
   {
    "duration": 32,
    "start_time": "2024-07-29T19:32:30.934Z"
   },
   {
    "duration": 98,
    "start_time": "2024-07-29T19:32:30.969Z"
   },
   {
    "duration": 19,
    "start_time": "2024-07-29T19:32:31.072Z"
   },
   {
    "duration": 23,
    "start_time": "2024-07-29T19:32:31.115Z"
   },
   {
    "duration": 18,
    "start_time": "2024-07-29T19:32:31.140Z"
   },
   {
    "duration": 74,
    "start_time": "2024-07-29T19:32:31.161Z"
   },
   {
    "duration": 24,
    "start_time": "2024-07-29T19:32:31.238Z"
   },
   {
    "duration": 55,
    "start_time": "2024-07-29T19:32:31.266Z"
   },
   {
    "duration": 412,
    "start_time": "2024-07-29T19:32:31.324Z"
   },
   {
    "duration": 0,
    "start_time": "2024-07-29T19:32:31.740Z"
   },
   {
    "duration": 0,
    "start_time": "2024-07-29T19:32:31.742Z"
   },
   {
    "duration": 0,
    "start_time": "2024-07-29T19:32:31.744Z"
   },
   {
    "duration": 0,
    "start_time": "2024-07-29T19:32:31.746Z"
   },
   {
    "duration": 0,
    "start_time": "2024-07-29T19:32:31.748Z"
   },
   {
    "duration": 0,
    "start_time": "2024-07-29T19:32:31.750Z"
   },
   {
    "duration": 0,
    "start_time": "2024-07-29T19:32:31.752Z"
   },
   {
    "duration": 0,
    "start_time": "2024-07-29T19:32:31.754Z"
   },
   {
    "duration": 0,
    "start_time": "2024-07-29T19:32:31.756Z"
   },
   {
    "duration": 0,
    "start_time": "2024-07-29T19:32:31.758Z"
   },
   {
    "duration": 0,
    "start_time": "2024-07-29T19:32:31.761Z"
   },
   {
    "duration": 0,
    "start_time": "2024-07-29T19:32:31.763Z"
   },
   {
    "duration": 0,
    "start_time": "2024-07-29T19:32:31.765Z"
   },
   {
    "duration": 0,
    "start_time": "2024-07-29T19:32:31.767Z"
   },
   {
    "duration": 0,
    "start_time": "2024-07-29T19:32:31.813Z"
   },
   {
    "duration": 0,
    "start_time": "2024-07-29T19:32:31.816Z"
   },
   {
    "duration": 6,
    "start_time": "2024-07-29T19:34:48.973Z"
   },
   {
    "duration": 14,
    "start_time": "2024-07-29T19:35:07.802Z"
   },
   {
    "duration": 302,
    "start_time": "2024-08-08T20:05:23.787Z"
   },
   {
    "duration": 4811,
    "start_time": "2024-08-08T20:05:36.772Z"
   },
   {
    "duration": 382,
    "start_time": "2024-08-08T20:05:41.587Z"
   },
   {
    "duration": 48,
    "start_time": "2024-08-08T20:05:41.971Z"
   },
   {
    "duration": 14,
    "start_time": "2024-08-08T20:05:42.033Z"
   },
   {
    "duration": 4,
    "start_time": "2024-08-08T20:05:42.052Z"
   },
   {
    "duration": 16,
    "start_time": "2024-08-08T20:05:42.059Z"
   },
   {
    "duration": 69,
    "start_time": "2024-08-08T20:05:42.078Z"
   },
   {
    "duration": 14,
    "start_time": "2024-08-08T20:05:42.150Z"
   },
   {
    "duration": 18,
    "start_time": "2024-08-08T20:05:42.166Z"
   },
   {
    "duration": 67,
    "start_time": "2024-08-08T20:05:42.187Z"
   },
   {
    "duration": 72,
    "start_time": "2024-08-08T20:05:42.260Z"
   },
   {
    "duration": 24,
    "start_time": "2024-08-08T20:05:42.335Z"
   },
   {
    "duration": 29,
    "start_time": "2024-08-08T20:05:42.362Z"
   },
   {
    "duration": 97,
    "start_time": "2024-08-08T20:05:42.398Z"
   },
   {
    "duration": 37,
    "start_time": "2024-08-08T20:05:42.497Z"
   },
   {
    "duration": 20,
    "start_time": "2024-08-08T20:05:42.536Z"
   },
   {
    "duration": 17,
    "start_time": "2024-08-08T20:05:42.558Z"
   },
   {
    "duration": 80,
    "start_time": "2024-08-08T20:05:42.578Z"
   },
   {
    "duration": 22,
    "start_time": "2024-08-08T20:05:42.660Z"
   },
   {
    "duration": 49,
    "start_time": "2024-08-08T20:05:42.685Z"
   },
   {
    "duration": 14,
    "start_time": "2024-08-08T20:05:42.737Z"
   },
   {
    "duration": 12,
    "start_time": "2024-08-08T20:05:42.754Z"
   },
   {
    "duration": 3,
    "start_time": "2024-08-08T20:05:42.770Z"
   },
   {
    "duration": 5,
    "start_time": "2024-08-08T20:05:42.776Z"
   },
   {
    "duration": 49,
    "start_time": "2024-08-08T20:05:42.784Z"
   },
   {
    "duration": 4,
    "start_time": "2024-08-08T20:05:42.836Z"
   },
   {
    "duration": 3,
    "start_time": "2024-08-08T20:05:42.843Z"
   },
   {
    "duration": 3,
    "start_time": "2024-08-08T20:05:42.850Z"
   },
   {
    "duration": 3,
    "start_time": "2024-08-08T20:05:42.857Z"
   },
   {
    "duration": 3,
    "start_time": "2024-08-08T20:05:42.863Z"
   },
   {
    "duration": 3,
    "start_time": "2024-08-08T20:05:42.869Z"
   },
   {
    "duration": 3,
    "start_time": "2024-08-08T20:05:42.875Z"
   },
   {
    "duration": 4,
    "start_time": "2024-08-08T20:05:42.934Z"
   },
   {
    "duration": 3,
    "start_time": "2024-08-08T20:05:42.941Z"
   },
   {
    "duration": 3,
    "start_time": "2024-08-08T20:05:42.948Z"
   },
   {
    "duration": 3,
    "start_time": "2024-08-08T20:05:42.955Z"
   },
   {
    "duration": 4,
    "start_time": "2024-08-08T20:05:42.962Z"
   },
   {
    "duration": 14,
    "start_time": "2024-08-08T20:09:51.741Z"
   },
   {
    "duration": 12,
    "start_time": "2024-08-08T20:10:06.038Z"
   },
   {
    "duration": 4,
    "start_time": "2024-08-08T20:25:13.813Z"
   },
   {
    "duration": 4,
    "start_time": "2024-08-08T21:14:52.076Z"
   },
   {
    "duration": 6,
    "start_time": "2024-08-08T22:56:10.365Z"
   },
   {
    "duration": 4,
    "start_time": "2024-08-08T22:56:41.171Z"
   },
   {
    "duration": 387,
    "start_time": "2024-08-08T22:56:55.287Z"
   },
   {
    "duration": 5,
    "start_time": "2024-08-08T22:57:13.862Z"
   },
   {
    "duration": 6,
    "start_time": "2024-08-08T22:57:21.916Z"
   },
   {
    "duration": 25,
    "start_time": "2024-08-08T22:57:37.432Z"
   },
   {
    "duration": 4,
    "start_time": "2024-08-08T22:57:50.913Z"
   },
   {
    "duration": 320,
    "start_time": "2024-08-09T03:30:37.067Z"
   },
   {
    "duration": 5073,
    "start_time": "2024-08-09T03:30:43.561Z"
   },
   {
    "duration": 408,
    "start_time": "2024-08-09T03:30:48.638Z"
   },
   {
    "duration": 60,
    "start_time": "2024-08-09T03:30:49.049Z"
   },
   {
    "duration": 13,
    "start_time": "2024-08-09T03:30:49.126Z"
   },
   {
    "duration": 4,
    "start_time": "2024-08-09T03:30:49.142Z"
   },
   {
    "duration": 18,
    "start_time": "2024-08-09T03:30:49.150Z"
   },
   {
    "duration": 73,
    "start_time": "2024-08-09T03:30:49.172Z"
   },
   {
    "duration": 18,
    "start_time": "2024-08-09T03:30:49.249Z"
   },
   {
    "duration": 52,
    "start_time": "2024-08-09T03:30:49.271Z"
   },
   {
    "duration": 36,
    "start_time": "2024-08-09T03:30:49.331Z"
   },
   {
    "duration": 91,
    "start_time": "2024-08-09T03:30:49.371Z"
   },
   {
    "duration": 26,
    "start_time": "2024-08-09T03:30:49.468Z"
   },
   {
    "duration": 46,
    "start_time": "2024-08-09T03:30:49.498Z"
   },
   {
    "duration": 87,
    "start_time": "2024-08-09T03:30:49.547Z"
   },
   {
    "duration": 27,
    "start_time": "2024-08-09T03:30:49.636Z"
   },
   {
    "duration": 33,
    "start_time": "2024-08-09T03:30:49.667Z"
   },
   {
    "duration": 27,
    "start_time": "2024-08-09T03:30:49.723Z"
   },
   {
    "duration": 43,
    "start_time": "2024-08-09T03:30:49.753Z"
   },
   {
    "duration": 48,
    "start_time": "2024-08-09T03:30:49.799Z"
   },
   {
    "duration": 24,
    "start_time": "2024-08-09T03:30:49.850Z"
   },
   {
    "duration": 16,
    "start_time": "2024-08-09T03:30:49.876Z"
   },
   {
    "duration": 41,
    "start_time": "2024-08-09T03:30:49.894Z"
   },
   {
    "duration": 878,
    "start_time": "2024-08-09T03:30:49.939Z"
   },
   {
    "duration": 0,
    "start_time": "2024-08-09T03:30:50.829Z"
   },
   {
    "duration": 0,
    "start_time": "2024-08-09T03:30:50.831Z"
   },
   {
    "duration": 0,
    "start_time": "2024-08-09T03:30:50.835Z"
   },
   {
    "duration": 0,
    "start_time": "2024-08-09T03:30:50.837Z"
   },
   {
    "duration": 0,
    "start_time": "2024-08-09T03:30:50.839Z"
   },
   {
    "duration": 1,
    "start_time": "2024-08-09T03:30:50.841Z"
   },
   {
    "duration": 0,
    "start_time": "2024-08-09T03:30:50.844Z"
   },
   {
    "duration": 0,
    "start_time": "2024-08-09T03:30:50.847Z"
   },
   {
    "duration": 0,
    "start_time": "2024-08-09T03:30:50.849Z"
   },
   {
    "duration": 0,
    "start_time": "2024-08-09T03:30:50.851Z"
   },
   {
    "duration": 0,
    "start_time": "2024-08-09T03:30:50.853Z"
   },
   {
    "duration": 0,
    "start_time": "2024-08-09T03:30:50.856Z"
   },
   {
    "duration": 0,
    "start_time": "2024-08-09T03:30:50.858Z"
   },
   {
    "duration": 0,
    "start_time": "2024-08-09T03:30:50.860Z"
   },
   {
    "duration": 23,
    "start_time": "2024-08-09T03:31:28.177Z"
   },
   {
    "duration": 26,
    "start_time": "2024-08-09T03:33:50.554Z"
   },
   {
    "duration": 168,
    "start_time": "2024-08-09T03:35:43.852Z"
   },
   {
    "duration": 10,
    "start_time": "2024-08-09T03:49:34.587Z"
   },
   {
    "duration": 310,
    "start_time": "2024-08-13T18:17:39.861Z"
   },
   {
    "duration": 4720,
    "start_time": "2024-08-13T18:17:48.592Z"
   },
   {
    "duration": 357,
    "start_time": "2024-08-13T18:17:53.315Z"
   },
   {
    "duration": 55,
    "start_time": "2024-08-13T18:17:53.675Z"
   },
   {
    "duration": 13,
    "start_time": "2024-08-13T18:17:53.733Z"
   },
   {
    "duration": 3,
    "start_time": "2024-08-13T18:17:53.750Z"
   },
   {
    "duration": 16,
    "start_time": "2024-08-13T18:17:53.756Z"
   },
   {
    "duration": 69,
    "start_time": "2024-08-13T18:17:53.776Z"
   },
   {
    "duration": 14,
    "start_time": "2024-08-13T18:17:53.848Z"
   },
   {
    "duration": 19,
    "start_time": "2024-08-13T18:17:53.865Z"
   },
   {
    "duration": 28,
    "start_time": "2024-08-13T18:17:53.922Z"
   },
   {
    "duration": 72,
    "start_time": "2024-08-13T18:17:53.953Z"
   },
   {
    "duration": 23,
    "start_time": "2024-08-13T18:17:54.028Z"
   },
   {
    "duration": 31,
    "start_time": "2024-08-13T18:17:54.054Z"
   },
   {
    "duration": 38,
    "start_time": "2024-08-13T18:17:54.087Z"
   },
   {
    "duration": 0,
    "start_time": "2024-08-13T18:17:54.128Z"
   },
   {
    "duration": 0,
    "start_time": "2024-08-13T18:17:54.132Z"
   },
   {
    "duration": 0,
    "start_time": "2024-08-13T18:17:54.134Z"
   },
   {
    "duration": 0,
    "start_time": "2024-08-13T18:17:54.136Z"
   },
   {
    "duration": 0,
    "start_time": "2024-08-13T18:17:54.139Z"
   },
   {
    "duration": 0,
    "start_time": "2024-08-13T18:17:54.142Z"
   },
   {
    "duration": 0,
    "start_time": "2024-08-13T18:17:54.143Z"
   },
   {
    "duration": 0,
    "start_time": "2024-08-13T18:17:54.145Z"
   },
   {
    "duration": 0,
    "start_time": "2024-08-13T18:17:54.148Z"
   },
   {
    "duration": 0,
    "start_time": "2024-08-13T18:17:54.150Z"
   },
   {
    "duration": 0,
    "start_time": "2024-08-13T18:17:54.153Z"
   },
   {
    "duration": 0,
    "start_time": "2024-08-13T18:17:54.155Z"
   },
   {
    "duration": 0,
    "start_time": "2024-08-13T18:17:54.157Z"
   },
   {
    "duration": 0,
    "start_time": "2024-08-13T18:17:54.161Z"
   },
   {
    "duration": 0,
    "start_time": "2024-08-13T18:17:54.163Z"
   },
   {
    "duration": 0,
    "start_time": "2024-08-13T18:17:54.223Z"
   },
   {
    "duration": 0,
    "start_time": "2024-08-13T18:17:54.226Z"
   },
   {
    "duration": 0,
    "start_time": "2024-08-13T18:17:54.228Z"
   },
   {
    "duration": 0,
    "start_time": "2024-08-13T18:17:54.230Z"
   },
   {
    "duration": 0,
    "start_time": "2024-08-13T18:17:54.233Z"
   },
   {
    "duration": 0,
    "start_time": "2024-08-13T18:17:54.236Z"
   },
   {
    "duration": 0,
    "start_time": "2024-08-13T18:17:54.239Z"
   },
   {
    "duration": 0,
    "start_time": "2024-08-13T18:17:54.242Z"
   },
   {
    "duration": 20,
    "start_time": "2024-08-13T18:19:40.895Z"
   },
   {
    "duration": 4,
    "start_time": "2024-08-13T18:19:53.210Z"
   },
   {
    "duration": 285,
    "start_time": "2024-08-13T18:19:53.218Z"
   },
   {
    "duration": 47,
    "start_time": "2024-08-13T18:19:53.506Z"
   },
   {
    "duration": 12,
    "start_time": "2024-08-13T18:19:53.556Z"
   },
   {
    "duration": 3,
    "start_time": "2024-08-13T18:19:53.574Z"
   },
   {
    "duration": 46,
    "start_time": "2024-08-13T18:19:53.581Z"
   },
   {
    "duration": 28,
    "start_time": "2024-08-13T18:19:53.631Z"
   },
   {
    "duration": 14,
    "start_time": "2024-08-13T18:19:53.662Z"
   },
   {
    "duration": 53,
    "start_time": "2024-08-13T18:19:53.680Z"
   },
   {
    "duration": 31,
    "start_time": "2024-08-13T18:19:53.736Z"
   },
   {
    "duration": 81,
    "start_time": "2024-08-13T18:19:53.769Z"
   },
   {
    "duration": 26,
    "start_time": "2024-08-13T18:19:53.854Z"
   },
   {
    "duration": 52,
    "start_time": "2024-08-13T18:19:53.886Z"
   },
   {
    "duration": 7,
    "start_time": "2024-08-13T18:19:53.941Z"
   },
   {
    "duration": 0,
    "start_time": "2024-08-13T18:19:53.951Z"
   },
   {
    "duration": 0,
    "start_time": "2024-08-13T18:19:53.954Z"
   },
   {
    "duration": 0,
    "start_time": "2024-08-13T18:19:53.957Z"
   },
   {
    "duration": 0,
    "start_time": "2024-08-13T18:19:53.959Z"
   },
   {
    "duration": 0,
    "start_time": "2024-08-13T18:19:53.961Z"
   },
   {
    "duration": 0,
    "start_time": "2024-08-13T18:19:53.963Z"
   },
   {
    "duration": 0,
    "start_time": "2024-08-13T18:19:53.966Z"
   },
   {
    "duration": 0,
    "start_time": "2024-08-13T18:19:53.968Z"
   },
   {
    "duration": 67,
    "start_time": "2024-08-13T18:20:22.809Z"
   },
   {
    "duration": 4,
    "start_time": "2024-08-13T18:20:32.604Z"
   },
   {
    "duration": 266,
    "start_time": "2024-08-13T18:20:32.614Z"
   },
   {
    "duration": 54,
    "start_time": "2024-08-13T18:20:32.883Z"
   },
   {
    "duration": 12,
    "start_time": "2024-08-13T18:20:32.941Z"
   },
   {
    "duration": 4,
    "start_time": "2024-08-13T18:20:32.956Z"
   },
   {
    "duration": 16,
    "start_time": "2024-08-13T18:20:32.963Z"
   },
   {
    "duration": 64,
    "start_time": "2024-08-13T18:20:32.982Z"
   },
   {
    "duration": 13,
    "start_time": "2024-08-13T18:20:33.049Z"
   },
   {
    "duration": 18,
    "start_time": "2024-08-13T18:20:33.065Z"
   },
   {
    "duration": 60,
    "start_time": "2024-08-13T18:20:33.088Z"
   },
   {
    "duration": 74,
    "start_time": "2024-08-13T18:20:33.151Z"
   },
   {
    "duration": 22,
    "start_time": "2024-08-13T18:20:33.228Z"
   },
   {
    "duration": 31,
    "start_time": "2024-08-13T18:20:33.253Z"
   },
   {
    "duration": 96,
    "start_time": "2024-08-13T18:20:33.287Z"
   },
   {
    "duration": 42,
    "start_time": "2024-08-13T18:20:33.386Z"
   },
   {
    "duration": 19,
    "start_time": "2024-08-13T18:20:33.431Z"
   },
   {
    "duration": 18,
    "start_time": "2024-08-13T18:20:33.453Z"
   },
   {
    "duration": 74,
    "start_time": "2024-08-13T18:20:33.474Z"
   },
   {
    "duration": 22,
    "start_time": "2024-08-13T18:20:33.551Z"
   },
   {
    "duration": 50,
    "start_time": "2024-08-13T18:20:33.575Z"
   },
   {
    "duration": 15,
    "start_time": "2024-08-13T18:20:33.631Z"
   },
   {
    "duration": 18,
    "start_time": "2024-08-13T18:20:33.649Z"
   },
   {
    "duration": 403,
    "start_time": "2024-08-13T18:20:38.986Z"
   },
   {
    "duration": 763,
    "start_time": "2024-08-13T18:20:49.020Z"
   },
   {
    "duration": 94,
    "start_time": "2024-08-13T18:21:12.057Z"
   },
   {
    "duration": 308,
    "start_time": "2024-08-13T18:21:47.661Z"
   },
   {
    "duration": 1164,
    "start_time": "2024-08-13T18:21:56.713Z"
   },
   {
    "duration": 349,
    "start_time": "2024-08-13T18:21:57.882Z"
   },
   {
    "duration": 53,
    "start_time": "2024-08-13T18:21:58.234Z"
   },
   {
    "duration": 34,
    "start_time": "2024-08-13T18:21:58.290Z"
   },
   {
    "duration": 4,
    "start_time": "2024-08-13T18:21:58.328Z"
   },
   {
    "duration": 16,
    "start_time": "2024-08-13T18:21:58.335Z"
   },
   {
    "duration": 68,
    "start_time": "2024-08-13T18:21:58.354Z"
   },
   {
    "duration": 14,
    "start_time": "2024-08-13T18:21:58.425Z"
   },
   {
    "duration": 20,
    "start_time": "2024-08-13T18:21:58.442Z"
   },
   {
    "duration": 62,
    "start_time": "2024-08-13T18:21:58.465Z"
   },
   {
    "duration": 50,
    "start_time": "2024-08-13T18:21:58.530Z"
   },
   {
    "duration": 51,
    "start_time": "2024-08-13T18:21:58.583Z"
   },
   {
    "duration": 31,
    "start_time": "2024-08-13T18:21:58.637Z"
   },
   {
    "duration": 97,
    "start_time": "2024-08-13T18:21:58.674Z"
   },
   {
    "duration": 21,
    "start_time": "2024-08-13T18:21:58.774Z"
   },
   {
    "duration": 41,
    "start_time": "2024-08-13T18:21:58.797Z"
   },
   {
    "duration": 19,
    "start_time": "2024-08-13T18:21:58.841Z"
   },
   {
    "duration": 70,
    "start_time": "2024-08-13T18:21:58.862Z"
   },
   {
    "duration": 22,
    "start_time": "2024-08-13T18:21:58.935Z"
   },
   {
    "duration": 22,
    "start_time": "2024-08-13T18:21:58.960Z"
   },
   {
    "duration": 49,
    "start_time": "2024-08-13T18:21:58.984Z"
   },
   {
    "duration": 13,
    "start_time": "2024-08-13T18:21:59.036Z"
   },
   {
    "duration": 72,
    "start_time": "2024-08-13T18:21:59.052Z"
   },
   {
    "duration": 36,
    "start_time": "2024-08-13T18:24:27.979Z"
   },
   {
    "duration": 44,
    "start_time": "2024-08-13T18:26:27.708Z"
   },
   {
    "duration": 1117,
    "start_time": "2024-08-13T18:33:28.366Z"
   },
   {
    "duration": 287,
    "start_time": "2024-08-13T18:33:29.488Z"
   },
   {
    "duration": 59,
    "start_time": "2024-08-13T18:33:29.778Z"
   },
   {
    "duration": 12,
    "start_time": "2024-08-13T18:33:29.840Z"
   },
   {
    "duration": 3,
    "start_time": "2024-08-13T18:33:29.857Z"
   },
   {
    "duration": 16,
    "start_time": "2024-08-13T18:33:29.864Z"
   },
   {
    "duration": 69,
    "start_time": "2024-08-13T18:33:29.883Z"
   },
   {
    "duration": 14,
    "start_time": "2024-08-13T18:33:29.955Z"
   },
   {
    "duration": 51,
    "start_time": "2024-08-13T18:33:29.972Z"
   },
   {
    "duration": 31,
    "start_time": "2024-08-13T18:33:30.026Z"
   },
   {
    "duration": 78,
    "start_time": "2024-08-13T18:33:30.061Z"
   },
   {
    "duration": 36,
    "start_time": "2024-08-13T18:33:30.141Z"
   },
   {
    "duration": 57,
    "start_time": "2024-08-13T18:33:30.180Z"
   },
   {
    "duration": 95,
    "start_time": "2024-08-13T18:33:30.245Z"
   },
   {
    "duration": 22,
    "start_time": "2024-08-13T18:33:30.343Z"
   },
   {
    "duration": 54,
    "start_time": "2024-08-13T18:33:30.368Z"
   },
   {
    "duration": 21,
    "start_time": "2024-08-13T18:33:30.425Z"
   },
   {
    "duration": 50,
    "start_time": "2024-08-13T18:33:30.449Z"
   },
   {
    "duration": 25,
    "start_time": "2024-08-13T18:33:30.522Z"
   },
   {
    "duration": 23,
    "start_time": "2024-08-13T18:33:30.549Z"
   },
   {
    "duration": 50,
    "start_time": "2024-08-13T18:33:30.574Z"
   },
   {
    "duration": 13,
    "start_time": "2024-08-13T18:33:30.630Z"
   },
   {
    "duration": 41,
    "start_time": "2024-08-13T18:33:30.646Z"
   },
   {
    "duration": 3,
    "start_time": "2024-08-13T18:33:30.690Z"
   },
   {
    "duration": 3,
    "start_time": "2024-08-13T18:33:30.724Z"
   },
   {
    "duration": 6,
    "start_time": "2024-08-13T18:33:30.730Z"
   },
   {
    "duration": 3,
    "start_time": "2024-08-13T18:33:30.739Z"
   },
   {
    "duration": 4,
    "start_time": "2024-08-13T18:33:30.745Z"
   },
   {
    "duration": 4,
    "start_time": "2024-08-13T18:33:30.752Z"
   },
   {
    "duration": 3,
    "start_time": "2024-08-13T18:33:30.760Z"
   },
   {
    "duration": 57,
    "start_time": "2024-08-13T18:33:30.766Z"
   },
   {
    "duration": 4,
    "start_time": "2024-08-13T18:33:30.825Z"
   },
   {
    "duration": 3,
    "start_time": "2024-08-13T18:33:30.832Z"
   },
   {
    "duration": 4,
    "start_time": "2024-08-13T18:33:30.838Z"
   },
   {
    "duration": 4,
    "start_time": "2024-08-13T18:33:30.845Z"
   },
   {
    "duration": 2,
    "start_time": "2024-08-13T18:33:30.853Z"
   },
   {
    "duration": 3,
    "start_time": "2024-08-13T18:33:30.859Z"
   },
   {
    "duration": 393,
    "start_time": "2024-08-13T18:52:14.938Z"
   },
   {
    "duration": 23,
    "start_time": "2024-08-13T18:52:28.207Z"
   },
   {
    "duration": 729,
    "start_time": "2024-08-13T18:52:45.295Z"
   },
   {
    "duration": 332,
    "start_time": "2024-08-13T18:53:13.784Z"
   },
   {
    "duration": 20,
    "start_time": "2024-08-13T18:53:45.916Z"
   },
   {
    "duration": 654,
    "start_time": "2024-08-13T18:54:50.274Z"
   },
   {
    "duration": 28,
    "start_time": "2024-08-13T18:55:06.148Z"
   },
   {
    "duration": 23,
    "start_time": "2024-08-13T18:57:23.874Z"
   },
   {
    "duration": 555,
    "start_time": "2024-08-13T20:54:28.209Z"
   },
   {
    "duration": 42,
    "start_time": "2024-08-13T20:54:55.189Z"
   },
   {
    "duration": 37,
    "start_time": "2024-08-13T21:01:04.792Z"
   },
   {
    "duration": 37,
    "start_time": "2024-08-13T21:01:13.278Z"
   },
   {
    "duration": 38,
    "start_time": "2024-08-13T21:02:41.007Z"
   },
   {
    "duration": 28,
    "start_time": "2024-08-13T21:03:41.588Z"
   },
   {
    "duration": 25,
    "start_time": "2024-08-13T21:06:00.285Z"
   },
   {
    "duration": 29,
    "start_time": "2024-08-13T21:06:12.684Z"
   },
   {
    "duration": 33,
    "start_time": "2024-08-13T21:14:09.461Z"
   },
   {
    "duration": 4997,
    "start_time": "2024-08-14T18:02:48.971Z"
   },
   {
    "duration": 315,
    "start_time": "2024-08-14T18:09:12.444Z"
   },
   {
    "duration": 1345,
    "start_time": "2024-08-14T18:09:24.235Z"
   },
   {
    "duration": 346,
    "start_time": "2024-08-14T18:09:25.592Z"
   },
   {
    "duration": 62,
    "start_time": "2024-08-14T18:09:25.942Z"
   },
   {
    "duration": 13,
    "start_time": "2024-08-14T18:09:26.009Z"
   },
   {
    "duration": 4,
    "start_time": "2024-08-14T18:09:26.027Z"
   },
   {
    "duration": 56,
    "start_time": "2024-08-14T18:09:26.034Z"
   },
   {
    "duration": 29,
    "start_time": "2024-08-14T18:09:26.094Z"
   },
   {
    "duration": 15,
    "start_time": "2024-08-14T18:09:26.126Z"
   },
   {
    "duration": 54,
    "start_time": "2024-08-14T18:09:26.144Z"
   },
   {
    "duration": 32,
    "start_time": "2024-08-14T18:09:26.201Z"
   },
   {
    "duration": 95,
    "start_time": "2024-08-14T18:09:26.236Z"
   },
   {
    "duration": 65,
    "start_time": "2024-08-14T18:09:26.334Z"
   },
   {
    "duration": 30,
    "start_time": "2024-08-14T18:09:26.403Z"
   },
   {
    "duration": 99,
    "start_time": "2024-08-14T18:09:26.440Z"
   },
   {
    "duration": 20,
    "start_time": "2024-08-14T18:09:26.543Z"
   },
   {
    "duration": 40,
    "start_time": "2024-08-14T18:09:26.566Z"
   },
   {
    "duration": 20,
    "start_time": "2024-08-14T18:09:26.610Z"
   },
   {
    "duration": 85,
    "start_time": "2024-08-14T18:09:26.633Z"
   },
   {
    "duration": 33,
    "start_time": "2024-08-14T18:09:26.722Z"
   },
   {
    "duration": 42,
    "start_time": "2024-08-14T18:09:26.758Z"
   },
   {
    "duration": 18,
    "start_time": "2024-08-14T18:09:26.804Z"
   },
   {
    "duration": 14,
    "start_time": "2024-08-14T18:09:26.827Z"
   },
   {
    "duration": 93,
    "start_time": "2024-08-14T18:09:26.845Z"
   },
   {
    "duration": 1179,
    "start_time": "2024-08-14T18:09:26.941Z"
   },
   {
    "duration": 0,
    "start_time": "2024-08-14T18:09:28.125Z"
   },
   {
    "duration": 0,
    "start_time": "2024-08-14T18:09:28.129Z"
   },
   {
    "duration": 0,
    "start_time": "2024-08-14T18:09:28.133Z"
   },
   {
    "duration": 0,
    "start_time": "2024-08-14T18:09:28.137Z"
   },
   {
    "duration": 0,
    "start_time": "2024-08-14T18:09:28.140Z"
   },
   {
    "duration": 0,
    "start_time": "2024-08-14T18:09:28.143Z"
   },
   {
    "duration": 0,
    "start_time": "2024-08-14T18:09:28.153Z"
   },
   {
    "duration": 0,
    "start_time": "2024-08-14T18:09:28.156Z"
   },
   {
    "duration": 0,
    "start_time": "2024-08-14T18:09:28.158Z"
   },
   {
    "duration": 0,
    "start_time": "2024-08-14T18:09:28.160Z"
   },
   {
    "duration": 0,
    "start_time": "2024-08-14T18:09:28.191Z"
   },
   {
    "duration": 0,
    "start_time": "2024-08-14T18:09:28.193Z"
   },
   {
    "duration": 0,
    "start_time": "2024-08-14T18:09:28.196Z"
   },
   {
    "duration": 29,
    "start_time": "2024-08-14T18:09:57.987Z"
   },
   {
    "duration": 30,
    "start_time": "2024-08-14T18:10:01.889Z"
   },
   {
    "duration": 38,
    "start_time": "2024-08-14T18:10:04.821Z"
   },
   {
    "duration": 39,
    "start_time": "2024-08-14T18:42:25.418Z"
   },
   {
    "duration": 26,
    "start_time": "2024-08-14T18:52:26.177Z"
   },
   {
    "duration": 25,
    "start_time": "2024-08-14T18:53:49.203Z"
   },
   {
    "duration": 3,
    "start_time": "2024-08-14T18:58:31.586Z"
   },
   {
    "duration": 315,
    "start_time": "2024-08-14T18:58:31.594Z"
   },
   {
    "duration": 51,
    "start_time": "2024-08-14T18:58:31.912Z"
   },
   {
    "duration": 31,
    "start_time": "2024-08-14T18:58:31.965Z"
   },
   {
    "duration": 3,
    "start_time": "2024-08-14T18:58:32.001Z"
   },
   {
    "duration": 16,
    "start_time": "2024-08-14T18:58:32.008Z"
   },
   {
    "duration": 73,
    "start_time": "2024-08-14T18:58:32.027Z"
   },
   {
    "duration": 15,
    "start_time": "2024-08-14T18:58:32.103Z"
   },
   {
    "duration": 21,
    "start_time": "2024-08-14T18:58:32.122Z"
   },
   {
    "duration": 73,
    "start_time": "2024-08-14T18:58:32.146Z"
   },
   {
    "duration": 86,
    "start_time": "2024-08-14T18:58:32.222Z"
   },
   {
    "duration": 41,
    "start_time": "2024-08-14T18:58:32.311Z"
   },
   {
    "duration": 63,
    "start_time": "2024-08-14T18:58:32.357Z"
   },
   {
    "duration": 88,
    "start_time": "2024-08-14T18:58:32.426Z"
   },
   {
    "duration": 25,
    "start_time": "2024-08-14T18:58:32.516Z"
   },
   {
    "duration": 60,
    "start_time": "2024-08-14T18:58:32.544Z"
   },
   {
    "duration": 19,
    "start_time": "2024-08-14T18:58:32.608Z"
   },
   {
    "duration": 68,
    "start_time": "2024-08-14T18:58:32.630Z"
   },
   {
    "duration": 25,
    "start_time": "2024-08-14T18:58:32.703Z"
   },
   {
    "duration": 59,
    "start_time": "2024-08-14T18:58:32.731Z"
   },
   {
    "duration": 22,
    "start_time": "2024-08-14T18:58:32.794Z"
   },
   {
    "duration": 15,
    "start_time": "2024-08-14T18:58:32.820Z"
   },
   {
    "duration": 69,
    "start_time": "2024-08-14T18:58:32.838Z"
   },
   {
    "duration": 25,
    "start_time": "2024-08-14T18:58:32.911Z"
   },
   {
    "duration": 57,
    "start_time": "2024-08-14T18:58:32.940Z"
   },
   {
    "duration": 32,
    "start_time": "2024-08-14T18:58:33.000Z"
   },
   {
    "duration": 37,
    "start_time": "2024-08-14T18:59:14.200Z"
   },
   {
    "duration": 12,
    "start_time": "2024-08-14T19:23:17.456Z"
   },
   {
    "duration": 35,
    "start_time": "2024-08-14T19:23:35.004Z"
   },
   {
    "duration": 7,
    "start_time": "2024-08-14T19:23:50.867Z"
   },
   {
    "duration": 39,
    "start_time": "2024-08-14T19:24:02.558Z"
   },
   {
    "duration": 42,
    "start_time": "2024-08-14T19:45:36.559Z"
   },
   {
    "duration": 564,
    "start_time": "2024-08-14T19:50:55.789Z"
   },
   {
    "duration": 30,
    "start_time": "2024-08-14T19:51:22.325Z"
   },
   {
    "duration": 82,
    "start_time": "2024-08-14T21:34:14.870Z"
   },
   {
    "duration": 30,
    "start_time": "2024-08-14T21:47:37.054Z"
   },
   {
    "duration": 1161,
    "start_time": "2024-08-14T21:51:10.249Z"
   },
   {
    "duration": 275,
    "start_time": "2024-08-14T21:51:11.415Z"
   },
   {
    "duration": 51,
    "start_time": "2024-08-14T21:51:11.692Z"
   },
   {
    "duration": 14,
    "start_time": "2024-08-14T21:51:11.749Z"
   },
   {
    "duration": 4,
    "start_time": "2024-08-14T21:51:11.791Z"
   },
   {
    "duration": 16,
    "start_time": "2024-08-14T21:51:11.799Z"
   },
   {
    "duration": 29,
    "start_time": "2024-08-14T21:51:11.818Z"
   },
   {
    "duration": 50,
    "start_time": "2024-08-14T21:51:11.851Z"
   },
   {
    "duration": 19,
    "start_time": "2024-08-14T21:51:11.904Z"
   },
   {
    "duration": 64,
    "start_time": "2024-08-14T21:51:11.931Z"
   },
   {
    "duration": 48,
    "start_time": "2024-08-14T21:51:11.998Z"
   },
   {
    "duration": 63,
    "start_time": "2024-08-14T21:51:12.048Z"
   },
   {
    "duration": 29,
    "start_time": "2024-08-14T21:51:12.114Z"
   },
   {
    "duration": 99,
    "start_time": "2024-08-14T21:51:12.146Z"
   },
   {
    "duration": 20,
    "start_time": "2024-08-14T21:51:12.250Z"
   },
   {
    "duration": 19,
    "start_time": "2024-08-14T21:51:12.291Z"
   },
   {
    "duration": 18,
    "start_time": "2024-08-14T21:51:12.312Z"
   },
   {
    "duration": 78,
    "start_time": "2024-08-14T21:51:12.333Z"
   },
   {
    "duration": 24,
    "start_time": "2024-08-14T21:51:12.414Z"
   },
   {
    "duration": 49,
    "start_time": "2024-08-14T21:51:12.441Z"
   },
   {
    "duration": 15,
    "start_time": "2024-08-14T21:51:12.494Z"
   },
   {
    "duration": 14,
    "start_time": "2024-08-14T21:51:12.512Z"
   },
   {
    "duration": 69,
    "start_time": "2024-08-14T21:51:12.530Z"
   },
   {
    "duration": 25,
    "start_time": "2024-08-14T21:51:12.602Z"
   },
   {
    "duration": 25,
    "start_time": "2024-08-14T21:51:12.630Z"
   },
   {
    "duration": 59,
    "start_time": "2024-08-14T21:51:12.658Z"
   },
   {
    "duration": 36,
    "start_time": "2024-08-14T21:51:12.720Z"
   },
   {
    "duration": 54,
    "start_time": "2024-08-14T21:51:12.763Z"
   },
   {
    "duration": 4,
    "start_time": "2024-08-14T21:51:12.820Z"
   },
   {
    "duration": 3,
    "start_time": "2024-08-14T21:51:12.827Z"
   },
   {
    "duration": 5,
    "start_time": "2024-08-14T21:51:12.834Z"
   },
   {
    "duration": 4,
    "start_time": "2024-08-14T21:51:12.843Z"
   },
   {
    "duration": 4,
    "start_time": "2024-08-14T21:51:12.891Z"
   },
   {
    "duration": 4,
    "start_time": "2024-08-14T21:51:12.898Z"
   },
   {
    "duration": 3,
    "start_time": "2024-08-14T21:51:12.906Z"
   },
   {
    "duration": 3,
    "start_time": "2024-08-14T21:51:12.914Z"
   },
   {
    "duration": 4,
    "start_time": "2024-08-14T21:51:12.920Z"
   },
   {
    "duration": 391,
    "start_time": "2024-08-14T22:20:08.533Z"
   },
   {
    "duration": 35,
    "start_time": "2024-08-14T22:20:27.347Z"
   },
   {
    "duration": 29,
    "start_time": "2024-08-14T23:37:55.494Z"
   },
   {
    "duration": 66,
    "start_time": "2024-08-14T23:38:27.082Z"
   },
   {
    "duration": 38,
    "start_time": "2024-08-14T23:40:30.821Z"
   },
   {
    "duration": 35,
    "start_time": "2024-08-14T23:42:49.677Z"
   },
   {
    "duration": 36,
    "start_time": "2024-08-14T23:43:25.059Z"
   },
   {
    "duration": 40,
    "start_time": "2024-08-14T23:47:13.063Z"
   },
   {
    "duration": 315,
    "start_time": "2024-08-16T21:26:43.919Z"
   },
   {
    "duration": 5021,
    "start_time": "2024-08-16T21:26:57.902Z"
   },
   {
    "duration": 388,
    "start_time": "2024-08-16T21:27:02.929Z"
   },
   {
    "duration": 50,
    "start_time": "2024-08-16T21:27:03.320Z"
   },
   {
    "duration": 34,
    "start_time": "2024-08-16T21:27:03.373Z"
   },
   {
    "duration": 3,
    "start_time": "2024-08-16T21:27:03.413Z"
   },
   {
    "duration": 17,
    "start_time": "2024-08-16T21:27:03.420Z"
   },
   {
    "duration": 65,
    "start_time": "2024-08-16T21:27:03.440Z"
   },
   {
    "duration": 14,
    "start_time": "2024-08-16T21:27:03.508Z"
   },
   {
    "duration": 20,
    "start_time": "2024-08-16T21:27:03.525Z"
   },
   {
    "duration": 71,
    "start_time": "2024-08-16T21:27:03.548Z"
   },
   {
    "duration": 49,
    "start_time": "2024-08-16T21:27:03.622Z"
   },
   {
    "duration": 61,
    "start_time": "2024-08-16T21:27:03.674Z"
   },
   {
    "duration": 30,
    "start_time": "2024-08-16T21:27:03.738Z"
   },
   {
    "duration": 74,
    "start_time": "2024-08-16T21:27:03.804Z"
   },
   {
    "duration": 37,
    "start_time": "2024-08-16T21:27:03.881Z"
   },
   {
    "duration": 21,
    "start_time": "2024-08-16T21:27:03.921Z"
   },
   {
    "duration": 20,
    "start_time": "2024-08-16T21:27:03.944Z"
   },
   {
    "duration": 45,
    "start_time": "2024-08-16T21:27:04.006Z"
   },
   {
    "duration": 49,
    "start_time": "2024-08-16T21:27:04.054Z"
   },
   {
    "duration": 24,
    "start_time": "2024-08-16T21:27:04.106Z"
   },
   {
    "duration": 16,
    "start_time": "2024-08-16T21:27:04.133Z"
   },
   {
    "duration": 14,
    "start_time": "2024-08-16T21:27:04.152Z"
   },
   {
    "duration": 37,
    "start_time": "2024-08-16T21:27:04.204Z"
   },
   {
    "duration": 24,
    "start_time": "2024-08-16T21:27:04.245Z"
   },
   {
    "duration": 53,
    "start_time": "2024-08-16T21:27:04.271Z"
   },
   {
    "duration": 32,
    "start_time": "2024-08-16T21:27:04.328Z"
   },
   {
    "duration": 67,
    "start_time": "2024-08-16T21:27:04.363Z"
   },
   {
    "duration": 28,
    "start_time": "2024-08-16T21:27:04.433Z"
   },
   {
    "duration": 64,
    "start_time": "2024-08-16T21:27:04.464Z"
   },
   {
    "duration": 3,
    "start_time": "2024-08-16T21:27:04.532Z"
   },
   {
    "duration": 4,
    "start_time": "2024-08-16T21:27:04.539Z"
   },
   {
    "duration": 4,
    "start_time": "2024-08-16T21:27:04.546Z"
   },
   {
    "duration": 3,
    "start_time": "2024-08-16T21:27:04.554Z"
   },
   {
    "duration": 43,
    "start_time": "2024-08-16T21:27:04.560Z"
   },
   {
    "duration": 3,
    "start_time": "2024-08-16T21:27:04.607Z"
   },
   {
    "duration": 3,
    "start_time": "2024-08-16T21:27:04.614Z"
   },
   {
    "duration": 3,
    "start_time": "2024-08-16T21:27:04.620Z"
   },
   {
    "duration": 14,
    "start_time": "2024-08-16T21:32:32.762Z"
   },
   {
    "duration": 76,
    "start_time": "2024-08-16T21:35:36.974Z"
   },
   {
    "duration": 1237,
    "start_time": "2024-08-16T21:46:52.109Z"
   },
   {
    "duration": 295,
    "start_time": "2024-08-16T21:46:53.351Z"
   },
   {
    "duration": 58,
    "start_time": "2024-08-16T21:46:53.649Z"
   },
   {
    "duration": 14,
    "start_time": "2024-08-16T21:46:53.712Z"
   },
   {
    "duration": 3,
    "start_time": "2024-08-16T21:46:53.733Z"
   },
   {
    "duration": 59,
    "start_time": "2024-08-16T21:46:53.741Z"
   },
   {
    "duration": 30,
    "start_time": "2024-08-16T21:46:53.804Z"
   },
   {
    "duration": 14,
    "start_time": "2024-08-16T21:46:53.837Z"
   },
   {
    "duration": 53,
    "start_time": "2024-08-16T21:46:53.854Z"
   },
   {
    "duration": 33,
    "start_time": "2024-08-16T21:46:53.910Z"
   },
   {
    "duration": 87,
    "start_time": "2024-08-16T21:46:53.946Z"
   },
   {
    "duration": 67,
    "start_time": "2024-08-16T21:46:54.036Z"
   },
   {
    "duration": 31,
    "start_time": "2024-08-16T21:46:54.106Z"
   },
   {
    "duration": 95,
    "start_time": "2024-08-16T21:46:54.143Z"
   },
   {
    "duration": 21,
    "start_time": "2024-08-16T21:46:54.241Z"
   },
   {
    "duration": 48,
    "start_time": "2024-08-16T21:46:54.265Z"
   },
   {
    "duration": 17,
    "start_time": "2024-08-16T21:46:54.317Z"
   },
   {
    "duration": 67,
    "start_time": "2024-08-16T21:46:54.337Z"
   },
   {
    "duration": 25,
    "start_time": "2024-08-16T21:46:54.408Z"
   },
   {
    "duration": 24,
    "start_time": "2024-08-16T21:46:54.436Z"
   },
   {
    "duration": 52,
    "start_time": "2024-08-16T21:46:54.463Z"
   },
   {
    "duration": 13,
    "start_time": "2024-08-16T21:46:54.518Z"
   },
   {
    "duration": 69,
    "start_time": "2024-08-16T21:46:54.535Z"
   },
   {
    "duration": 26,
    "start_time": "2024-08-16T21:46:54.607Z"
   },
   {
    "duration": 26,
    "start_time": "2024-08-16T21:46:54.636Z"
   },
   {
    "duration": 60,
    "start_time": "2024-08-16T21:46:54.665Z"
   },
   {
    "duration": 40,
    "start_time": "2024-08-16T21:46:54.728Z"
   },
   {
    "duration": 59,
    "start_time": "2024-08-16T21:46:54.771Z"
   },
   {
    "duration": 91,
    "start_time": "2024-08-16T21:46:54.834Z"
   },
   {
    "duration": 4,
    "start_time": "2024-08-16T21:46:54.928Z"
   },
   {
    "duration": 4,
    "start_time": "2024-08-16T21:46:54.935Z"
   },
   {
    "duration": 5,
    "start_time": "2024-08-16T21:46:54.942Z"
   },
   {
    "duration": 3,
    "start_time": "2024-08-16T21:46:54.953Z"
   },
   {
    "duration": 45,
    "start_time": "2024-08-16T21:46:54.959Z"
   },
   {
    "duration": 4,
    "start_time": "2024-08-16T21:46:55.007Z"
   },
   {
    "duration": 4,
    "start_time": "2024-08-16T21:46:55.015Z"
   },
   {
    "duration": 4,
    "start_time": "2024-08-16T21:46:55.021Z"
   },
   {
    "duration": 39,
    "start_time": "2024-08-16T21:48:41.871Z"
   },
   {
    "duration": 45,
    "start_time": "2024-08-16T22:01:21.007Z"
   },
   {
    "duration": 48,
    "start_time": "2024-08-16T22:46:34.692Z"
   },
   {
    "duration": 60,
    "start_time": "2024-08-16T22:53:32.536Z"
   },
   {
    "duration": 303,
    "start_time": "2024-08-19T01:25:44.999Z"
   },
   {
    "duration": 4725,
    "start_time": "2024-08-19T01:25:48.953Z"
   },
   {
    "duration": 336,
    "start_time": "2024-08-19T01:25:53.682Z"
   },
   {
    "duration": 52,
    "start_time": "2024-08-19T01:25:54.021Z"
   },
   {
    "duration": 12,
    "start_time": "2024-08-19T01:25:54.077Z"
   },
   {
    "duration": 3,
    "start_time": "2024-08-19T01:25:54.093Z"
   },
   {
    "duration": 44,
    "start_time": "2024-08-19T01:25:54.099Z"
   },
   {
    "duration": 28,
    "start_time": "2024-08-19T01:25:54.148Z"
   },
   {
    "duration": 14,
    "start_time": "2024-08-19T01:25:54.180Z"
   },
   {
    "duration": 18,
    "start_time": "2024-08-19T01:25:54.233Z"
   },
   {
    "duration": 29,
    "start_time": "2024-08-19T01:25:54.257Z"
   },
   {
    "duration": 79,
    "start_time": "2024-08-19T01:25:54.289Z"
   },
   {
    "duration": 35,
    "start_time": "2024-08-19T01:25:54.371Z"
   },
   {
    "duration": 31,
    "start_time": "2024-08-19T01:25:54.434Z"
   },
   {
    "duration": 93,
    "start_time": "2024-08-19T01:25:54.467Z"
   },
   {
    "duration": 20,
    "start_time": "2024-08-19T01:25:54.562Z"
   },
   {
    "duration": 53,
    "start_time": "2024-08-19T01:25:54.585Z"
   },
   {
    "duration": 18,
    "start_time": "2024-08-19T01:25:54.640Z"
   },
   {
    "duration": 41,
    "start_time": "2024-08-19T01:25:54.660Z"
   },
   {
    "duration": 22,
    "start_time": "2024-08-19T01:25:54.732Z"
   },
   {
    "duration": 22,
    "start_time": "2024-08-19T01:25:54.758Z"
   },
   {
    "duration": 50,
    "start_time": "2024-08-19T01:25:54.783Z"
   },
   {
    "duration": 13,
    "start_time": "2024-08-19T01:25:54.835Z"
   },
   {
    "duration": 34,
    "start_time": "2024-08-19T01:25:54.852Z"
   },
   {
    "duration": 60,
    "start_time": "2024-08-19T01:25:54.889Z"
   },
   {
    "duration": 25,
    "start_time": "2024-08-19T01:25:54.951Z"
   },
   {
    "duration": 31,
    "start_time": "2024-08-19T01:25:54.978Z"
   },
   {
    "duration": 40,
    "start_time": "2024-08-19T01:25:55.033Z"
   },
   {
    "duration": 25,
    "start_time": "2024-08-19T01:25:55.079Z"
   },
   {
    "duration": 56,
    "start_time": "2024-08-19T01:25:55.107Z"
   },
   {
    "duration": 83,
    "start_time": "2024-08-19T01:25:55.165Z"
   },
   {
    "duration": 61,
    "start_time": "2024-08-19T01:26:13.921Z"
   },
   {
    "duration": 110,
    "start_time": "2024-08-19T01:26:33.199Z"
   },
   {
    "duration": 25,
    "start_time": "2024-08-19T01:26:42.233Z"
   },
   {
    "duration": 97,
    "start_time": "2024-08-19T01:26:48.285Z"
   },
   {
    "duration": 67,
    "start_time": "2024-08-19T02:11:44.212Z"
   },
   {
    "duration": 20,
    "start_time": "2024-08-19T02:12:38.183Z"
   },
   {
    "duration": 417,
    "start_time": "2024-08-19T02:13:20.586Z"
   },
   {
    "duration": 38,
    "start_time": "2024-08-19T02:13:32.010Z"
   },
   {
    "duration": 332,
    "start_time": "2024-08-19T02:13:38.435Z"
   },
   {
    "duration": 922,
    "start_time": "2024-08-19T02:15:17.184Z"
   },
   {
    "duration": 347,
    "start_time": "2024-08-19T02:18:52.493Z"
   },
   {
    "duration": 388,
    "start_time": "2024-08-19T02:22:34.445Z"
   },
   {
    "duration": 379,
    "start_time": "2024-08-19T02:23:26.229Z"
   },
   {
    "duration": 412,
    "start_time": "2024-08-19T02:23:36.966Z"
   },
   {
    "duration": 12,
    "start_time": "2024-08-19T02:27:41.017Z"
   },
   {
    "duration": 535,
    "start_time": "2024-08-19T02:27:51.355Z"
   },
   {
    "duration": 219,
    "start_time": "2024-08-19T02:36:39.661Z"
   },
   {
    "duration": 457,
    "start_time": "2024-08-19T02:37:30.826Z"
   },
   {
    "duration": 516,
    "start_time": "2024-08-19T02:38:15.704Z"
   },
   {
    "duration": 8,
    "start_time": "2024-08-19T02:39:03.755Z"
   },
   {
    "duration": 7,
    "start_time": "2024-08-19T02:39:11.219Z"
   },
   {
    "duration": 427,
    "start_time": "2024-08-19T02:40:02.296Z"
   },
   {
    "duration": 384,
    "start_time": "2024-08-19T02:43:25.491Z"
   },
   {
    "duration": 11,
    "start_time": "2024-08-19T02:54:48.294Z"
   },
   {
    "duration": 23,
    "start_time": "2024-08-19T03:08:48.502Z"
   },
   {
    "duration": 315,
    "start_time": "2024-08-19T03:27:59.094Z"
   },
   {
    "duration": 115,
    "start_time": "2024-08-19T03:29:44.529Z"
   },
   {
    "duration": 329,
    "start_time": "2024-08-19T03:30:06.720Z"
   },
   {
    "duration": 1268,
    "start_time": "2024-08-19T03:43:00.330Z"
   },
   {
    "duration": 276,
    "start_time": "2024-08-19T03:43:01.601Z"
   },
   {
    "duration": 55,
    "start_time": "2024-08-19T03:43:01.881Z"
   },
   {
    "duration": 14,
    "start_time": "2024-08-19T03:43:01.941Z"
   },
   {
    "duration": 3,
    "start_time": "2024-08-19T03:43:01.958Z"
   },
   {
    "duration": 16,
    "start_time": "2024-08-19T03:43:01.965Z"
   },
   {
    "duration": 71,
    "start_time": "2024-08-19T03:43:01.984Z"
   },
   {
    "duration": 15,
    "start_time": "2024-08-19T03:43:02.058Z"
   },
   {
    "duration": 18,
    "start_time": "2024-08-19T03:43:02.076Z"
   },
   {
    "duration": 61,
    "start_time": "2024-08-19T03:43:02.099Z"
   },
   {
    "duration": 75,
    "start_time": "2024-08-19T03:43:02.163Z"
   },
   {
    "duration": 39,
    "start_time": "2024-08-19T03:43:02.241Z"
   },
   {
    "duration": 59,
    "start_time": "2024-08-19T03:43:02.282Z"
   },
   {
    "duration": 90,
    "start_time": "2024-08-19T03:43:02.344Z"
   },
   {
    "duration": 21,
    "start_time": "2024-08-19T03:43:02.437Z"
   },
   {
    "duration": 19,
    "start_time": "2024-08-19T03:43:02.461Z"
   },
   {
    "duration": 50,
    "start_time": "2024-08-19T03:43:02.483Z"
   },
   {
    "duration": 41,
    "start_time": "2024-08-19T03:43:02.535Z"
   },
   {
    "duration": 23,
    "start_time": "2024-08-19T03:43:02.579Z"
   },
   {
    "duration": 22,
    "start_time": "2024-08-19T03:43:02.634Z"
   },
   {
    "duration": 15,
    "start_time": "2024-08-19T03:43:02.659Z"
   },
   {
    "duration": 16,
    "start_time": "2024-08-19T03:43:02.677Z"
   },
   {
    "duration": 64,
    "start_time": "2024-08-19T03:43:02.695Z"
   },
   {
    "duration": 22,
    "start_time": "2024-08-19T03:43:02.762Z"
   },
   {
    "duration": 61,
    "start_time": "2024-08-19T03:43:02.787Z"
   },
   {
    "duration": 32,
    "start_time": "2024-08-19T03:43:02.852Z"
   },
   {
    "duration": 56,
    "start_time": "2024-08-19T03:43:02.889Z"
   },
   {
    "duration": 25,
    "start_time": "2024-08-19T03:43:02.951Z"
   },
   {
    "duration": 57,
    "start_time": "2024-08-19T03:43:02.978Z"
   },
   {
    "duration": 407,
    "start_time": "2024-08-19T03:43:03.037Z"
   },
   {
    "duration": 404,
    "start_time": "2024-08-19T03:43:03.446Z"
   },
   {
    "duration": 3,
    "start_time": "2024-08-19T03:43:03.853Z"
   },
   {
    "duration": 3,
    "start_time": "2024-08-19T03:43:03.859Z"
   },
   {
    "duration": 3,
    "start_time": "2024-08-19T03:43:03.866Z"
   },
   {
    "duration": 3,
    "start_time": "2024-08-19T03:43:03.872Z"
   },
   {
    "duration": 3,
    "start_time": "2024-08-19T03:43:03.879Z"
   },
   {
    "duration": 49,
    "start_time": "2024-08-19T03:43:03.885Z"
   },
   {
    "duration": 302,
    "start_time": "2024-08-19T03:44:47.398Z"
   },
   {
    "duration": 828,
    "start_time": "2024-08-19T03:48:24.766Z"
   },
   {
    "duration": 105,
    "start_time": "2024-08-19T03:48:41.692Z"
   },
   {
    "duration": 105,
    "start_time": "2024-08-19T03:52:15.240Z"
   },
   {
    "duration": 185,
    "start_time": "2024-08-19T03:52:36.513Z"
   },
   {
    "duration": 149,
    "start_time": "2024-08-19T03:58:09.999Z"
   },
   {
    "duration": 145,
    "start_time": "2024-08-19T04:01:09.770Z"
   },
   {
    "duration": 379,
    "start_time": "2024-08-19T04:01:23.666Z"
   },
   {
    "duration": 51,
    "start_time": "2024-08-19T04:04:55.990Z"
   },
   {
    "duration": 882,
    "start_time": "2024-08-19T04:05:14.944Z"
   },
   {
    "duration": 351,
    "start_time": "2024-08-19T04:05:27.129Z"
   },
   {
    "duration": 334,
    "start_time": "2024-08-19T04:05:55.437Z"
   },
   {
    "duration": 677,
    "start_time": "2024-08-19T04:12:53.973Z"
   },
   {
    "duration": 109,
    "start_time": "2024-08-19T04:14:02.070Z"
   },
   {
    "duration": 929,
    "start_time": "2024-08-19T04:23:36.251Z"
   },
   {
    "duration": 127,
    "start_time": "2024-08-19T04:26:35.320Z"
   },
   {
    "duration": 109,
    "start_time": "2024-08-19T04:28:35.316Z"
   },
   {
    "duration": 812,
    "start_time": "2024-08-19T04:28:51.361Z"
   },
   {
    "duration": 913,
    "start_time": "2024-08-19T04:30:47.902Z"
   },
   {
    "duration": 928,
    "start_time": "2024-08-19T04:36:48.482Z"
   },
   {
    "duration": 904,
    "start_time": "2024-08-19T04:37:22.641Z"
   },
   {
    "duration": 796,
    "start_time": "2024-08-19T04:39:37.069Z"
   },
   {
    "duration": 1589,
    "start_time": "2024-08-19T04:41:47.019Z"
   },
   {
    "duration": 783,
    "start_time": "2024-08-19T04:43:28.853Z"
   },
   {
    "duration": 881,
    "start_time": "2024-08-19T04:45:09.733Z"
   },
   {
    "duration": 340,
    "start_time": "2024-08-21T19:01:36.463Z"
   },
   {
    "duration": 5246,
    "start_time": "2024-08-21T19:01:41.140Z"
   },
   {
    "duration": 397,
    "start_time": "2024-08-21T19:01:46.390Z"
   },
   {
    "duration": 59,
    "start_time": "2024-08-21T19:01:46.790Z"
   },
   {
    "duration": 15,
    "start_time": "2024-08-21T19:01:46.852Z"
   },
   {
    "duration": 4,
    "start_time": "2024-08-21T19:01:46.873Z"
   },
   {
    "duration": 49,
    "start_time": "2024-08-21T19:01:46.880Z"
   },
   {
    "duration": 37,
    "start_time": "2024-08-21T19:01:46.934Z"
   },
   {
    "duration": 40,
    "start_time": "2024-08-21T19:01:46.975Z"
   },
   {
    "duration": 24,
    "start_time": "2024-08-21T19:01:47.018Z"
   },
   {
    "duration": 31,
    "start_time": "2024-08-21T19:01:47.044Z"
   },
   {
    "duration": 54,
    "start_time": "2024-08-21T19:01:47.108Z"
   },
   {
    "duration": 72,
    "start_time": "2024-08-21T19:01:47.165Z"
   },
   {
    "duration": 31,
    "start_time": "2024-08-21T19:01:47.240Z"
   },
   {
    "duration": 96,
    "start_time": "2024-08-21T19:01:47.278Z"
   },
   {
    "duration": 39,
    "start_time": "2024-08-21T19:01:47.379Z"
   },
   {
    "duration": 26,
    "start_time": "2024-08-21T19:01:47.421Z"
   },
   {
    "duration": 23,
    "start_time": "2024-08-21T19:01:47.450Z"
   },
   {
    "duration": 68,
    "start_time": "2024-08-21T19:01:47.483Z"
   },
   {
    "duration": 24,
    "start_time": "2024-08-21T19:01:47.554Z"
   },
   {
    "duration": 51,
    "start_time": "2024-08-21T19:01:47.580Z"
   },
   {
    "duration": 15,
    "start_time": "2024-08-21T19:01:47.634Z"
   },
   {
    "duration": 13,
    "start_time": "2024-08-21T19:01:47.652Z"
   },
   {
    "duration": 65,
    "start_time": "2024-08-21T19:01:47.668Z"
   },
   {
    "duration": 27,
    "start_time": "2024-08-21T19:01:47.737Z"
   },
   {
    "duration": 54,
    "start_time": "2024-08-21T19:01:47.767Z"
   },
   {
    "duration": 32,
    "start_time": "2024-08-21T19:01:47.828Z"
   },
   {
    "duration": 66,
    "start_time": "2024-08-21T19:01:47.864Z"
   },
   {
    "duration": 30,
    "start_time": "2024-08-21T19:01:47.932Z"
   },
   {
    "duration": 56,
    "start_time": "2024-08-21T19:01:47.966Z"
   },
   {
    "duration": 430,
    "start_time": "2024-08-21T19:01:48.024Z"
   },
   {
    "duration": 838,
    "start_time": "2024-08-21T19:01:48.457Z"
   },
   {
    "duration": 15,
    "start_time": "2024-08-21T19:01:49.299Z"
   },
   {
    "duration": 12,
    "start_time": "2024-08-21T19:02:14.682Z"
   },
   {
    "duration": 11,
    "start_time": "2024-08-21T19:03:36.595Z"
   },
   {
    "duration": 13,
    "start_time": "2024-08-21T19:03:51.017Z"
   },
   {
    "duration": 30,
    "start_time": "2024-08-21T19:06:25.121Z"
   },
   {
    "duration": 191,
    "start_time": "2024-08-21T19:10:16.167Z"
   },
   {
    "duration": 6,
    "start_time": "2024-08-21T19:10:31.668Z"
   },
   {
    "duration": 8,
    "start_time": "2024-08-21T19:10:44.126Z"
   },
   {
    "duration": 14,
    "start_time": "2024-08-21T19:11:38.366Z"
   },
   {
    "duration": 26,
    "start_time": "2024-08-21T19:11:49.710Z"
   },
   {
    "duration": 23,
    "start_time": "2024-08-21T19:11:54.855Z"
   },
   {
    "duration": 5,
    "start_time": "2024-08-21T19:13:22.674Z"
   },
   {
    "duration": 7,
    "start_time": "2024-08-21T19:13:35.939Z"
   },
   {
    "duration": 9,
    "start_time": "2024-08-21T19:14:55.921Z"
   },
   {
    "duration": 6,
    "start_time": "2024-08-21T19:15:35.810Z"
   },
   {
    "duration": 9,
    "start_time": "2024-08-21T19:15:44.172Z"
   },
   {
    "duration": 379,
    "start_time": "2024-08-21T19:24:42.254Z"
   },
   {
    "duration": 229,
    "start_time": "2024-08-21T19:25:08.317Z"
   },
   {
    "duration": 222,
    "start_time": "2024-08-21T19:28:44.751Z"
   },
   {
    "duration": 484,
    "start_time": "2024-08-21T19:32:49.860Z"
   },
   {
    "duration": 449,
    "start_time": "2024-08-21T19:34:35.851Z"
   },
   {
    "duration": 1123,
    "start_time": "2024-08-21T19:37:29.253Z"
   },
   {
    "duration": 904,
    "start_time": "2024-08-21T19:37:50.287Z"
   },
   {
    "duration": 47,
    "start_time": "2024-08-21T19:38:04.873Z"
   },
   {
    "duration": 902,
    "start_time": "2024-08-21T19:38:12.695Z"
   },
   {
    "duration": 7,
    "start_time": "2024-08-21T19:39:52.872Z"
   },
   {
    "duration": 433,
    "start_time": "2024-08-21T19:41:19.430Z"
   },
   {
    "duration": 14,
    "start_time": "2024-08-21T19:42:13.763Z"
   },
   {
    "duration": 211,
    "start_time": "2024-08-21T19:44:55.765Z"
   },
   {
    "duration": 27,
    "start_time": "2024-08-21T21:43:17.966Z"
   },
   {
    "duration": 380,
    "start_time": "2024-08-21T21:43:27.019Z"
   },
   {
    "duration": 45,
    "start_time": "2024-08-21T21:43:35.819Z"
   },
   {
    "duration": 365,
    "start_time": "2024-08-21T21:51:02.335Z"
   },
   {
    "duration": 363,
    "start_time": "2024-08-21T21:51:42.946Z"
   },
   {
    "duration": 370,
    "start_time": "2024-08-21T21:52:16.153Z"
   },
   {
    "duration": 500,
    "start_time": "2024-08-21T21:52:58.703Z"
   },
   {
    "duration": 981,
    "start_time": "2024-08-21T21:58:14.140Z"
   },
   {
    "duration": 859,
    "start_time": "2024-08-21T21:59:38.333Z"
   },
   {
    "duration": 907,
    "start_time": "2024-08-21T21:59:59.404Z"
   },
   {
    "duration": 14,
    "start_time": "2024-08-21T22:00:21.939Z"
   },
   {
    "duration": 217,
    "start_time": "2024-08-21T22:00:33.185Z"
   },
   {
    "duration": 923,
    "start_time": "2024-08-21T22:04:31.390Z"
   },
   {
    "duration": 396,
    "start_time": "2024-08-21T22:04:32.316Z"
   },
   {
    "duration": 340,
    "start_time": "2024-08-21T22:10:16.916Z"
   },
   {
    "duration": 381,
    "start_time": "2024-08-21T22:11:35.862Z"
   },
   {
    "duration": 68,
    "start_time": "2024-08-21T22:40:27.856Z"
   },
   {
    "duration": 395,
    "start_time": "2024-08-21T22:40:38.397Z"
   },
   {
    "duration": 407,
    "start_time": "2024-08-21T22:42:14.582Z"
   },
   {
    "duration": 342,
    "start_time": "2024-08-21T22:42:23.210Z"
   },
   {
    "duration": 353,
    "start_time": "2024-08-21T22:44:42.698Z"
   },
   {
    "duration": 358,
    "start_time": "2024-08-21T22:45:29.284Z"
   },
   {
    "duration": 346,
    "start_time": "2024-08-21T22:45:44.082Z"
   },
   {
    "duration": 595,
    "start_time": "2024-08-21T23:08:51.258Z"
   },
   {
    "duration": 324,
    "start_time": "2024-08-22T21:09:05.035Z"
   },
   {
    "duration": 4846,
    "start_time": "2024-08-22T21:09:10.895Z"
   },
   {
    "duration": 369,
    "start_time": "2024-08-22T21:09:15.745Z"
   },
   {
    "duration": 51,
    "start_time": "2024-08-22T21:09:16.117Z"
   },
   {
    "duration": 13,
    "start_time": "2024-08-22T21:09:16.171Z"
   },
   {
    "duration": 4,
    "start_time": "2024-08-22T21:09:16.190Z"
   },
   {
    "duration": 48,
    "start_time": "2024-08-22T21:09:16.197Z"
   },
   {
    "duration": 28,
    "start_time": "2024-08-22T21:09:16.248Z"
   },
   {
    "duration": 14,
    "start_time": "2024-08-22T21:09:16.279Z"
   },
   {
    "duration": 19,
    "start_time": "2024-08-22T21:09:16.332Z"
   },
   {
    "duration": 29,
    "start_time": "2024-08-22T21:09:16.354Z"
   },
   {
    "duration": 79,
    "start_time": "2024-08-22T21:09:16.388Z"
   },
   {
    "duration": 36,
    "start_time": "2024-08-22T21:09:16.470Z"
   },
   {
    "duration": 31,
    "start_time": "2024-08-22T21:09:16.534Z"
   },
   {
    "duration": 97,
    "start_time": "2024-08-22T21:09:16.573Z"
   },
   {
    "duration": 20,
    "start_time": "2024-08-22T21:09:16.673Z"
   },
   {
    "duration": 44,
    "start_time": "2024-08-22T21:09:16.696Z"
   },
   {
    "duration": 19,
    "start_time": "2024-08-22T21:09:16.743Z"
   },
   {
    "duration": 78,
    "start_time": "2024-08-22T21:09:16.765Z"
   },
   {
    "duration": 22,
    "start_time": "2024-08-22T21:09:16.846Z"
   },
   {
    "duration": 23,
    "start_time": "2024-08-22T21:09:16.871Z"
   },
   {
    "duration": 46,
    "start_time": "2024-08-22T21:09:16.897Z"
   },
   {
    "duration": 13,
    "start_time": "2024-08-22T21:09:16.945Z"
   },
   {
    "duration": 35,
    "start_time": "2024-08-22T21:09:16.961Z"
   },
   {
    "duration": 22,
    "start_time": "2024-08-22T21:09:17.032Z"
   },
   {
    "duration": 25,
    "start_time": "2024-08-22T21:09:17.057Z"
   },
   {
    "duration": 68,
    "start_time": "2024-08-22T21:09:17.086Z"
   },
   {
    "duration": 43,
    "start_time": "2024-08-22T21:09:17.157Z"
   },
   {
    "duration": 48,
    "start_time": "2024-08-22T21:09:17.203Z"
   },
   {
    "duration": 36,
    "start_time": "2024-08-22T21:09:17.254Z"
   },
   {
    "duration": 427,
    "start_time": "2024-08-22T21:09:17.293Z"
   },
   {
    "duration": 910,
    "start_time": "2024-08-22T21:09:17.723Z"
   },
   {
    "duration": 13,
    "start_time": "2024-08-22T21:09:18.636Z"
   },
   {
    "duration": 251,
    "start_time": "2024-08-22T21:09:18.653Z"
   },
   {
    "duration": 414,
    "start_time": "2024-08-22T21:09:18.907Z"
   },
   {
    "duration": 589,
    "start_time": "2024-08-22T21:09:19.324Z"
   },
   {
    "duration": 203,
    "start_time": "2024-08-22T21:22:05.161Z"
   },
   {
    "duration": 207,
    "start_time": "2024-08-22T21:22:29.821Z"
   },
   {
    "duration": 14,
    "start_time": "2024-08-22T21:24:20.587Z"
   },
   {
    "duration": 45,
    "start_time": "2024-08-22T21:30:12.620Z"
   },
   {
    "duration": 184,
    "start_time": "2024-08-22T21:37:36.610Z"
   },
   {
    "duration": 400,
    "start_time": "2024-08-22T21:51:52.105Z"
   },
   {
    "duration": 377,
    "start_time": "2024-08-22T22:02:26.480Z"
   },
   {
    "duration": 599,
    "start_time": "2024-08-22T22:08:20.422Z"
   },
   {
    "duration": 223,
    "start_time": "2024-08-22T22:12:20.263Z"
   },
   {
    "duration": 357,
    "start_time": "2024-08-22T22:16:47.481Z"
   },
   {
    "duration": 349,
    "start_time": "2024-08-22T22:16:58.636Z"
   },
   {
    "duration": 506,
    "start_time": "2024-08-22T22:17:13.078Z"
   },
   {
    "duration": 404,
    "start_time": "2024-08-22T22:26:19.820Z"
   },
   {
    "duration": 367,
    "start_time": "2024-08-22T22:28:04.170Z"
   },
   {
    "duration": 356,
    "start_time": "2024-08-22T22:28:37.810Z"
   },
   {
    "duration": 627,
    "start_time": "2024-08-22T22:31:37.282Z"
   },
   {
    "duration": 560,
    "start_time": "2024-08-22T22:32:49.753Z"
   },
   {
    "duration": 627,
    "start_time": "2024-08-22T22:33:49.076Z"
   },
   {
    "duration": 595,
    "start_time": "2024-08-22T22:34:05.622Z"
   },
   {
    "duration": 561,
    "start_time": "2024-08-22T22:35:25.254Z"
   },
   {
    "duration": 9,
    "start_time": "2024-08-22T22:35:50.013Z"
   },
   {
    "duration": 625,
    "start_time": "2024-08-22T22:35:57.592Z"
   },
   {
    "duration": 596,
    "start_time": "2024-08-22T22:36:35.810Z"
   },
   {
    "duration": 626,
    "start_time": "2024-08-22T22:36:47.581Z"
   },
   {
    "duration": 218,
    "start_time": "2024-08-22T22:41:07.718Z"
   },
   {
    "duration": 317,
    "start_time": "2024-08-23T18:37:21.323Z"
   },
   {
    "duration": 4874,
    "start_time": "2024-08-23T18:37:25.262Z"
   },
   {
    "duration": 343,
    "start_time": "2024-08-23T18:37:30.142Z"
   },
   {
    "duration": 51,
    "start_time": "2024-08-23T18:37:30.488Z"
   },
   {
    "duration": 14,
    "start_time": "2024-08-23T18:37:30.542Z"
   },
   {
    "duration": 3,
    "start_time": "2024-08-23T18:37:30.562Z"
   },
   {
    "duration": 16,
    "start_time": "2024-08-23T18:37:30.568Z"
   },
   {
    "duration": 69,
    "start_time": "2024-08-23T18:37:30.587Z"
   },
   {
    "duration": 13,
    "start_time": "2024-08-23T18:37:30.659Z"
   },
   {
    "duration": 56,
    "start_time": "2024-08-23T18:37:30.675Z"
   },
   {
    "duration": 29,
    "start_time": "2024-08-23T18:37:30.734Z"
   },
   {
    "duration": 76,
    "start_time": "2024-08-23T18:37:30.766Z"
   },
   {
    "duration": 35,
    "start_time": "2024-08-23T18:37:30.845Z"
   },
   {
    "duration": 60,
    "start_time": "2024-08-23T18:37:30.885Z"
   },
   {
    "duration": 81,
    "start_time": "2024-08-23T18:37:30.953Z"
   },
   {
    "duration": 24,
    "start_time": "2024-08-23T18:37:31.037Z"
   },
   {
    "duration": 22,
    "start_time": "2024-08-23T18:37:31.064Z"
   },
   {
    "duration": 56,
    "start_time": "2024-08-23T18:37:31.090Z"
   },
   {
    "duration": 58,
    "start_time": "2024-08-23T18:37:31.150Z"
   },
   {
    "duration": 27,
    "start_time": "2024-08-23T18:37:31.232Z"
   },
   {
    "duration": 30,
    "start_time": "2024-08-23T18:37:31.263Z"
   },
   {
    "duration": 46,
    "start_time": "2024-08-23T18:37:31.301Z"
   },
   {
    "duration": 16,
    "start_time": "2024-08-23T18:37:31.351Z"
   },
   {
    "duration": 72,
    "start_time": "2024-08-23T18:37:31.370Z"
   },
   {
    "duration": 31,
    "start_time": "2024-08-23T18:37:31.444Z"
   },
   {
    "duration": 50,
    "start_time": "2024-08-23T18:37:31.482Z"
   },
   {
    "duration": 46,
    "start_time": "2024-08-23T18:37:31.537Z"
   },
   {
    "duration": 81,
    "start_time": "2024-08-23T18:37:31.586Z"
   },
   {
    "duration": 31,
    "start_time": "2024-08-23T18:37:31.671Z"
   },
   {
    "duration": 68,
    "start_time": "2024-08-23T18:37:31.706Z"
   },
   {
    "duration": 482,
    "start_time": "2024-08-23T18:37:31.781Z"
   },
   {
    "duration": 1008,
    "start_time": "2024-08-23T18:37:32.267Z"
   },
   {
    "duration": 15,
    "start_time": "2024-08-23T18:37:33.278Z"
   },
   {
    "duration": 309,
    "start_time": "2024-08-23T18:37:33.296Z"
   },
   {
    "duration": 409,
    "start_time": "2024-08-23T18:37:33.608Z"
   },
   {
    "duration": 592,
    "start_time": "2024-08-23T18:37:34.022Z"
   },
   {
    "duration": 24,
    "start_time": "2024-08-23T18:37:34.618Z"
   },
   {
    "duration": 255,
    "start_time": "2024-08-23T18:37:34.646Z"
   },
   {
    "duration": 410,
    "start_time": "2024-08-23T18:37:34.905Z"
   },
   {
    "duration": 594,
    "start_time": "2024-08-23T18:37:35.319Z"
   },
   {
    "duration": 242,
    "start_time": "2024-08-23T18:37:35.917Z"
   },
   {
    "duration": 1223,
    "start_time": "2024-08-23T18:38:20.897Z"
   },
   {
    "duration": 278,
    "start_time": "2024-08-23T18:38:22.124Z"
   },
   {
    "duration": 59,
    "start_time": "2024-08-23T18:38:22.405Z"
   },
   {
    "duration": 12,
    "start_time": "2024-08-23T18:38:22.467Z"
   },
   {
    "duration": 4,
    "start_time": "2024-08-23T18:38:22.484Z"
   },
   {
    "duration": 51,
    "start_time": "2024-08-23T18:38:22.491Z"
   },
   {
    "duration": 28,
    "start_time": "2024-08-23T18:38:22.545Z"
   },
   {
    "duration": 15,
    "start_time": "2024-08-23T18:38:22.576Z"
   },
   {
    "duration": 53,
    "start_time": "2024-08-23T18:38:22.594Z"
   },
   {
    "duration": 29,
    "start_time": "2024-08-23T18:38:22.650Z"
   },
   {
    "duration": 79,
    "start_time": "2024-08-23T18:38:22.682Z"
   },
   {
    "duration": 35,
    "start_time": "2024-08-23T18:38:22.764Z"
   },
   {
    "duration": 31,
    "start_time": "2024-08-23T18:38:22.830Z"
   },
   {
    "duration": 86,
    "start_time": "2024-08-23T18:38:22.869Z"
   },
   {
    "duration": 23,
    "start_time": "2024-08-23T18:38:22.959Z"
   },
   {
    "duration": 46,
    "start_time": "2024-08-23T18:38:22.986Z"
   },
   {
    "duration": 20,
    "start_time": "2024-08-23T18:38:23.035Z"
   },
   {
    "duration": 42,
    "start_time": "2024-08-23T18:38:23.057Z"
   },
   {
    "duration": 22,
    "start_time": "2024-08-23T18:38:23.131Z"
   },
   {
    "duration": 23,
    "start_time": "2024-08-23T18:38:23.156Z"
   },
   {
    "duration": 50,
    "start_time": "2024-08-23T18:38:23.182Z"
   },
   {
    "duration": 12,
    "start_time": "2024-08-23T18:38:23.235Z"
   },
   {
    "duration": 33,
    "start_time": "2024-08-23T18:38:23.251Z"
   },
   {
    "duration": 57,
    "start_time": "2024-08-23T18:38:23.287Z"
   },
   {
    "duration": 25,
    "start_time": "2024-08-23T18:38:23.347Z"
   },
   {
    "duration": 57,
    "start_time": "2024-08-23T18:38:23.375Z"
   },
   {
    "duration": 37,
    "start_time": "2024-08-23T18:38:23.435Z"
   },
   {
    "duration": 25,
    "start_time": "2024-08-23T18:38:23.476Z"
   },
   {
    "duration": 35,
    "start_time": "2024-08-23T18:38:23.532Z"
   },
   {
    "duration": 413,
    "start_time": "2024-08-23T18:38:23.571Z"
   },
   {
    "duration": 1039,
    "start_time": "2024-08-23T18:38:23.987Z"
   },
   {
    "duration": 15,
    "start_time": "2024-08-23T18:38:25.031Z"
   },
   {
    "duration": 249,
    "start_time": "2024-08-23T18:38:25.049Z"
   },
   {
    "duration": 350,
    "start_time": "2024-08-23T18:38:25.301Z"
   },
   {
    "duration": 643,
    "start_time": "2024-08-23T18:38:25.655Z"
   },
   {
    "duration": 29,
    "start_time": "2024-08-23T18:38:26.301Z"
   },
   {
    "duration": 223,
    "start_time": "2024-08-23T18:38:26.333Z"
   },
   {
    "duration": 371,
    "start_time": "2024-08-23T18:38:26.559Z"
   },
   {
    "duration": 580,
    "start_time": "2024-08-23T18:38:26.934Z"
   },
   {
    "duration": 233,
    "start_time": "2024-08-23T18:38:27.517Z"
   },
   {
    "duration": 954,
    "start_time": "2024-08-23T18:39:14.958Z"
   },
   {
    "duration": 239,
    "start_time": "2024-08-23T18:39:15.915Z"
   },
   {
    "duration": 11,
    "start_time": "2024-08-23T18:39:16.158Z"
   },
   {
    "duration": 5,
    "start_time": "2024-08-23T18:39:16.172Z"
   },
   {
    "duration": 49765,
    "start_time": "2024-08-23T18:39:16.182Z"
   },
   {
    "duration": 13,
    "start_time": "2024-08-23T18:40:21.427Z"
   },
   {
    "duration": 7,
    "start_time": "2024-08-23T18:40:40.744Z"
   },
   {
    "duration": 12,
    "start_time": "2024-08-23T18:40:51.832Z"
   },
   {
    "duration": 1253,
    "start_time": "2024-08-23T18:42:06.925Z"
   },
   {
    "duration": 55,
    "start_time": "2024-08-23T18:42:14.052Z"
   },
   {
    "duration": 1456,
    "start_time": "2024-08-23T18:43:33.755Z"
   },
   {
    "duration": 373,
    "start_time": "2024-08-23T18:43:35.215Z"
   },
   {
    "duration": 74,
    "start_time": "2024-08-23T18:43:35.590Z"
   },
   {
    "duration": 19,
    "start_time": "2024-08-23T18:43:35.670Z"
   },
   {
    "duration": 10,
    "start_time": "2024-08-23T18:43:35.695Z"
   },
   {
    "duration": 36,
    "start_time": "2024-08-23T18:43:35.709Z"
   },
   {
    "duration": 51,
    "start_time": "2024-08-23T18:43:35.749Z"
   },
   {
    "duration": 20,
    "start_time": "2024-08-23T18:43:35.804Z"
   },
   {
    "duration": 28,
    "start_time": "2024-08-23T18:43:35.832Z"
   },
   {
    "duration": 41,
    "start_time": "2024-08-23T18:43:35.869Z"
   },
   {
    "duration": 58,
    "start_time": "2024-08-23T18:43:35.923Z"
   },
   {
    "duration": 70,
    "start_time": "2024-08-23T18:43:35.984Z"
   },
   {
    "duration": 41,
    "start_time": "2024-08-23T18:43:36.059Z"
   },
   {
    "duration": 95,
    "start_time": "2024-08-23T18:43:36.108Z"
   },
   {
    "duration": 29,
    "start_time": "2024-08-23T18:43:36.207Z"
   },
   {
    "duration": 27,
    "start_time": "2024-08-23T18:43:36.239Z"
   },
   {
    "duration": 20,
    "start_time": "2024-08-23T18:43:36.270Z"
   },
   {
    "duration": 105,
    "start_time": "2024-08-23T18:43:36.293Z"
   },
   {
    "duration": 38,
    "start_time": "2024-08-23T18:43:36.403Z"
   },
   {
    "duration": 28,
    "start_time": "2024-08-23T18:43:36.448Z"
   },
   {
    "duration": 23,
    "start_time": "2024-08-23T18:43:36.479Z"
   },
   {
    "duration": 31,
    "start_time": "2024-08-23T18:43:36.506Z"
   },
   {
    "duration": 41,
    "start_time": "2024-08-23T18:43:36.541Z"
   },
   {
    "duration": 56,
    "start_time": "2024-08-23T18:43:36.585Z"
   },
   {
    "duration": 26,
    "start_time": "2024-08-23T18:43:36.644Z"
   },
   {
    "duration": 56,
    "start_time": "2024-08-23T18:43:36.674Z"
   },
   {
    "duration": 39,
    "start_time": "2024-08-23T18:43:36.733Z"
   },
   {
    "duration": 27,
    "start_time": "2024-08-23T18:43:36.775Z"
   },
   {
    "duration": 43,
    "start_time": "2024-08-23T18:43:36.830Z"
   },
   {
    "duration": 425,
    "start_time": "2024-08-23T18:43:36.877Z"
   },
   {
    "duration": 1041,
    "start_time": "2024-08-23T18:43:37.307Z"
   },
   {
    "duration": 14,
    "start_time": "2024-08-23T18:43:38.350Z"
   },
   {
    "duration": 270,
    "start_time": "2024-08-23T18:43:38.366Z"
   },
   {
    "duration": 374,
    "start_time": "2024-08-23T18:43:38.641Z"
   },
   {
    "duration": 592,
    "start_time": "2024-08-23T18:43:39.018Z"
   },
   {
    "duration": 23,
    "start_time": "2024-08-23T18:43:39.613Z"
   },
   {
    "duration": 250,
    "start_time": "2024-08-23T18:43:39.639Z"
   },
   {
    "duration": 417,
    "start_time": "2024-08-23T18:43:39.893Z"
   },
   {
    "duration": 629,
    "start_time": "2024-08-23T18:43:40.314Z"
   },
   {
    "duration": 243,
    "start_time": "2024-08-23T18:43:40.946Z"
   },
   {
    "duration": 49820,
    "start_time": "2024-08-23T18:43:41.199Z"
   },
   {
    "duration": 1036,
    "start_time": "2024-08-23T18:44:31.022Z"
   },
   {
    "duration": 240,
    "start_time": "2024-08-23T18:44:32.062Z"
   },
   {
    "duration": 1272,
    "start_time": "2024-08-23T18:44:32.306Z"
   },
   {
    "duration": 0,
    "start_time": "2024-08-23T18:44:33.581Z"
   },
   {
    "duration": 47,
    "start_time": "2024-08-23T18:46:12.740Z"
   },
   {
    "duration": 1385,
    "start_time": "2024-08-23T18:47:00.529Z"
   },
   {
    "duration": 308,
    "start_time": "2024-08-23T18:47:01.919Z"
   },
   {
    "duration": 61,
    "start_time": "2024-08-23T18:47:02.230Z"
   },
   {
    "duration": 13,
    "start_time": "2024-08-23T18:47:02.295Z"
   },
   {
    "duration": 3,
    "start_time": "2024-08-23T18:47:02.332Z"
   },
   {
    "duration": 20,
    "start_time": "2024-08-23T18:47:02.338Z"
   },
   {
    "duration": 36,
    "start_time": "2024-08-23T18:47:02.361Z"
   },
   {
    "duration": 17,
    "start_time": "2024-08-23T18:47:02.432Z"
   },
   {
    "duration": 21,
    "start_time": "2024-08-23T18:47:02.452Z"
   },
   {
    "duration": 65,
    "start_time": "2024-08-23T18:47:02.476Z"
   },
   {
    "duration": 53,
    "start_time": "2024-08-23T18:47:02.545Z"
   },
   {
    "duration": 64,
    "start_time": "2024-08-23T18:47:02.601Z"
   },
   {
    "duration": 30,
    "start_time": "2024-08-23T18:47:02.668Z"
   },
   {
    "duration": 99,
    "start_time": "2024-08-23T18:47:02.733Z"
   },
   {
    "duration": 26,
    "start_time": "2024-08-23T18:47:02.835Z"
   },
   {
    "duration": 20,
    "start_time": "2024-08-23T18:47:02.865Z"
   },
   {
    "duration": 53,
    "start_time": "2024-08-23T18:47:02.887Z"
   },
   {
    "duration": 54,
    "start_time": "2024-08-23T18:47:02.943Z"
   },
   {
    "duration": 49,
    "start_time": "2024-08-23T18:47:03.000Z"
   },
   {
    "duration": 27,
    "start_time": "2024-08-23T18:47:03.053Z"
   },
   {
    "duration": 21,
    "start_time": "2024-08-23T18:47:03.084Z"
   },
   {
    "duration": 36,
    "start_time": "2024-08-23T18:47:03.107Z"
   },
   {
    "duration": 38,
    "start_time": "2024-08-23T18:47:03.146Z"
   },
   {
    "duration": 61,
    "start_time": "2024-08-23T18:47:03.188Z"
   },
   {
    "duration": 26,
    "start_time": "2024-08-23T18:47:03.252Z"
   },
   {
    "duration": 53,
    "start_time": "2024-08-23T18:47:03.282Z"
   },
   {
    "duration": 39,
    "start_time": "2024-08-23T18:47:03.338Z"
   },
   {
    "duration": 53,
    "start_time": "2024-08-23T18:47:03.380Z"
   },
   {
    "duration": 43,
    "start_time": "2024-08-23T18:47:03.436Z"
   },
   {
    "duration": 430,
    "start_time": "2024-08-23T18:47:03.483Z"
   },
   {
    "duration": 1019,
    "start_time": "2024-08-23T18:47:03.916Z"
   },
   {
    "duration": 13,
    "start_time": "2024-08-23T18:47:04.938Z"
   },
   {
    "duration": 267,
    "start_time": "2024-08-23T18:47:04.955Z"
   },
   {
    "duration": 373,
    "start_time": "2024-08-23T18:47:05.225Z"
   },
   {
    "duration": 528,
    "start_time": "2024-08-23T18:47:05.602Z"
   },
   {
    "duration": 17,
    "start_time": "2024-08-23T18:47:06.133Z"
   },
   {
    "duration": 260,
    "start_time": "2024-08-23T18:47:06.153Z"
   },
   {
    "duration": 402,
    "start_time": "2024-08-23T18:47:06.416Z"
   },
   {
    "duration": 633,
    "start_time": "2024-08-23T18:47:06.821Z"
   },
   {
    "duration": 262,
    "start_time": "2024-08-23T18:47:07.457Z"
   },
   {
    "duration": 549,
    "start_time": "2024-08-23T18:47:07.731Z"
   },
   {
    "duration": 0,
    "start_time": "2024-08-23T18:47:08.283Z"
   },
   {
    "duration": 0,
    "start_time": "2024-08-23T18:47:08.285Z"
   },
   {
    "duration": 0,
    "start_time": "2024-08-23T18:47:08.287Z"
   },
   {
    "duration": 0,
    "start_time": "2024-08-23T18:47:08.289Z"
   },
   {
    "duration": 386,
    "start_time": "2024-08-23T18:48:56.326Z"
   },
   {
    "duration": 683,
    "start_time": "2024-08-23T18:50:05.006Z"
   },
   {
    "duration": 295,
    "start_time": "2024-08-23T18:50:11.054Z"
   },
   {
    "duration": 6,
    "start_time": "2024-08-23T18:51:51.873Z"
   },
   {
    "duration": 61,
    "start_time": "2024-08-23T18:52:12.272Z"
   },
   {
    "duration": 10,
    "start_time": "2024-08-23T18:59:34.390Z"
   },
   {
    "duration": 24,
    "start_time": "2024-08-23T19:01:23.270Z"
   },
   {
    "duration": 35,
    "start_time": "2024-08-23T19:10:18.699Z"
   },
   {
    "duration": 42,
    "start_time": "2024-08-23T19:11:45.589Z"
   },
   {
    "duration": 35,
    "start_time": "2024-08-23T19:12:15.294Z"
   },
   {
    "duration": 5,
    "start_time": "2024-08-23T19:13:54.445Z"
   },
   {
    "duration": 10,
    "start_time": "2024-08-23T19:31:38.169Z"
   },
   {
    "duration": 8,
    "start_time": "2024-08-23T19:35:32.060Z"
   },
   {
    "duration": 36,
    "start_time": "2024-08-23T19:46:21.254Z"
   },
   {
    "duration": 28,
    "start_time": "2024-08-23T19:46:47.543Z"
   },
   {
    "duration": 7,
    "start_time": "2024-08-23T19:47:26.583Z"
   },
   {
    "duration": 48,
    "start_time": "2024-08-23T19:54:34.111Z"
   },
   {
    "duration": 14,
    "start_time": "2024-08-23T19:57:37.750Z"
   },
   {
    "duration": 40,
    "start_time": "2024-08-23T19:59:12.631Z"
   },
   {
    "duration": 1328,
    "start_time": "2024-08-23T19:59:53.200Z"
   },
   {
    "duration": 267,
    "start_time": "2024-08-23T19:59:54.533Z"
   },
   {
    "duration": 51,
    "start_time": "2024-08-23T19:59:54.803Z"
   },
   {
    "duration": 13,
    "start_time": "2024-08-23T19:59:54.857Z"
   },
   {
    "duration": 3,
    "start_time": "2024-08-23T19:59:54.876Z"
   },
   {
    "duration": 51,
    "start_time": "2024-08-23T19:59:54.881Z"
   },
   {
    "duration": 28,
    "start_time": "2024-08-23T19:59:54.935Z"
   },
   {
    "duration": 14,
    "start_time": "2024-08-23T19:59:54.966Z"
   },
   {
    "duration": 52,
    "start_time": "2024-08-23T19:59:54.982Z"
   },
   {
    "duration": 29,
    "start_time": "2024-08-23T19:59:55.037Z"
   },
   {
    "duration": 79,
    "start_time": "2024-08-23T19:59:55.069Z"
   },
   {
    "duration": 35,
    "start_time": "2024-08-23T19:59:55.151Z"
   },
   {
    "duration": 58,
    "start_time": "2024-08-23T19:59:55.190Z"
   },
   {
    "duration": 86,
    "start_time": "2024-08-23T19:59:55.255Z"
   },
   {
    "duration": 19,
    "start_time": "2024-08-23T19:59:55.344Z"
   },
   {
    "duration": 18,
    "start_time": "2024-08-23T19:59:55.366Z"
   },
   {
    "duration": 50,
    "start_time": "2024-08-23T19:59:55.387Z"
   },
   {
    "duration": 48,
    "start_time": "2024-08-23T19:59:55.440Z"
   },
   {
    "duration": 45,
    "start_time": "2024-08-23T19:59:55.491Z"
   },
   {
    "duration": 22,
    "start_time": "2024-08-23T19:59:55.539Z"
   },
   {
    "duration": 14,
    "start_time": "2024-08-23T19:59:55.564Z"
   },
   {
    "duration": 12,
    "start_time": "2024-08-23T19:59:55.581Z"
   },
   {
    "duration": 41,
    "start_time": "2024-08-23T19:59:55.633Z"
   },
   {
    "duration": 29,
    "start_time": "2024-08-23T19:59:55.677Z"
   },
   {
    "duration": 24,
    "start_time": "2024-08-23T19:59:55.732Z"
   },
   {
    "duration": 30,
    "start_time": "2024-08-23T19:59:55.759Z"
   },
   {
    "duration": 70,
    "start_time": "2024-08-23T19:59:55.792Z"
   },
   {
    "duration": 39,
    "start_time": "2024-08-23T19:59:55.865Z"
   },
   {
    "duration": 57,
    "start_time": "2024-08-23T19:59:55.908Z"
   },
   {
    "duration": 418,
    "start_time": "2024-08-23T19:59:55.968Z"
   },
   {
    "duration": 1039,
    "start_time": "2024-08-23T19:59:56.392Z"
   },
   {
    "duration": 13,
    "start_time": "2024-08-23T19:59:57.434Z"
   },
   {
    "duration": 267,
    "start_time": "2024-08-23T19:59:57.450Z"
   },
   {
    "duration": 352,
    "start_time": "2024-08-23T19:59:57.720Z"
   },
   {
    "duration": 627,
    "start_time": "2024-08-23T19:59:58.075Z"
   },
   {
    "duration": 27,
    "start_time": "2024-08-23T19:59:58.705Z"
   },
   {
    "duration": 220,
    "start_time": "2024-08-23T19:59:58.734Z"
   },
   {
    "duration": 376,
    "start_time": "2024-08-23T19:59:58.957Z"
   },
   {
    "duration": 579,
    "start_time": "2024-08-23T19:59:59.337Z"
   },
   {
    "duration": 231,
    "start_time": "2024-08-23T19:59:59.921Z"
   },
   {
    "duration": 380,
    "start_time": "2024-08-23T20:00:00.161Z"
   },
   {
    "duration": 586,
    "start_time": "2024-08-23T20:00:00.544Z"
   },
   {
    "duration": 316,
    "start_time": "2024-08-23T20:00:01.133Z"
   },
   {
    "duration": 9,
    "start_time": "2024-08-23T20:00:01.451Z"
   },
   {
    "duration": 8,
    "start_time": "2024-08-23T20:00:01.463Z"
   },
   {
    "duration": 14,
    "start_time": "2024-08-23T20:00:01.475Z"
   },
   {
    "duration": 3,
    "start_time": "2024-08-23T20:00:01.530Z"
   },
   {
    "duration": 47,
    "start_time": "2024-08-23T20:02:22.270Z"
   },
   {
    "duration": 1225,
    "start_time": "2024-08-23T20:15:00.517Z"
   },
   {
    "duration": 15,
    "start_time": "2024-08-23T20:15:44.374Z"
   },
   {
    "duration": 19,
    "start_time": "2024-08-23T20:21:37.089Z"
   },
   {
    "duration": 6,
    "start_time": "2024-08-23T20:25:26.766Z"
   },
   {
    "duration": 7,
    "start_time": "2024-08-23T20:25:52.511Z"
   },
   {
    "duration": 7,
    "start_time": "2024-08-23T21:00:49.985Z"
   },
   {
    "duration": 6,
    "start_time": "2024-08-23T21:01:17.909Z"
   },
   {
    "duration": 12,
    "start_time": "2024-08-23T21:02:06.976Z"
   },
   {
    "duration": 1342,
    "start_time": "2024-08-23T21:02:21.836Z"
   },
   {
    "duration": 286,
    "start_time": "2024-08-23T21:02:23.181Z"
   },
   {
    "duration": 51,
    "start_time": "2024-08-23T21:02:23.471Z"
   },
   {
    "duration": 12,
    "start_time": "2024-08-23T21:02:23.533Z"
   },
   {
    "duration": 3,
    "start_time": "2024-08-23T21:02:23.549Z"
   },
   {
    "duration": 16,
    "start_time": "2024-08-23T21:02:23.555Z"
   },
   {
    "duration": 65,
    "start_time": "2024-08-23T21:02:23.576Z"
   },
   {
    "duration": 14,
    "start_time": "2024-08-23T21:02:23.645Z"
   },
   {
    "duration": 18,
    "start_time": "2024-08-23T21:02:23.663Z"
   },
   {
    "duration": 65,
    "start_time": "2024-08-23T21:02:23.687Z"
   },
   {
    "duration": 47,
    "start_time": "2024-08-23T21:02:23.755Z"
   },
   {
    "duration": 37,
    "start_time": "2024-08-23T21:02:23.832Z"
   },
   {
    "duration": 59,
    "start_time": "2024-08-23T21:02:23.873Z"
   },
   {
    "duration": 71,
    "start_time": "2024-08-23T21:02:23.935Z"
   },
   {
    "duration": 40,
    "start_time": "2024-08-23T21:02:24.009Z"
   },
   {
    "duration": 20,
    "start_time": "2024-08-23T21:02:24.052Z"
   },
   {
    "duration": 18,
    "start_time": "2024-08-23T21:02:24.075Z"
   },
   {
    "duration": 74,
    "start_time": "2024-08-23T21:02:24.095Z"
   },
   {
    "duration": 23,
    "start_time": "2024-08-23T21:02:24.172Z"
   },
   {
    "duration": 22,
    "start_time": "2024-08-23T21:02:24.230Z"
   },
   {
    "duration": 15,
    "start_time": "2024-08-23T21:02:24.255Z"
   },
   {
    "duration": 13,
    "start_time": "2024-08-23T21:02:24.273Z"
   },
   {
    "duration": 68,
    "start_time": "2024-08-23T21:02:24.289Z"
   },
   {
    "duration": 25,
    "start_time": "2024-08-23T21:02:24.360Z"
   },
   {
    "duration": 54,
    "start_time": "2024-08-23T21:02:24.389Z"
   },
   {
    "duration": 31,
    "start_time": "2024-08-23T21:02:24.449Z"
   },
   {
    "duration": 69,
    "start_time": "2024-08-23T21:02:24.483Z"
   },
   {
    "duration": 39,
    "start_time": "2024-08-23T21:02:24.561Z"
   },
   {
    "duration": 60,
    "start_time": "2024-08-23T21:02:24.603Z"
   },
   {
    "duration": 415,
    "start_time": "2024-08-23T21:02:24.666Z"
   },
   {
    "duration": 1026,
    "start_time": "2024-08-23T21:02:25.085Z"
   },
   {
    "duration": 22,
    "start_time": "2024-08-23T21:02:26.114Z"
   },
   {
    "duration": 236,
    "start_time": "2024-08-23T21:02:26.138Z"
   },
   {
    "duration": 356,
    "start_time": "2024-08-23T21:02:26.377Z"
   },
   {
    "duration": 566,
    "start_time": "2024-08-23T21:02:26.736Z"
   },
   {
    "duration": 26,
    "start_time": "2024-08-23T21:02:27.306Z"
   },
   {
    "duration": 216,
    "start_time": "2024-08-23T21:02:27.336Z"
   },
   {
    "duration": 385,
    "start_time": "2024-08-23T21:02:27.555Z"
   },
   {
    "duration": 574,
    "start_time": "2024-08-23T21:02:27.943Z"
   },
   {
    "duration": 234,
    "start_time": "2024-08-23T21:02:28.521Z"
   },
   {
    "duration": 376,
    "start_time": "2024-08-23T21:02:28.758Z"
   },
   {
    "duration": 574,
    "start_time": "2024-08-23T21:02:29.137Z"
   },
   {
    "duration": 238,
    "start_time": "2024-08-23T21:02:29.715Z"
   },
   {
    "duration": 8,
    "start_time": "2024-08-23T21:02:29.956Z"
   },
   {
    "duration": 7,
    "start_time": "2024-08-23T21:02:29.967Z"
   },
   {
    "duration": 13,
    "start_time": "2024-08-23T21:02:29.978Z"
   },
   {
    "duration": 7,
    "start_time": "2024-08-23T21:02:30.032Z"
   },
   {
    "duration": 614,
    "start_time": "2024-08-23T21:43:48.019Z"
   },
   {
    "duration": 1240,
    "start_time": "2024-08-23T22:12:56.136Z"
   },
   {
    "duration": 282,
    "start_time": "2024-08-23T22:12:57.380Z"
   },
   {
    "duration": 49,
    "start_time": "2024-08-23T22:12:57.664Z"
   },
   {
    "duration": 12,
    "start_time": "2024-08-23T22:12:57.730Z"
   },
   {
    "duration": 3,
    "start_time": "2024-08-23T22:12:57.749Z"
   },
   {
    "duration": 15,
    "start_time": "2024-08-23T22:12:57.756Z"
   },
   {
    "duration": 66,
    "start_time": "2024-08-23T22:12:57.774Z"
   },
   {
    "duration": 15,
    "start_time": "2024-08-23T22:12:57.843Z"
   },
   {
    "duration": 17,
    "start_time": "2024-08-23T22:12:57.862Z"
   },
   {
    "duration": 65,
    "start_time": "2024-08-23T22:12:57.882Z"
   },
   {
    "duration": 48,
    "start_time": "2024-08-23T22:12:57.950Z"
   },
   {
    "duration": 62,
    "start_time": "2024-08-23T22:12:58.001Z"
   },
   {
    "duration": 30,
    "start_time": "2024-08-23T22:12:58.066Z"
   },
   {
    "duration": 72,
    "start_time": "2024-08-23T22:12:58.130Z"
   },
   {
    "duration": 37,
    "start_time": "2024-08-23T22:12:58.205Z"
   },
   {
    "duration": 24,
    "start_time": "2024-08-23T22:12:58.247Z"
   },
   {
    "duration": 19,
    "start_time": "2024-08-23T22:12:58.275Z"
   },
   {
    "duration": 70,
    "start_time": "2024-08-23T22:12:58.299Z"
   },
   {
    "duration": 25,
    "start_time": "2024-08-23T22:12:58.372Z"
   },
   {
    "duration": 48,
    "start_time": "2024-08-23T22:12:58.399Z"
   },
   {
    "duration": 16,
    "start_time": "2024-08-23T22:12:58.450Z"
   },
   {
    "duration": 13,
    "start_time": "2024-08-23T22:12:58.470Z"
   },
   {
    "duration": 72,
    "start_time": "2024-08-23T22:12:58.486Z"
   },
   {
    "duration": 24,
    "start_time": "2024-08-23T22:12:58.562Z"
   },
   {
    "duration": 49,
    "start_time": "2024-08-23T22:12:58.589Z"
   },
   {
    "duration": 31,
    "start_time": "2024-08-23T22:12:58.641Z"
   },
   {
    "duration": 60,
    "start_time": "2024-08-23T22:12:58.675Z"
   },
   {
    "duration": 39,
    "start_time": "2024-08-23T22:12:58.738Z"
   },
   {
    "duration": 63,
    "start_time": "2024-08-23T22:12:58.780Z"
   },
   {
    "duration": 402,
    "start_time": "2024-08-23T22:12:58.847Z"
   },
   {
    "duration": 984,
    "start_time": "2024-08-23T22:12:59.252Z"
   },
   {
    "duration": 16,
    "start_time": "2024-08-23T22:13:00.240Z"
   },
   {
    "duration": 250,
    "start_time": "2024-08-23T22:13:00.259Z"
   },
   {
    "duration": 378,
    "start_time": "2024-08-23T22:13:00.512Z"
   },
   {
    "duration": 616,
    "start_time": "2024-08-23T22:13:00.892Z"
   },
   {
    "duration": 25,
    "start_time": "2024-08-23T22:13:01.511Z"
   },
   {
    "duration": 223,
    "start_time": "2024-08-23T22:13:01.538Z"
   },
   {
    "duration": 408,
    "start_time": "2024-08-23T22:13:01.765Z"
   },
   {
    "duration": 644,
    "start_time": "2024-08-23T22:13:02.175Z"
   },
   {
    "duration": 243,
    "start_time": "2024-08-23T22:13:02.823Z"
   },
   {
    "duration": 377,
    "start_time": "2024-08-23T22:13:03.076Z"
   },
   {
    "duration": 651,
    "start_time": "2024-08-23T22:13:03.455Z"
   },
   {
    "duration": 318,
    "start_time": "2024-08-23T22:13:04.109Z"
   },
   {
    "duration": 8,
    "start_time": "2024-08-23T22:13:04.432Z"
   },
   {
    "duration": 7,
    "start_time": "2024-08-23T22:13:04.443Z"
   },
   {
    "duration": 13,
    "start_time": "2024-08-23T22:13:04.455Z"
   },
   {
    "duration": 7,
    "start_time": "2024-08-23T22:13:04.471Z"
   },
   {
    "duration": 535,
    "start_time": "2024-08-23T22:14:27.489Z"
   },
   {
    "duration": 1217,
    "start_time": "2024-08-23T22:18:13.382Z"
   },
   {
    "duration": 277,
    "start_time": "2024-08-23T22:18:14.602Z"
   },
   {
    "duration": 59,
    "start_time": "2024-08-23T22:18:14.881Z"
   },
   {
    "duration": 13,
    "start_time": "2024-08-23T22:18:14.944Z"
   },
   {
    "duration": 4,
    "start_time": "2024-08-23T22:18:14.959Z"
   },
   {
    "duration": 16,
    "start_time": "2024-08-23T22:18:14.967Z"
   },
   {
    "duration": 73,
    "start_time": "2024-08-23T22:18:14.985Z"
   },
   {
    "duration": 13,
    "start_time": "2024-08-23T22:18:15.062Z"
   },
   {
    "duration": 18,
    "start_time": "2024-08-23T22:18:15.079Z"
   },
   {
    "duration": 27,
    "start_time": "2024-08-23T22:18:15.136Z"
   },
   {
    "duration": 74,
    "start_time": "2024-08-23T22:18:15.166Z"
   },
   {
    "duration": 37,
    "start_time": "2024-08-23T22:18:15.242Z"
   },
   {
    "duration": 58,
    "start_time": "2024-08-23T22:18:15.282Z"
   },
   {
    "duration": 71,
    "start_time": "2024-08-23T22:18:15.343Z"
   },
   {
    "duration": 19,
    "start_time": "2024-08-23T22:18:15.432Z"
   },
   {
    "duration": 19,
    "start_time": "2024-08-23T22:18:15.454Z"
   },
   {
    "duration": 54,
    "start_time": "2024-08-23T22:18:15.476Z"
   },
   {
    "duration": 46,
    "start_time": "2024-08-23T22:18:15.533Z"
   },
   {
    "duration": 22,
    "start_time": "2024-08-23T22:18:15.581Z"
   },
   {
    "duration": 23,
    "start_time": "2024-08-23T22:18:15.630Z"
   },
   {
    "duration": 14,
    "start_time": "2024-08-23T22:18:15.656Z"
   },
   {
    "duration": 12,
    "start_time": "2024-08-23T22:18:15.673Z"
   },
   {
    "duration": 66,
    "start_time": "2024-08-23T22:18:15.688Z"
   },
   {
    "duration": 22,
    "start_time": "2024-08-23T22:18:15.757Z"
   },
   {
    "duration": 52,
    "start_time": "2024-08-23T22:18:15.782Z"
   },
   {
    "duration": 34,
    "start_time": "2024-08-23T22:18:15.837Z"
   },
   {
    "duration": 66,
    "start_time": "2024-08-23T22:18:15.873Z"
   },
   {
    "duration": 36,
    "start_time": "2024-08-23T22:18:15.948Z"
   },
   {
    "duration": 63,
    "start_time": "2024-08-23T22:18:15.987Z"
   },
   {
    "duration": 409,
    "start_time": "2024-08-23T22:18:16.053Z"
   },
   {
    "duration": 968,
    "start_time": "2024-08-23T22:18:16.465Z"
   },
   {
    "duration": 14,
    "start_time": "2024-08-23T22:18:17.436Z"
   },
   {
    "duration": 250,
    "start_time": "2024-08-23T22:18:17.453Z"
   },
   {
    "duration": 348,
    "start_time": "2024-08-23T22:18:17.706Z"
   },
   {
    "duration": 636,
    "start_time": "2024-08-23T22:18:18.058Z"
   },
   {
    "duration": 13,
    "start_time": "2024-08-23T22:18:18.697Z"
   },
   {
    "duration": 216,
    "start_time": "2024-08-23T22:18:18.731Z"
   },
   {
    "duration": 389,
    "start_time": "2024-08-23T22:18:18.950Z"
   },
   {
    "duration": 569,
    "start_time": "2024-08-23T22:18:19.342Z"
   },
   {
    "duration": 245,
    "start_time": "2024-08-23T22:18:19.915Z"
   },
   {
    "duration": 381,
    "start_time": "2024-08-23T22:18:20.163Z"
   },
   {
    "duration": 563,
    "start_time": "2024-08-23T22:18:20.547Z"
   },
   {
    "duration": 250,
    "start_time": "2024-08-23T22:18:21.113Z"
   },
   {
    "duration": 7,
    "start_time": "2024-08-23T22:18:21.367Z"
   },
   {
    "duration": 8,
    "start_time": "2024-08-23T22:18:21.377Z"
   },
   {
    "duration": 42,
    "start_time": "2024-08-23T22:18:21.388Z"
   },
   {
    "duration": 7,
    "start_time": "2024-08-23T22:18:21.434Z"
   },
   {
    "duration": 5024,
    "start_time": "2024-08-26T01:37:40.735Z"
   },
   {
    "duration": 366,
    "start_time": "2024-08-26T01:37:45.762Z"
   },
   {
    "duration": 49,
    "start_time": "2024-08-26T01:37:46.131Z"
   },
   {
    "duration": 13,
    "start_time": "2024-08-26T01:37:46.185Z"
   },
   {
    "duration": 3,
    "start_time": "2024-08-26T01:37:46.228Z"
   },
   {
    "duration": 15,
    "start_time": "2024-08-26T01:37:46.235Z"
   },
   {
    "duration": 30,
    "start_time": "2024-08-26T01:37:46.253Z"
   },
   {
    "duration": 51,
    "start_time": "2024-08-26T01:37:46.286Z"
   },
   {
    "duration": 20,
    "start_time": "2024-08-26T01:37:46.340Z"
   },
   {
    "duration": 66,
    "start_time": "2024-08-26T01:37:46.366Z"
   },
   {
    "duration": 48,
    "start_time": "2024-08-26T01:37:46.435Z"
   },
   {
    "duration": 62,
    "start_time": "2024-08-26T01:37:46.486Z"
   },
   {
    "duration": 29,
    "start_time": "2024-08-26T01:37:46.550Z"
   },
   {
    "duration": 97,
    "start_time": "2024-08-26T01:37:46.582Z"
   },
   {
    "duration": 21,
    "start_time": "2024-08-26T01:37:46.682Z"
   },
   {
    "duration": 20,
    "start_time": "2024-08-26T01:37:46.726Z"
   },
   {
    "duration": 19,
    "start_time": "2024-08-26T01:37:46.749Z"
   },
   {
    "duration": 78,
    "start_time": "2024-08-26T01:37:46.771Z"
   },
   {
    "duration": 23,
    "start_time": "2024-08-26T01:37:46.852Z"
   },
   {
    "duration": 50,
    "start_time": "2024-08-26T01:37:46.878Z"
   },
   {
    "duration": 15,
    "start_time": "2024-08-26T01:37:46.931Z"
   },
   {
    "duration": 12,
    "start_time": "2024-08-26T01:37:46.950Z"
   },
   {
    "duration": 63,
    "start_time": "2024-08-26T01:37:46.965Z"
   },
   {
    "duration": 24,
    "start_time": "2024-08-26T01:37:47.031Z"
   },
   {
    "duration": 24,
    "start_time": "2024-08-26T01:37:47.058Z"
   },
   {
    "duration": 63,
    "start_time": "2024-08-26T01:37:47.085Z"
   },
   {
    "duration": 38,
    "start_time": "2024-08-26T01:37:47.150Z"
   },
   {
    "duration": 59,
    "start_time": "2024-08-26T01:37:47.195Z"
   },
   {
    "duration": 37,
    "start_time": "2024-08-26T01:37:47.257Z"
   },
   {
    "duration": 447,
    "start_time": "2024-08-26T01:37:47.297Z"
   },
   {
    "duration": 979,
    "start_time": "2024-08-26T01:37:47.748Z"
   },
   {
    "duration": 15,
    "start_time": "2024-08-26T01:37:48.730Z"
   },
   {
    "duration": 258,
    "start_time": "2024-08-26T01:37:48.748Z"
   },
   {
    "duration": 357,
    "start_time": "2024-08-26T01:37:49.009Z"
   },
   {
    "duration": 644,
    "start_time": "2024-08-26T01:37:49.369Z"
   },
   {
    "duration": 20,
    "start_time": "2024-08-26T01:37:50.016Z"
   },
   {
    "duration": 228,
    "start_time": "2024-08-26T01:37:50.040Z"
   },
   {
    "duration": 371,
    "start_time": "2024-08-26T01:37:50.271Z"
   },
   {
    "duration": 582,
    "start_time": "2024-08-26T01:37:50.645Z"
   },
   {
    "duration": 320,
    "start_time": "2024-08-26T01:37:51.231Z"
   },
   {
    "duration": 380,
    "start_time": "2024-08-26T01:37:51.554Z"
   },
   {
    "duration": 589,
    "start_time": "2024-08-26T01:37:51.938Z"
   },
   {
    "duration": 232,
    "start_time": "2024-08-26T01:37:52.531Z"
   },
   {
    "duration": 8,
    "start_time": "2024-08-26T01:37:52.766Z"
   },
   {
    "duration": 10,
    "start_time": "2024-08-26T01:37:52.777Z"
   },
   {
    "duration": 41,
    "start_time": "2024-08-26T01:37:52.791Z"
   },
   {
    "duration": 7,
    "start_time": "2024-08-26T01:37:52.835Z"
   }
  ],
  "colab": {
   "provenance": []
  },
  "kernelspec": {
   "display_name": "Python 3 (ipykernel)",
   "language": "python",
   "name": "python3"
  },
  "language_info": {
   "codemirror_mode": {
    "name": "ipython",
    "version": 3
   },
   "file_extension": ".py",
   "mimetype": "text/x-python",
   "name": "python",
   "nbconvert_exporter": "python",
   "pygments_lexer": "ipython3",
   "version": "3.9.19"
  },
  "toc": {
   "base_numbering": 1,
   "nav_menu": {},
   "number_sections": true,
   "sideBar": true,
   "skip_h1_title": false,
   "title_cell": "Table of Contents",
   "title_sidebar": "Contents",
   "toc_cell": false,
   "toc_position": {
    "height": "calc(100% - 180px)",
    "left": "10px",
    "top": "150px",
    "width": "270px"
   },
   "toc_section_display": true,
   "toc_window_display": false
  }
 },
 "nbformat": 4,
 "nbformat_minor": 1
}
